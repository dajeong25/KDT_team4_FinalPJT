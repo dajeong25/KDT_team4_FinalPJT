{
 "cells": [
  {
   "attachments": {},
   "cell_type": "markdown",
   "metadata": {},
   "source": [
    "- 참고 링크 : https://gwkim.tistory.com/m/2"
   ]
  },
  {
   "cell_type": "code",
   "execution_count": 2,
   "metadata": {},
   "outputs": [],
   "source": [
    "# 라이브러리 import \n",
    "from bs4 import BeautifulSoup\n",
    "import requests\n",
    "import time \n",
    "import random \n",
    "from tqdm import tqdm \n",
    "from collections import defaultdict \n",
    "import json\n",
    "import pandas as pd\n",
    "\n",
    "# 파라미터 및 관련 변수 설정\n",
    "# 원하는 주소의 위 , 경도 주소가 필요!\n",
    "\n",
    "#url = 'https://www.yogiyo.co.kr/api/v1/restaurants/1115073/menu/'\n",
    "url = 'https://www.yogiyo.co.kr/api/v1/restaurants-geo/'\n",
    "api_key = 'fe5183cc3dea12bd0ce299cf110a75a2'\n",
    "\n",
    "## 특정 위경도의 \"치킨\" 카테고리를 조회 \n",
    "parameters = {\"category\" : \"한식\" ,\n",
    "#              \"items\" : 20 ,\n",
    "            \"lat\" : 37.5565050755347,\n",
    "            \"lng\" : 126.939656244325,\n",
    "#             \"order\" : 'review_count', ## 정렬 기준\n",
    "            \"page\" : 0\n",
    "             }\n",
    "headers = {'X-ApiSecret':api_key,'X-ApiKey':\"iphoneap\"}\n",
    "res = requests.get(url,params=parameters, headers=headers)\n",
    "info = json.loads(res.content)"
   ]
  },
  {
   "cell_type": "code",
   "execution_count": 24,
   "metadata": {},
   "outputs": [],
   "source": [
    "with open('../프로젝트_최종/요기요.json', 'w') as outfile:\n",
    "    json.dump(info, outfile, indent=4)"
   ]
  },
  {
   "cell_type": "code",
   "execution_count": 3,
   "metadata": {},
   "outputs": [
    {
     "name": "stdout",
     "output_type": "stream",
     "text": [
      "(100, 5)\n",
      "<class 'pandas.core.frame.DataFrame'>\n",
      "RangeIndex: 100 entries, 0 to 99\n",
      "Data columns (total 5 columns):\n",
      " #   Column                   Non-Null Count  Dtype \n",
      "---  ------                   --------------  ----- \n",
      " 0   id                       100 non-null    int64 \n",
      " 1   name                     100 non-null    object\n",
      " 2   address                  100 non-null    object\n",
      " 3   estimated_delivery_time  100 non-null    object\n",
      " 4   min_order_amount         100 non-null    int64 \n",
      "dtypes: int64(2), object(3)\n",
      "memory usage: 4.0+ KB\n",
      "None\n"
     ]
    }
   ],
   "source": [
    "##  필요한 항목 \n",
    "key_list =[\"id\" , \"name\" , \"address\" , \"estimated_delivery_time\" ,\"min_order_amount\"]\n",
    "## dataframe 만들기 \n",
    "df_list =[]\n",
    "for idx in range(len(info[\"restaurants\"])):\n",
    "    info_list=[]\n",
    "    for key in key_list:\n",
    "        info_list.append(info[\"restaurants\"][idx][key])\n",
    "    df_list.append(info_list)\n",
    "    \n",
    "## dataframe으로 표출하기 \n",
    "df = pd.DataFrame(df_list , columns = key_list)\n",
    "\n",
    "print(df.shape)  ##(280, 5)\n",
    "print(df.info()) "
   ]
  },
  {
   "cell_type": "code",
   "execution_count": 4,
   "metadata": {},
   "outputs": [
    {
     "data": {
      "text/html": [
       "<div>\n",
       "<style scoped>\n",
       "    .dataframe tbody tr th:only-of-type {\n",
       "        vertical-align: middle;\n",
       "    }\n",
       "\n",
       "    .dataframe tbody tr th {\n",
       "        vertical-align: top;\n",
       "    }\n",
       "\n",
       "    .dataframe thead th {\n",
       "        text-align: right;\n",
       "    }\n",
       "</style>\n",
       "<table border=\"1\" class=\"dataframe\">\n",
       "  <thead>\n",
       "    <tr style=\"text-align: right;\">\n",
       "      <th></th>\n",
       "      <th>id</th>\n",
       "      <th>name</th>\n",
       "      <th>address</th>\n",
       "      <th>estimated_delivery_time</th>\n",
       "      <th>min_order_amount</th>\n",
       "    </tr>\n",
       "  </thead>\n",
       "  <tbody>\n",
       "    <tr>\n",
       "      <th>0</th>\n",
       "      <td>1138033</td>\n",
       "      <td>엽전식당-연남점</td>\n",
       "      <td>서울특별시 마포구 연남동 227-34 1층</td>\n",
       "      <td>65~75분</td>\n",
       "      <td>9000</td>\n",
       "    </tr>\n",
       "    <tr>\n",
       "      <th>1</th>\n",
       "      <td>377422</td>\n",
       "      <td>백순대본가새맛-연대점</td>\n",
       "      <td>서울특별시 서대문구 창천동 52-149 1층</td>\n",
       "      <td>45~55분</td>\n",
       "      <td>5000</td>\n",
       "    </tr>\n",
       "  </tbody>\n",
       "</table>\n",
       "</div>"
      ],
      "text/plain": [
       "        id         name                   address estimated_delivery_time  \\\n",
       "0  1138033     엽전식당-연남점   서울특별시 마포구 연남동 227-34 1층                  65~75분   \n",
       "1   377422  백순대본가새맛-연대점  서울특별시 서대문구 창천동 52-149 1층                  45~55분   \n",
       "\n",
       "   min_order_amount  \n",
       "0              9000  \n",
       "1              5000  "
      ]
     },
     "execution_count": 4,
     "metadata": {},
     "output_type": "execute_result"
    }
   ],
   "source": [
    "df.head(2)"
   ]
  },
  {
   "cell_type": "code",
   "execution_count": null,
   "metadata": {},
   "outputs": [],
   "source": []
  }
 ],
 "metadata": {
  "kernelspec": {
   "display_name": "base",
   "language": "python",
   "name": "python3"
  },
  "language_info": {
   "codemirror_mode": {
    "name": "ipython",
    "version": 3
   },
   "file_extension": ".py",
   "mimetype": "text/x-python",
   "name": "python",
   "nbconvert_exporter": "python",
   "pygments_lexer": "ipython3",
   "version": "3.9.12"
  },
  "orig_nbformat": 4,
  "vscode": {
   "interpreter": {
    "hash": "631926b96873d2007fbe5ba14401cac9ce99e5e76ded0bffc18be58f3fefa61b"
   }
  }
 },
 "nbformat": 4,
 "nbformat_minor": 2
}
