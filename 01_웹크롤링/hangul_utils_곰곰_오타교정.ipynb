{
  "nbformat": 4,
  "nbformat_minor": 0,
  "metadata": {
    "colab": {
      "provenance": []
    },
    "kernelspec": {
      "name": "python3",
      "display_name": "Python 3"
    },
    "language_info": {
      "name": "python"
    }
  },
  "cells": [
    {
      "cell_type": "code",
      "source": [
        "from google.colab import drive\n",
        "drive.mount('/content/drive')\n",
        "%cd /content/drive/My Drive"
      ],
      "metadata": {
        "colab": {
          "base_uri": "https://localhost:8080/"
        },
        "id": "S2mx3Ro79gE1",
        "outputId": "d3bd202d-a066-4c3a-9357-226b371b0456"
      },
      "execution_count": 1,
      "outputs": [
        {
          "output_type": "stream",
          "name": "stdout",
          "text": [
            "Drive already mounted at /content/drive; to attempt to forcibly remount, call drive.mount(\"/content/drive\", force_remount=True).\n",
            "/content/drive/My Drive\n"
          ]
        }
      ]
    },
    {
      "cell_type": "code",
      "execution_count": 2,
      "metadata": {
        "colab": {
          "base_uri": "https://localhost:8080/"
        },
        "id": "KN7jByVB9L5a",
        "outputId": "95ca344c-2a9b-4285-debf-46de5112e0e0"
      },
      "outputs": [
        {
          "output_type": "stream",
          "name": "stdout",
          "text": [
            "Looking in indexes: https://pypi.org/simple, https://us-python.pkg.dev/colab-wheels/public/simple/\n",
            "Requirement already satisfied: symspellpy in /usr/local/lib/python3.8/dist-packages (6.7.0)\n",
            "Requirement already satisfied: jamo in /usr/local/lib/python3.8/dist-packages (0.4.1)\n",
            "Requirement already satisfied: hangul_utils in /usr/local/lib/python3.8/dist-packages (0.2)\n",
            "Requirement already satisfied: numpy>=1.13.1 in /usr/local/lib/python3.8/dist-packages (from symspellpy) (1.21.6)\n",
            "Looking in indexes: https://pypi.org/simple, https://us-python.pkg.dev/colab-wheels/public/simple/\n",
            "Requirement already satisfied: symspellpy-ko in /usr/local/lib/python3.8/dist-packages (0.1.4)\n",
            "Requirement already satisfied: symspellpy==6.7.0 in /usr/local/lib/python3.8/dist-packages (from symspellpy-ko) (6.7.0)\n",
            "Requirement already satisfied: numpy>=1.13.1 in /usr/local/lib/python3.8/dist-packages (from symspellpy==6.7.0->symspellpy-ko) (1.21.6)\n",
            "--2022-12-27 01:09:12--  https://raw.githubusercontent.com/hermitdave/FrequencyWords/master/content/2018/ko/ko_50k.txt\n",
            "Resolving raw.githubusercontent.com (raw.githubusercontent.com)... 185.199.111.133, 185.199.109.133, 185.199.108.133, ...\n",
            "Connecting to raw.githubusercontent.com (raw.githubusercontent.com)|185.199.111.133|:443... connected.\n",
            "HTTP request sent, awaiting response... 200 OK\n",
            "Length: 695053 (679K) [text/plain]\n",
            "Saving to: ‘ko_50k.txt.2’\n",
            "\n",
            "ko_50k.txt.2        100%[===================>] 678.76K  --.-KB/s    in 0.04s   \n",
            "\n",
            "2022-12-27 01:09:12 (15.5 MB/s) - ‘ko_50k.txt.2’ saved [695053/695053]\n",
            "\n"
          ]
        }
      ],
      "source": [
        "!pip install symspellpy jamo hangul_utils\n",
        "!pip install symspellpy-ko\n",
        "!wget https://raw.githubusercontent.com/hermitdave/FrequencyWords/master/content/2018/ko/ko_50k.txt\n",
        "from symspellpy import SymSpell, Verbosity\n",
        "from symspellpy_ko import KoSymSpell, Verbosity\n",
        "from hangul_utils import split_syllable_char, split_syllables, join_jamos\n",
        "from jamo import h2j, j2hcj\n",
        "import pandas as pd\n",
        "import unicodedata"
      ]
    },
    {
      "cell_type": "code",
      "source": [
        "import pickle"
      ],
      "metadata": {
        "id": "PsO-nbGMN-hp"
      },
      "execution_count": 10,
      "outputs": []
    },
    {
      "cell_type": "code",
      "source": [
        "def to_jamos(text):\n",
        "  return j2hcj(h2j(text))"
      ],
      "metadata": {
        "id": "stY3ARzh9ppb"
      },
      "execution_count": 4,
      "outputs": []
    },
    {
      "cell_type": "markdown",
      "source": [
        "# 만개의 레시피 재료 목록 자소 분리"
      ],
      "metadata": {
        "id": "OnLnt7eJJTS4"
      }
    },
    {
      "cell_type": "code",
      "source": [
        "with open('만개의레시피_재료_목록_오타처리용.pickle','rb') as f:\n",
        "  vocab = pickle.load(f)"
      ],
      "metadata": {
        "id": "nAVaYoU3QsOf"
      },
      "execution_count": 28,
      "outputs": []
    },
    {
      "cell_type": "code",
      "source": [
        "def countLetters(word):\n",
        "    counter = {}\n",
        "    for letter in word:\n",
        "        if letter not in counter:\n",
        "            counter[letter]=0\n",
        "        counter[letter] +=1\n",
        "    return counter\n",
        "\n",
        "dict1 = countLetters(vocab)"
      ],
      "metadata": {
        "id": "LM1rJVQP-k6z"
      },
      "execution_count": 29,
      "outputs": []
    },
    {
      "cell_type": "code",
      "source": [
        "vocab = pd.DataFrame(dict1, index=['count']).T\n",
        "vocab.reset_index(inplace=True)\n",
        "vocab.columns = [\"term\", \"count\"]\n",
        "vocab.head()"
      ],
      "metadata": {
        "colab": {
          "base_uri": "https://localhost:8080/",
          "height": 206
        },
        "id": "KYtSWAfxQxiM",
        "outputId": "230ca1ac-eb14-4787-a89d-65f7d4605385"
      },
      "execution_count": 48,
      "outputs": [
        {
          "output_type": "execute_result",
          "data": {
            "text/plain": [
              "   term  count\n",
              "0    두부   5934\n",
              "1    당근  13820\n",
              "2    고추   2015\n",
              "3  브로콜리   1212\n",
              "4    새우   2084"
            ],
            "text/html": [
              "\n",
              "  <div id=\"df-36998ed4-baa8-4cc7-9172-4a657fc22f29\">\n",
              "    <div class=\"colab-df-container\">\n",
              "      <div>\n",
              "<style scoped>\n",
              "    .dataframe tbody tr th:only-of-type {\n",
              "        vertical-align: middle;\n",
              "    }\n",
              "\n",
              "    .dataframe tbody tr th {\n",
              "        vertical-align: top;\n",
              "    }\n",
              "\n",
              "    .dataframe thead th {\n",
              "        text-align: right;\n",
              "    }\n",
              "</style>\n",
              "<table border=\"1\" class=\"dataframe\">\n",
              "  <thead>\n",
              "    <tr style=\"text-align: right;\">\n",
              "      <th></th>\n",
              "      <th>term</th>\n",
              "      <th>count</th>\n",
              "    </tr>\n",
              "  </thead>\n",
              "  <tbody>\n",
              "    <tr>\n",
              "      <th>0</th>\n",
              "      <td>두부</td>\n",
              "      <td>5934</td>\n",
              "    </tr>\n",
              "    <tr>\n",
              "      <th>1</th>\n",
              "      <td>당근</td>\n",
              "      <td>13820</td>\n",
              "    </tr>\n",
              "    <tr>\n",
              "      <th>2</th>\n",
              "      <td>고추</td>\n",
              "      <td>2015</td>\n",
              "    </tr>\n",
              "    <tr>\n",
              "      <th>3</th>\n",
              "      <td>브로콜리</td>\n",
              "      <td>1212</td>\n",
              "    </tr>\n",
              "    <tr>\n",
              "      <th>4</th>\n",
              "      <td>새우</td>\n",
              "      <td>2084</td>\n",
              "    </tr>\n",
              "  </tbody>\n",
              "</table>\n",
              "</div>\n",
              "      <button class=\"colab-df-convert\" onclick=\"convertToInteractive('df-36998ed4-baa8-4cc7-9172-4a657fc22f29')\"\n",
              "              title=\"Convert this dataframe to an interactive table.\"\n",
              "              style=\"display:none;\">\n",
              "        \n",
              "  <svg xmlns=\"http://www.w3.org/2000/svg\" height=\"24px\"viewBox=\"0 0 24 24\"\n",
              "       width=\"24px\">\n",
              "    <path d=\"M0 0h24v24H0V0z\" fill=\"none\"/>\n",
              "    <path d=\"M18.56 5.44l.94 2.06.94-2.06 2.06-.94-2.06-.94-.94-2.06-.94 2.06-2.06.94zm-11 1L8.5 8.5l.94-2.06 2.06-.94-2.06-.94L8.5 2.5l-.94 2.06-2.06.94zm10 10l.94 2.06.94-2.06 2.06-.94-2.06-.94-.94-2.06-.94 2.06-2.06.94z\"/><path d=\"M17.41 7.96l-1.37-1.37c-.4-.4-.92-.59-1.43-.59-.52 0-1.04.2-1.43.59L10.3 9.45l-7.72 7.72c-.78.78-.78 2.05 0 2.83L4 21.41c.39.39.9.59 1.41.59.51 0 1.02-.2 1.41-.59l7.78-7.78 2.81-2.81c.8-.78.8-2.07 0-2.86zM5.41 20L4 18.59l7.72-7.72 1.47 1.35L5.41 20z\"/>\n",
              "  </svg>\n",
              "      </button>\n",
              "      \n",
              "  <style>\n",
              "    .colab-df-container {\n",
              "      display:flex;\n",
              "      flex-wrap:wrap;\n",
              "      gap: 12px;\n",
              "    }\n",
              "\n",
              "    .colab-df-convert {\n",
              "      background-color: #E8F0FE;\n",
              "      border: none;\n",
              "      border-radius: 50%;\n",
              "      cursor: pointer;\n",
              "      display: none;\n",
              "      fill: #1967D2;\n",
              "      height: 32px;\n",
              "      padding: 0 0 0 0;\n",
              "      width: 32px;\n",
              "    }\n",
              "\n",
              "    .colab-df-convert:hover {\n",
              "      background-color: #E2EBFA;\n",
              "      box-shadow: 0px 1px 2px rgba(60, 64, 67, 0.3), 0px 1px 3px 1px rgba(60, 64, 67, 0.15);\n",
              "      fill: #174EA6;\n",
              "    }\n",
              "\n",
              "    [theme=dark] .colab-df-convert {\n",
              "      background-color: #3B4455;\n",
              "      fill: #D2E3FC;\n",
              "    }\n",
              "\n",
              "    [theme=dark] .colab-df-convert:hover {\n",
              "      background-color: #434B5C;\n",
              "      box-shadow: 0px 1px 3px 1px rgba(0, 0, 0, 0.15);\n",
              "      filter: drop-shadow(0px 1px 2px rgba(0, 0, 0, 0.3));\n",
              "      fill: #FFFFFF;\n",
              "    }\n",
              "  </style>\n",
              "\n",
              "      <script>\n",
              "        const buttonEl =\n",
              "          document.querySelector('#df-36998ed4-baa8-4cc7-9172-4a657fc22f29 button.colab-df-convert');\n",
              "        buttonEl.style.display =\n",
              "          google.colab.kernel.accessAllowed ? 'block' : 'none';\n",
              "\n",
              "        async function convertToInteractive(key) {\n",
              "          const element = document.querySelector('#df-36998ed4-baa8-4cc7-9172-4a657fc22f29');\n",
              "          const dataTable =\n",
              "            await google.colab.kernel.invokeFunction('convertToInteractive',\n",
              "                                                     [key], {});\n",
              "          if (!dataTable) return;\n",
              "\n",
              "          const docLinkHtml = 'Like what you see? Visit the ' +\n",
              "            '<a target=\"_blank\" href=https://colab.research.google.com/notebooks/data_table.ipynb>data table notebook</a>'\n",
              "            + ' to learn more about interactive tables.';\n",
              "          element.innerHTML = '';\n",
              "          dataTable['output_type'] = 'display_data';\n",
              "          await google.colab.output.renderOutput(dataTable, element);\n",
              "          const docLink = document.createElement('div');\n",
              "          docLink.innerHTML = docLinkHtml;\n",
              "          element.appendChild(docLink);\n",
              "        }\n",
              "      </script>\n",
              "    </div>\n",
              "  </div>\n",
              "  "
            ]
          },
          "metadata": {},
          "execution_count": 48
        }
      ]
    },
    {
      "cell_type": "code",
      "source": [
        "vocab.info()"
      ],
      "metadata": {
        "colab": {
          "base_uri": "https://localhost:8080/"
        },
        "id": "4MFPxUddDwwH",
        "outputId": "5f6c3523-9379-4992-fcd7-564a69e41ed8"
      },
      "execution_count": 49,
      "outputs": [
        {
          "output_type": "stream",
          "name": "stdout",
          "text": [
            "<class 'pandas.core.frame.DataFrame'>\n",
            "RangeIndex: 20706 entries, 0 to 20705\n",
            "Data columns (total 2 columns):\n",
            " #   Column  Non-Null Count  Dtype \n",
            "---  ------  --------------  ----- \n",
            " 0   term    20706 non-null  object\n",
            " 1   count   20706 non-null  int64 \n",
            "dtypes: int64(1), object(1)\n",
            "memory usage: 323.7+ KB\n"
          ]
        }
      ]
    },
    {
      "cell_type": "code",
      "source": [
        "vocab.term = vocab.term.map(to_jamos)\n",
        "vocab.to_csv(\"만개의레시피_재료_목록_오타처리용_decomposed.txt\", sep=\" \", header=None, index=None)\n",
        "vocab.head()"
      ],
      "metadata": {
        "colab": {
          "base_uri": "https://localhost:8080/",
          "height": 206
        },
        "id": "uIFkAsokJRlD",
        "outputId": "765092f9-259f-4127-ebb6-436d806651dc"
      },
      "execution_count": 50,
      "outputs": [
        {
          "output_type": "execute_result",
          "data": {
            "text/plain": [
              "        term  count\n",
              "0       ㄷㅜㅂㅜ   5934\n",
              "1     ㄷㅏㅇㄱㅡㄴ  13820\n",
              "2       ㄱㅗㅊㅜ   2015\n",
              "3  ㅂㅡㄹㅗㅋㅗㄹㄹㅣ   1212\n",
              "4       ㅅㅐㅇㅜ   2084"
            ],
            "text/html": [
              "\n",
              "  <div id=\"df-183f2890-e87d-469f-9d34-8ee61cd0083a\">\n",
              "    <div class=\"colab-df-container\">\n",
              "      <div>\n",
              "<style scoped>\n",
              "    .dataframe tbody tr th:only-of-type {\n",
              "        vertical-align: middle;\n",
              "    }\n",
              "\n",
              "    .dataframe tbody tr th {\n",
              "        vertical-align: top;\n",
              "    }\n",
              "\n",
              "    .dataframe thead th {\n",
              "        text-align: right;\n",
              "    }\n",
              "</style>\n",
              "<table border=\"1\" class=\"dataframe\">\n",
              "  <thead>\n",
              "    <tr style=\"text-align: right;\">\n",
              "      <th></th>\n",
              "      <th>term</th>\n",
              "      <th>count</th>\n",
              "    </tr>\n",
              "  </thead>\n",
              "  <tbody>\n",
              "    <tr>\n",
              "      <th>0</th>\n",
              "      <td>ㄷㅜㅂㅜ</td>\n",
              "      <td>5934</td>\n",
              "    </tr>\n",
              "    <tr>\n",
              "      <th>1</th>\n",
              "      <td>ㄷㅏㅇㄱㅡㄴ</td>\n",
              "      <td>13820</td>\n",
              "    </tr>\n",
              "    <tr>\n",
              "      <th>2</th>\n",
              "      <td>ㄱㅗㅊㅜ</td>\n",
              "      <td>2015</td>\n",
              "    </tr>\n",
              "    <tr>\n",
              "      <th>3</th>\n",
              "      <td>ㅂㅡㄹㅗㅋㅗㄹㄹㅣ</td>\n",
              "      <td>1212</td>\n",
              "    </tr>\n",
              "    <tr>\n",
              "      <th>4</th>\n",
              "      <td>ㅅㅐㅇㅜ</td>\n",
              "      <td>2084</td>\n",
              "    </tr>\n",
              "  </tbody>\n",
              "</table>\n",
              "</div>\n",
              "      <button class=\"colab-df-convert\" onclick=\"convertToInteractive('df-183f2890-e87d-469f-9d34-8ee61cd0083a')\"\n",
              "              title=\"Convert this dataframe to an interactive table.\"\n",
              "              style=\"display:none;\">\n",
              "        \n",
              "  <svg xmlns=\"http://www.w3.org/2000/svg\" height=\"24px\"viewBox=\"0 0 24 24\"\n",
              "       width=\"24px\">\n",
              "    <path d=\"M0 0h24v24H0V0z\" fill=\"none\"/>\n",
              "    <path d=\"M18.56 5.44l.94 2.06.94-2.06 2.06-.94-2.06-.94-.94-2.06-.94 2.06-2.06.94zm-11 1L8.5 8.5l.94-2.06 2.06-.94-2.06-.94L8.5 2.5l-.94 2.06-2.06.94zm10 10l.94 2.06.94-2.06 2.06-.94-2.06-.94-.94-2.06-.94 2.06-2.06.94z\"/><path d=\"M17.41 7.96l-1.37-1.37c-.4-.4-.92-.59-1.43-.59-.52 0-1.04.2-1.43.59L10.3 9.45l-7.72 7.72c-.78.78-.78 2.05 0 2.83L4 21.41c.39.39.9.59 1.41.59.51 0 1.02-.2 1.41-.59l7.78-7.78 2.81-2.81c.8-.78.8-2.07 0-2.86zM5.41 20L4 18.59l7.72-7.72 1.47 1.35L5.41 20z\"/>\n",
              "  </svg>\n",
              "      </button>\n",
              "      \n",
              "  <style>\n",
              "    .colab-df-container {\n",
              "      display:flex;\n",
              "      flex-wrap:wrap;\n",
              "      gap: 12px;\n",
              "    }\n",
              "\n",
              "    .colab-df-convert {\n",
              "      background-color: #E8F0FE;\n",
              "      border: none;\n",
              "      border-radius: 50%;\n",
              "      cursor: pointer;\n",
              "      display: none;\n",
              "      fill: #1967D2;\n",
              "      height: 32px;\n",
              "      padding: 0 0 0 0;\n",
              "      width: 32px;\n",
              "    }\n",
              "\n",
              "    .colab-df-convert:hover {\n",
              "      background-color: #E2EBFA;\n",
              "      box-shadow: 0px 1px 2px rgba(60, 64, 67, 0.3), 0px 1px 3px 1px rgba(60, 64, 67, 0.15);\n",
              "      fill: #174EA6;\n",
              "    }\n",
              "\n",
              "    [theme=dark] .colab-df-convert {\n",
              "      background-color: #3B4455;\n",
              "      fill: #D2E3FC;\n",
              "    }\n",
              "\n",
              "    [theme=dark] .colab-df-convert:hover {\n",
              "      background-color: #434B5C;\n",
              "      box-shadow: 0px 1px 3px 1px rgba(0, 0, 0, 0.15);\n",
              "      filter: drop-shadow(0px 1px 2px rgba(0, 0, 0, 0.3));\n",
              "      fill: #FFFFFF;\n",
              "    }\n",
              "  </style>\n",
              "\n",
              "      <script>\n",
              "        const buttonEl =\n",
              "          document.querySelector('#df-183f2890-e87d-469f-9d34-8ee61cd0083a button.colab-df-convert');\n",
              "        buttonEl.style.display =\n",
              "          google.colab.kernel.accessAllowed ? 'block' : 'none';\n",
              "\n",
              "        async function convertToInteractive(key) {\n",
              "          const element = document.querySelector('#df-183f2890-e87d-469f-9d34-8ee61cd0083a');\n",
              "          const dataTable =\n",
              "            await google.colab.kernel.invokeFunction('convertToInteractive',\n",
              "                                                     [key], {});\n",
              "          if (!dataTable) return;\n",
              "\n",
              "          const docLinkHtml = 'Like what you see? Visit the ' +\n",
              "            '<a target=\"_blank\" href=https://colab.research.google.com/notebooks/data_table.ipynb>data table notebook</a>'\n",
              "            + ' to learn more about interactive tables.';\n",
              "          element.innerHTML = '';\n",
              "          dataTable['output_type'] = 'display_data';\n",
              "          await google.colab.output.renderOutput(dataTable, element);\n",
              "          const docLink = document.createElement('div');\n",
              "          docLink.innerHTML = docLinkHtml;\n",
              "          element.appendChild(docLink);\n",
              "        }\n",
              "      </script>\n",
              "    </div>\n",
              "  </div>\n",
              "  "
            ]
          },
          "metadata": {},
          "execution_count": 50
        }
      ]
    },
    {
      "cell_type": "code",
      "source": [
        "# 저장했던 리스트 불러옴\n",
        "with open('gom_typo.pkl','rb') as f:\n",
        "  gom = pickle.load(f)"
      ],
      "metadata": {
        "id": "0JUA2qPI9mHz"
      },
      "execution_count": 56,
      "outputs": []
    },
    {
      "cell_type": "code",
      "source": [
        "for g in gom:\n",
        "  idx = g.index('있어요')\n",
        "  del g[0:idx + 1]\n",
        "  \n",
        "  if '일은' in g :\n",
        "    idx = g.index('일은')\n",
        "    del g[idx :]\n",
        "\n",
        "  elif 'ㅇㅇ' in g :\n",
        "    idx = g.index('ㅇㅇ')\n",
        "    del g[idx :]\n",
        "  \n",
        "  else:\n",
        "    pass\n",
        "\n",
        "sym_spell = SymSpell(max_dictionary_edit_distance = 3)\n",
        "dictionary_path = '만개의레시피_재료_목록_오타처리용_decomposed.txt'\n",
        "sym_spell.load_dictionary(dictionary_path, 0, 1)"
      ],
      "metadata": {
        "colab": {
          "base_uri": "https://localhost:8080/"
        },
        "id": "yT0E17xeN6wC",
        "outputId": "890e9321-e326-44bc-bee9-1bad3b0a4308"
      },
      "execution_count": 57,
      "outputs": [
        {
          "output_type": "execute_result",
          "data": {
            "text/plain": [
              "True"
            ]
          },
          "metadata": {},
          "execution_count": 57
        }
      ]
    },
    {
      "cell_type": "code",
      "source": [
        "# gom_typo_fix에 오타 교정된 재료 목록 저장\n",
        "gom_typo_fix = []\n",
        "for g in gom:\n",
        "  g_typo_fix = []\n",
        "  for term in g:\n",
        "    term = split_syllables(term) \n",
        "    suggestions = sym_spell.lookup(term, Verbosity.ALL, max_edit_distance = 3)\n",
        "    for sugg in suggestions :\n",
        "      if sugg.distance < 2:\n",
        "        typofix = join_jamos(sugg.term)\n",
        "        g_typo_fix.append(typofix)\n",
        "        break\n",
        "      else:\n",
        "        pass\n",
        "  gom_typo_fix.append(g_typo_fix)\n"
      ],
      "metadata": {
        "id": "pBQD3tGBOvoZ"
      },
      "execution_count": 58,
      "outputs": []
    },
    {
      "cell_type": "markdown",
      "source": [
        "# gom_typo_fix를 다시 피클로 저장"
      ],
      "metadata": {
        "id": "cX--EMn8LEX9"
      }
    },
    {
      "cell_type": "code",
      "source": [
        "#gom_typo_fix를 다시 피클로 저장\n",
        "with open('gom_typo_fix.pkl','wb') as f:\n",
        "    pickle.dump(gom_typo_fix,f)\n"
      ],
      "metadata": {
        "id": "cd7LUg_ELCC5"
      },
      "execution_count": 60,
      "outputs": []
    }
  ]
}