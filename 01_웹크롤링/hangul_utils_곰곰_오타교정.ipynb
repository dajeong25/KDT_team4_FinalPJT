{
  "nbformat": 4,
  "nbformat_minor": 0,
  "metadata": {
    "colab": {
      "provenance": [],
      "mount_file_id": "1h2c5DXC_vgaA_Kyio7qyp_P4Zi-IneYC",
      "authorship_tag": "ABX9TyPBGmb3OkBA00tDZeu4Rs05",
      "include_colab_link": true
    },
    "kernelspec": {
      "name": "python3",
      "display_name": "Python 3"
    },
    "language_info": {
      "name": "python"
    }
  },
  "cells": [
    {
      "cell_type": "markdown",
      "metadata": {
        "id": "view-in-github",
        "colab_type": "text"
      },
      "source": [
        "<a href=\"https://colab.research.google.com/github/dajoeng/KDT_team4_FinalPJT/blob/main/01_%EC%9B%B9%ED%81%AC%EB%A1%A4%EB%A7%81/hangul_utils_%EA%B3%B0%EA%B3%B0_%EC%98%A4%ED%83%80%EA%B5%90%EC%A0%95.ipynb\" target=\"_parent\"><img src=\"https://colab.research.google.com/assets/colab-badge.svg\" alt=\"Open In Colab\"/></a>"
      ]
    },
    {
      "cell_type": "code",
      "source": [
        "from google.colab import drive\n",
        "drive.mount('/content/drive')\n",
        "%cd /content/drive/My Drive"
      ],
      "metadata": {
        "colab": {
          "base_uri": "https://localhost:8080/"
        },
        "id": "S2mx3Ro79gE1",
        "outputId": "f07adac3-9600-4408-b39b-c6aa4e9b4898"
      },
      "execution_count": 1,
      "outputs": [
        {
          "output_type": "stream",
          "name": "stdout",
          "text": [
            "Drive already mounted at /content/drive; to attempt to forcibly remount, call drive.mount(\"/content/drive\", force_remount=True).\n",
            "/content/drive/My Drive\n"
          ]
        }
      ]
    },
    {
      "cell_type": "code",
      "execution_count": 2,
      "metadata": {
        "id": "KN7jByVB9L5a"
      },
      "outputs": [],
      "source": [
        "!pip install symspellpy jamo hangul_utils\n",
        "!pip install symspellpy-ko\n",
        "!wget https://raw.githubusercontent.com/hermitdave/FrequencyWords/master/content/2018/ko/ko_50k.txt\n",
        "from symspellpy import SymSpell, Verbosity\n",
        "from symspellpy_ko import KoSymSpell, Verbosity\n",
        "from hangul_utils import split_syllable_char, split_syllables, join_jamos\n",
        "from jamo import h2j, j2hcj\n",
        "import pandas as pd\n",
        "import unicodedata"
      ]
    },
    {
      "cell_type": "code",
      "source": [
        "import pickle"
      ],
      "metadata": {
        "id": "PsO-nbGMN-hp"
      },
      "execution_count": 3,
      "outputs": []
    },
    {
      "cell_type": "code",
      "source": [
        "def to_jamos(text):\n",
        "  return j2hcj(h2j(text))"
      ],
      "metadata": {
        "id": "stY3ARzh9ppb"
      },
      "execution_count": null,
      "outputs": []
    },
    {
      "cell_type": "markdown",
      "source": [
        "# 만개의 레시피 재료 목록 자소 분리"
      ],
      "metadata": {
        "id": "OnLnt7eJJTS4"
      }
    },
    {
      "cell_type": "code",
      "source": [
        "with open('만개의레시피_재료_목록_오타처리용.pickle','rb') as f:\n",
        "  vocab = pickle.load(f)\n",
        "\n",
        "vocab = pd.DataFrame(vocab, index=['count']).T\n",
        "vocab.reset_index(inplace=True)\n",
        "vocab.columns = [\"term\", \"count\"]\n",
        "vocab.head()"
      ],
      "metadata": {
        "id": "nAVaYoU3QsOf",
        "colab": {
          "base_uri": "https://localhost:8080/",
          "height": 206
        },
        "outputId": "09cd7fe0-5eb0-485f-a0af-2e281d2b5182"
      },
      "execution_count": 6,
      "outputs": [
        {
          "output_type": "execute_result",
          "data": {
            "text/plain": [
              "  term  count\n",
              "0   현미     78\n",
              "1   찹쌀    682\n",
              "2   호두    450\n",
              "3    물  24128\n",
              "4   소금  32422"
            ],
            "text/html": [
              "\n",
              "  <div id=\"df-3390edee-ac15-4393-9166-bd0261fc7b2d\">\n",
              "    <div class=\"colab-df-container\">\n",
              "      <div>\n",
              "<style scoped>\n",
              "    .dataframe tbody tr th:only-of-type {\n",
              "        vertical-align: middle;\n",
              "    }\n",
              "\n",
              "    .dataframe tbody tr th {\n",
              "        vertical-align: top;\n",
              "    }\n",
              "\n",
              "    .dataframe thead th {\n",
              "        text-align: right;\n",
              "    }\n",
              "</style>\n",
              "<table border=\"1\" class=\"dataframe\">\n",
              "  <thead>\n",
              "    <tr style=\"text-align: right;\">\n",
              "      <th></th>\n",
              "      <th>term</th>\n",
              "      <th>count</th>\n",
              "    </tr>\n",
              "  </thead>\n",
              "  <tbody>\n",
              "    <tr>\n",
              "      <th>0</th>\n",
              "      <td>현미</td>\n",
              "      <td>78</td>\n",
              "    </tr>\n",
              "    <tr>\n",
              "      <th>1</th>\n",
              "      <td>찹쌀</td>\n",
              "      <td>682</td>\n",
              "    </tr>\n",
              "    <tr>\n",
              "      <th>2</th>\n",
              "      <td>호두</td>\n",
              "      <td>450</td>\n",
              "    </tr>\n",
              "    <tr>\n",
              "      <th>3</th>\n",
              "      <td>물</td>\n",
              "      <td>24128</td>\n",
              "    </tr>\n",
              "    <tr>\n",
              "      <th>4</th>\n",
              "      <td>소금</td>\n",
              "      <td>32422</td>\n",
              "    </tr>\n",
              "  </tbody>\n",
              "</table>\n",
              "</div>\n",
              "      <button class=\"colab-df-convert\" onclick=\"convertToInteractive('df-3390edee-ac15-4393-9166-bd0261fc7b2d')\"\n",
              "              title=\"Convert this dataframe to an interactive table.\"\n",
              "              style=\"display:none;\">\n",
              "        \n",
              "  <svg xmlns=\"http://www.w3.org/2000/svg\" height=\"24px\"viewBox=\"0 0 24 24\"\n",
              "       width=\"24px\">\n",
              "    <path d=\"M0 0h24v24H0V0z\" fill=\"none\"/>\n",
              "    <path d=\"M18.56 5.44l.94 2.06.94-2.06 2.06-.94-2.06-.94-.94-2.06-.94 2.06-2.06.94zm-11 1L8.5 8.5l.94-2.06 2.06-.94-2.06-.94L8.5 2.5l-.94 2.06-2.06.94zm10 10l.94 2.06.94-2.06 2.06-.94-2.06-.94-.94-2.06-.94 2.06-2.06.94z\"/><path d=\"M17.41 7.96l-1.37-1.37c-.4-.4-.92-.59-1.43-.59-.52 0-1.04.2-1.43.59L10.3 9.45l-7.72 7.72c-.78.78-.78 2.05 0 2.83L4 21.41c.39.39.9.59 1.41.59.51 0 1.02-.2 1.41-.59l7.78-7.78 2.81-2.81c.8-.78.8-2.07 0-2.86zM5.41 20L4 18.59l7.72-7.72 1.47 1.35L5.41 20z\"/>\n",
              "  </svg>\n",
              "      </button>\n",
              "      \n",
              "  <style>\n",
              "    .colab-df-container {\n",
              "      display:flex;\n",
              "      flex-wrap:wrap;\n",
              "      gap: 12px;\n",
              "    }\n",
              "\n",
              "    .colab-df-convert {\n",
              "      background-color: #E8F0FE;\n",
              "      border: none;\n",
              "      border-radius: 50%;\n",
              "      cursor: pointer;\n",
              "      display: none;\n",
              "      fill: #1967D2;\n",
              "      height: 32px;\n",
              "      padding: 0 0 0 0;\n",
              "      width: 32px;\n",
              "    }\n",
              "\n",
              "    .colab-df-convert:hover {\n",
              "      background-color: #E2EBFA;\n",
              "      box-shadow: 0px 1px 2px rgba(60, 64, 67, 0.3), 0px 1px 3px 1px rgba(60, 64, 67, 0.15);\n",
              "      fill: #174EA6;\n",
              "    }\n",
              "\n",
              "    [theme=dark] .colab-df-convert {\n",
              "      background-color: #3B4455;\n",
              "      fill: #D2E3FC;\n",
              "    }\n",
              "\n",
              "    [theme=dark] .colab-df-convert:hover {\n",
              "      background-color: #434B5C;\n",
              "      box-shadow: 0px 1px 3px 1px rgba(0, 0, 0, 0.15);\n",
              "      filter: drop-shadow(0px 1px 2px rgba(0, 0, 0, 0.3));\n",
              "      fill: #FFFFFF;\n",
              "    }\n",
              "  </style>\n",
              "\n",
              "      <script>\n",
              "        const buttonEl =\n",
              "          document.querySelector('#df-3390edee-ac15-4393-9166-bd0261fc7b2d button.colab-df-convert');\n",
              "        buttonEl.style.display =\n",
              "          google.colab.kernel.accessAllowed ? 'block' : 'none';\n",
              "\n",
              "        async function convertToInteractive(key) {\n",
              "          const element = document.querySelector('#df-3390edee-ac15-4393-9166-bd0261fc7b2d');\n",
              "          const dataTable =\n",
              "            await google.colab.kernel.invokeFunction('convertToInteractive',\n",
              "                                                     [key], {});\n",
              "          if (!dataTable) return;\n",
              "\n",
              "          const docLinkHtml = 'Like what you see? Visit the ' +\n",
              "            '<a target=\"_blank\" href=https://colab.research.google.com/notebooks/data_table.ipynb>data table notebook</a>'\n",
              "            + ' to learn more about interactive tables.';\n",
              "          element.innerHTML = '';\n",
              "          dataTable['output_type'] = 'display_data';\n",
              "          await google.colab.output.renderOutput(dataTable, element);\n",
              "          const docLink = document.createElement('div');\n",
              "          docLink.innerHTML = docLinkHtml;\n",
              "          element.appendChild(docLink);\n",
              "        }\n",
              "      </script>\n",
              "    </div>\n",
              "  </div>\n",
              "  "
            ]
          },
          "metadata": {},
          "execution_count": 6
        }
      ]
    },
    {
      "cell_type": "code",
      "source": [
        "vocab.info()"
      ],
      "metadata": {
        "colab": {
          "base_uri": "https://localhost:8080/"
        },
        "id": "4MFPxUddDwwH",
        "outputId": "9a0df4b5-df06-41fa-91cc-1168b492d0b6"
      },
      "execution_count": 7,
      "outputs": [
        {
          "output_type": "stream",
          "name": "stdout",
          "text": [
            "<class 'pandas.core.frame.DataFrame'>\n",
            "RangeIndex: 38482 entries, 0 to 38481\n",
            "Data columns (total 2 columns):\n",
            " #   Column  Non-Null Count  Dtype \n",
            "---  ------  --------------  ----- \n",
            " 0   term    38482 non-null  object\n",
            " 1   count   38482 non-null  int64 \n",
            "dtypes: int64(1), object(1)\n",
            "memory usage: 601.4+ KB\n"
          ]
        }
      ]
    },
    {
      "cell_type": "code",
      "source": [
        "vocab.term = vocab.term.map(to_jamos)\n",
        "vocab.to_csv(\"만개의레시피_재료_목록_오타처리용_decomposed.txt\", sep=\" \", header=None, index=None)\n",
        "vocab.head()"
      ],
      "metadata": {
        "id": "uIFkAsokJRlD"
      },
      "execution_count": null,
      "outputs": []
    },
    {
      "cell_type": "code",
      "source": [
        "# 저장했던 리스트 불러옴\n",
        "with open('gom_typo.pkl','rb') as f:\n",
        "  gom = pickle.load(f)"
      ],
      "metadata": {
        "id": "0JUA2qPI9mHz"
      },
      "execution_count": null,
      "outputs": []
    },
    {
      "cell_type": "code",
      "source": [
        "for g in gom:\n",
        "  idx = g.index('있어요')\n",
        "  del g[0:idx + 1]\n",
        "  \n",
        "  if '일은' in g :\n",
        "    idx = g.index('일은')\n",
        "    del g[idx :]\n",
        "\n",
        "  elif 'ㅇㅇ' in g :\n",
        "    idx = g.index('ㅇㅇ')\n",
        "    del g[idx :]\n",
        "  \n",
        "  else:\n",
        "    pass\n",
        "\n",
        "sym_spell = SymSpell(max_dictionary_edit_distance = 3)\n",
        "dictionary_path = '만개의레시피_재료_목록_오타처리용_decomposed.txt'\n",
        "sym_spell.load_dictionary(dictionary_path, 0, 1)"
      ],
      "metadata": {
        "colab": {
          "base_uri": "https://localhost:8080/"
        },
        "id": "yT0E17xeN6wC",
        "outputId": "cdafc2bc-9447-4759-e4d8-c5a9a846cf10"
      },
      "execution_count": null,
      "outputs": [
        {
          "output_type": "execute_result",
          "data": {
            "text/plain": [
              "True"
            ]
          },
          "metadata": {},
          "execution_count": 10
        }
      ]
    },
    {
      "cell_type": "code",
      "source": [
        "# gom_typo_fix에 오타 교정된 재료 목록 저장\n",
        "gom_typo_fix = []\n",
        "for g in gom:\n",
        "  g_typo_fix = []\n",
        "  for term in g:\n",
        "    term = split_syllables(term) \n",
        "    suggestions = sym_spell.lookup(term, Verbosity.ALL, max_edit_distance = 3)\n",
        "    for sugg in suggestions :\n",
        "      if sugg.distance < 2:\n",
        "        typofix = join_jamos(sugg.term)\n",
        "        g_typo_fix.append(typofix)\n",
        "        break\n",
        "      else:\n",
        "        pass\n",
        "  gom_typo_fix.append(g_typo_fix)\n"
      ],
      "metadata": {
        "id": "pBQD3tGBOvoZ"
      },
      "execution_count": null,
      "outputs": []
    },
    {
      "cell_type": "markdown",
      "source": [
        "# gom_typo_fix를 다시 피클로 저장"
      ],
      "metadata": {
        "id": "cX--EMn8LEX9"
      }
    },
    {
      "cell_type": "code",
      "source": [
        "#gom_typo_fix를 다시 피클로 저장\n",
        "with open('gom_typo_fix.pkl','wb') as f:\n",
        "    pickle.dump(gom_typo_fix,f)\n"
      ],
      "metadata": {
        "id": "cd7LUg_ELCC5"
      },
      "execution_count": null,
      "outputs": []
    }
  ]
}