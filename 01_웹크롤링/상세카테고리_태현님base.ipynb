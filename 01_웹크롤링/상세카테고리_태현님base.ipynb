{
 "cells": [
  {
   "cell_type": "code",
   "execution_count": 1,
   "id": "e572ef29",
   "metadata": {},
   "outputs": [],
   "source": [
    "import requests\n",
    "from bs4 import BeautifulSoup\n",
    "import re\n",
    "import pandas as pd\n",
    "import numpy as np\n",
    "\n",
    "df = pd.read_csv('coupang_filtering.csv', encoding='utf8')"
   ]
  },
  {
   "cell_type": "code",
   "execution_count": 2,
   "id": "0ede5bab",
   "metadata": {
    "scrolled": true
   },
   "outputs": [
    {
     "data": {
      "text/html": [
       "<div>\n",
       "<style scoped>\n",
       "    .dataframe tbody tr th:only-of-type {\n",
       "        vertical-align: middle;\n",
       "    }\n",
       "\n",
       "    .dataframe tbody tr th {\n",
       "        vertical-align: top;\n",
       "    }\n",
       "\n",
       "    .dataframe thead th {\n",
       "        text-align: right;\n",
       "    }\n",
       "</style>\n",
       "<table border=\"1\" class=\"dataframe\">\n",
       "  <thead>\n",
       "    <tr style=\"text-align: right;\">\n",
       "      <th></th>\n",
       "      <th>Unnamed: 0</th>\n",
       "      <th>카테고리명</th>\n",
       "      <th>상품id</th>\n",
       "      <th>data-item-id</th>\n",
       "      <th>data-vendor-item-id</th>\n",
       "      <th>상품</th>\n",
       "      <th>상품명</th>\n",
       "      <th>정가</th>\n",
       "      <th>할인율</th>\n",
       "      <th>판매가</th>\n",
       "      <th>100g당_가격</th>\n",
       "      <th>별점</th>\n",
       "      <th>리뷰수</th>\n",
       "      <th>품절여부</th>\n",
       "      <th>구성정보</th>\n",
       "      <th>구성정보_전처리</th>\n",
       "    </tr>\n",
       "  </thead>\n",
       "  <tbody>\n",
       "    <tr>\n",
       "      <th>0</th>\n",
       "      <td>0</td>\n",
       "      <td>1</td>\n",
       "      <td>1866720935</td>\n",
       "      <td>3172927841</td>\n",
       "      <td>71160443802</td>\n",
       "      <td>프레시지 대한곱창 곱창전골</td>\n",
       "      <td>프레시지 대한곱창 곱창전골, 1594g, 1개</td>\n",
       "      <td>26270</td>\n",
       "      <td>7%</td>\n",
       "      <td>24210</td>\n",
       "      <td>(100g당 1,519원)</td>\n",
       "      <td>4.5</td>\n",
       "      <td>11262</td>\n",
       "      <td>0</td>\n",
       "      <td>양념육(소곱창, 소대창), 전골용 육수, 새송이버섯, 느타리버섯, 소고기, 두부, ...</td>\n",
       "      <td>양념육,소곱창,소대창,전골용 육수,새송이버섯,느타리버섯,소고기,두부,배추,양파,깻잎...</td>\n",
       "    </tr>\n",
       "    <tr>\n",
       "      <th>1</th>\n",
       "      <td>1</td>\n",
       "      <td>1</td>\n",
       "      <td>293421715</td>\n",
       "      <td>926408953</td>\n",
       "      <td>5302203368</td>\n",
       "      <td>마이셰프 밀푀유나베 &amp; 칼국수</td>\n",
       "      <td>마이셰프 밀푀유나베 &amp; 칼국수, 1129g, 1개</td>\n",
       "      <td>16900</td>\n",
       "      <td>0</td>\n",
       "      <td>16900</td>\n",
       "      <td>(100g당 1,497원)</td>\n",
       "      <td>4.5</td>\n",
       "      <td>49201</td>\n",
       "      <td>0</td>\n",
       "      <td>소고기, 만두, 생면, 소스 2종, 육수, 표고버섯, 팽이버섯, 채소(배추, 청경채...</td>\n",
       "      <td>소고기,만두,생면,육수,표고버섯,팽이버섯,채소,배추,청경채,깻잎</td>\n",
       "    </tr>\n",
       "    <tr>\n",
       "      <th>2</th>\n",
       "      <td>2</td>\n",
       "      <td>1</td>\n",
       "      <td>4926044090</td>\n",
       "      <td>6464437521</td>\n",
       "      <td>73758857275</td>\n",
       "      <td>곰곰 밀푀유 나베</td>\n",
       "      <td>곰곰 밀푀유 나베, 1.2kg, 1세트</td>\n",
       "      <td>14990</td>\n",
       "      <td>0</td>\n",
       "      <td>14990</td>\n",
       "      <td>(100g당 1,249원)</td>\n",
       "      <td>4.5</td>\n",
       "      <td>15639</td>\n",
       "      <td>0</td>\n",
       "      <td>쇠고기, 새송이버섯, 표고버섯, 초간장소스, 칠리소스, 샤브용육수, 생면, 칼국수면...</td>\n",
       "      <td>쇠고기,새송이버섯,표고버섯,초간장소스,칠리소스,샤브용육수,생면,칼국수면,숙면,감자수...</td>\n",
       "    </tr>\n",
       "    <tr>\n",
       "      <th>3</th>\n",
       "      <td>3</td>\n",
       "      <td>1</td>\n",
       "      <td>1717552921</td>\n",
       "      <td>2923167957</td>\n",
       "      <td>70911802261</td>\n",
       "      <td>프레시지 더큰 햄가득 부대전골</td>\n",
       "      <td>프레시지 더큰 햄가득 부대전골, 868g, 1개</td>\n",
       "      <td>20810</td>\n",
       "      <td>28%</td>\n",
       "      <td>14900</td>\n",
       "      <td>(100g당 1,717원)</td>\n",
       "      <td>5.0</td>\n",
       "      <td>36322</td>\n",
       "      <td>0</td>\n",
       "      <td>소시지, 오뗄팜S, 프레스햄, 소고기, 치즈, 라면사리, 채소, 김치, 소스로 구성...</td>\n",
       "      <td>소시지,오뗄팜S,프레스햄,소고기,치즈,라면사리,채소,김치,소스</td>\n",
       "    </tr>\n",
       "    <tr>\n",
       "      <th>4</th>\n",
       "      <td>4</td>\n",
       "      <td>1</td>\n",
       "      <td>2202010823</td>\n",
       "      <td>3744622966</td>\n",
       "      <td>71729775756</td>\n",
       "      <td>미소프레쉬 6컵 푸짐한 대구탕</td>\n",
       "      <td>미소프레쉬 6컵 푸짐한 대구탕, 1225g, 1개</td>\n",
       "      <td>14200</td>\n",
       "      <td>0</td>\n",
       "      <td>14200</td>\n",
       "      <td>(100g당 1,159원)</td>\n",
       "      <td>4.5</td>\n",
       "      <td>12051</td>\n",
       "      <td>0</td>\n",
       "      <td>해물, 채소, 연두부, 다시팩, 소스로 구성되어 있습니다.</td>\n",
       "      <td>해물,채소,연두부,다시팩,소스</td>\n",
       "    </tr>\n",
       "    <tr>\n",
       "      <th>...</th>\n",
       "      <td>...</td>\n",
       "      <td>...</td>\n",
       "      <td>...</td>\n",
       "      <td>...</td>\n",
       "      <td>...</td>\n",
       "      <td>...</td>\n",
       "      <td>...</td>\n",
       "      <td>...</td>\n",
       "      <td>...</td>\n",
       "      <td>...</td>\n",
       "      <td>...</td>\n",
       "      <td>...</td>\n",
       "      <td>...</td>\n",
       "      <td>...</td>\n",
       "      <td>...</td>\n",
       "      <td>...</td>\n",
       "    </tr>\n",
       "    <tr>\n",
       "      <th>317</th>\n",
       "      <td>325</td>\n",
       "      <td>7</td>\n",
       "      <td>6410059410</td>\n",
       "      <td>13743233827</td>\n",
       "      <td>80994055849</td>\n",
       "      <td>쉐푸드 유자소스 멕시칸 파히타 밀키트 (냉동)</td>\n",
       "      <td>쉐푸드 유자소스 멕시칸 파히타 밀키트 (냉동), 655g, 1개</td>\n",
       "      <td>17900</td>\n",
       "      <td>0</td>\n",
       "      <td>17900</td>\n",
       "      <td>(100g당 2,733원)</td>\n",
       "      <td>4.5</td>\n",
       "      <td>10</td>\n",
       "      <td>1</td>\n",
       "      <td>또띠아, 소스, 올리브오일, 흰다리새우살, 닭가슴살, 채소(양파, 황파프리카, 홍파...</td>\n",
       "      <td>또띠아,소스,올리브오일,흰다리새우살,닭가슴살,채소,양파,황파프리카,홍파프리카,청피망</td>\n",
       "    </tr>\n",
       "    <tr>\n",
       "      <th>318</th>\n",
       "      <td>326</td>\n",
       "      <td>7</td>\n",
       "      <td>6635938377</td>\n",
       "      <td>15150332499</td>\n",
       "      <td>82371861026</td>\n",
       "      <td>쿡킷 동대문식 닭한마리 2인분 (냉동)</td>\n",
       "      <td>쿡킷 동대문식 닭한마리 2인분 (냉동), 1150g, 1개</td>\n",
       "      <td>17910</td>\n",
       "      <td>11%</td>\n",
       "      <td>15900</td>\n",
       "      <td>(100g당 1,383원)</td>\n",
       "      <td>4.5</td>\n",
       "      <td>260</td>\n",
       "      <td>1</td>\n",
       "      <td>양념 닭고기, 채소(감자, 대파), 다진 마늘, 떡과 칼국수 면, 치킨스톡으로 구성...</td>\n",
       "      <td>채소,감자,대파,다진마늘,떡,칼국수면,치킨스톡</td>\n",
       "    </tr>\n",
       "    <tr>\n",
       "      <th>319</th>\n",
       "      <td>327</td>\n",
       "      <td>7</td>\n",
       "      <td>6842831802</td>\n",
       "      <td>16276794016</td>\n",
       "      <td>83469464083</td>\n",
       "      <td>바다자리 생새우 갈릭버터쉬림프 1~2인분</td>\n",
       "      <td>바다자리 생새우 갈릭버터쉬림프 1~2인분, 300g, 1개</td>\n",
       "      <td>21600</td>\n",
       "      <td>0</td>\n",
       "      <td>21600</td>\n",
       "      <td>(100g당 7,200원)</td>\n",
       "      <td>5.0</td>\n",
       "      <td>3</td>\n",
       "      <td>1</td>\n",
       "      <td>새우, 야채 세트(양파, 마늘), 건고추, 하얀 설탕, 올리브 오일, 버터 후레시,...</td>\n",
       "      <td>새우,양파,마늘,건고추,올리브 오일,허브 솔트</td>\n",
       "    </tr>\n",
       "    <tr>\n",
       "      <th>320</th>\n",
       "      <td>328</td>\n",
       "      <td>7</td>\n",
       "      <td>6407831462</td>\n",
       "      <td>13729238438</td>\n",
       "      <td>80980206078</td>\n",
       "      <td>마이셰프 알찬 소고기 스키야키</td>\n",
       "      <td>마이셰프 알찬 소고기 스키야키, 1070g, 1개</td>\n",
       "      <td>16900</td>\n",
       "      <td>5%</td>\n",
       "      <td>15900</td>\n",
       "      <td>(100g당 1,486원)</td>\n",
       "      <td>4.5</td>\n",
       "      <td>207</td>\n",
       "      <td>1</td>\n",
       "      <td>소고기, 스키야키 육수, 해물 유부주머니와 두부 스틱, 폰즈 소스, 우동사리, 야채...</td>\n",
       "      <td>소고기,폰즈 소스,우동사리,야채,청경채,배추,대파,숙주나물,팽이버섯</td>\n",
       "    </tr>\n",
       "    <tr>\n",
       "      <th>321</th>\n",
       "      <td>329</td>\n",
       "      <td>7</td>\n",
       "      <td>6842060051</td>\n",
       "      <td>16273017501</td>\n",
       "      <td>83465711620</td>\n",
       "      <td>바다자리 생새우 보일링쉬림프 3~4인분</td>\n",
       "      <td>바다자리 생새우 보일링쉬림프 3~4인분, 1개, 800g</td>\n",
       "      <td>37000</td>\n",
       "      <td>0</td>\n",
       "      <td>37000</td>\n",
       "      <td>(100g당 4,625원)</td>\n",
       "      <td>5.0</td>\n",
       "      <td>7</td>\n",
       "      <td>1</td>\n",
       "      <td>새우, 홍합, 비엔나소시지, 아침 찰옥수수, 야채 세트(감자, 양파, 마늘), 하얀...</td>\n",
       "      <td>새우,홍합,비엔나소시지,감자,양파,마늘,올리브유</td>\n",
       "    </tr>\n",
       "  </tbody>\n",
       "</table>\n",
       "<p>322 rows × 16 columns</p>\n",
       "</div>"
      ],
      "text/plain": [
       "     Unnamed: 0  카테고리명        상품id  data-item-id  data-vendor-item-id  \\\n",
       "0             0      1  1866720935    3172927841          71160443802   \n",
       "1             1      1   293421715     926408953           5302203368   \n",
       "2             2      1  4926044090    6464437521          73758857275   \n",
       "3             3      1  1717552921    2923167957          70911802261   \n",
       "4             4      1  2202010823    3744622966          71729775756   \n",
       "..          ...    ...         ...           ...                  ...   \n",
       "317         325      7  6410059410   13743233827          80994055849   \n",
       "318         326      7  6635938377   15150332499          82371861026   \n",
       "319         327      7  6842831802   16276794016          83469464083   \n",
       "320         328      7  6407831462   13729238438          80980206078   \n",
       "321         329      7  6842060051   16273017501          83465711620   \n",
       "\n",
       "                            상품                                  상품명     정가  \\\n",
       "0               프레시지 대한곱창 곱창전골            프레시지 대한곱창 곱창전골, 1594g, 1개  26270   \n",
       "1             마이셰프 밀푀유나베 & 칼국수          마이셰프 밀푀유나베 & 칼국수, 1129g, 1개  16900   \n",
       "2                    곰곰 밀푀유 나베                곰곰 밀푀유 나베, 1.2kg, 1세트  14990   \n",
       "3             프레시지 더큰 햄가득 부대전골           프레시지 더큰 햄가득 부대전골, 868g, 1개  20810   \n",
       "4             미소프레쉬 6컵 푸짐한 대구탕          미소프레쉬 6컵 푸짐한 대구탕, 1225g, 1개  14200   \n",
       "..                         ...                                  ...    ...   \n",
       "317  쉐푸드 유자소스 멕시칸 파히타 밀키트 (냉동)  쉐푸드 유자소스 멕시칸 파히타 밀키트 (냉동), 655g, 1개  17900   \n",
       "318      쿡킷 동대문식 닭한마리 2인분 (냉동)     쿡킷 동대문식 닭한마리 2인분 (냉동), 1150g, 1개  17910   \n",
       "319     바다자리 생새우 갈릭버터쉬림프 1~2인분     바다자리 생새우 갈릭버터쉬림프 1~2인분, 300g, 1개  21600   \n",
       "320           마이셰프 알찬 소고기 스키야키          마이셰프 알찬 소고기 스키야키, 1070g, 1개  16900   \n",
       "321      바다자리 생새우 보일링쉬림프 3~4인분      바다자리 생새우 보일링쉬림프 3~4인분, 1개, 800g  37000   \n",
       "\n",
       "     할인율    판매가        100g당_가격   별점    리뷰수  품절여부  \\\n",
       "0     7%  24210  (100g당 1,519원)  4.5  11262     0   \n",
       "1      0  16900  (100g당 1,497원)  4.5  49201     0   \n",
       "2      0  14990  (100g당 1,249원)  4.5  15639     0   \n",
       "3    28%  14900  (100g당 1,717원)  5.0  36322     0   \n",
       "4      0  14200  (100g당 1,159원)  4.5  12051     0   \n",
       "..   ...    ...             ...  ...    ...   ...   \n",
       "317    0  17900  (100g당 2,733원)  4.5     10     1   \n",
       "318  11%  15900  (100g당 1,383원)  4.5    260     1   \n",
       "319    0  21600  (100g당 7,200원)  5.0      3     1   \n",
       "320   5%  15900  (100g당 1,486원)  4.5    207     1   \n",
       "321    0  37000  (100g당 4,625원)  5.0      7     1   \n",
       "\n",
       "                                                  구성정보  \\\n",
       "0    양념육(소곱창, 소대창), 전골용 육수, 새송이버섯, 느타리버섯, 소고기, 두부, ...   \n",
       "1    소고기, 만두, 생면, 소스 2종, 육수, 표고버섯, 팽이버섯, 채소(배추, 청경채...   \n",
       "2    쇠고기, 새송이버섯, 표고버섯, 초간장소스, 칠리소스, 샤브용육수, 생면, 칼국수면...   \n",
       "3    소시지, 오뗄팜S, 프레스햄, 소고기, 치즈, 라면사리, 채소, 김치, 소스로 구성...   \n",
       "4                     해물, 채소, 연두부, 다시팩, 소스로 구성되어 있습니다.   \n",
       "..                                                 ...   \n",
       "317  또띠아, 소스, 올리브오일, 흰다리새우살, 닭가슴살, 채소(양파, 황파프리카, 홍파...   \n",
       "318  양념 닭고기, 채소(감자, 대파), 다진 마늘, 떡과 칼국수 면, 치킨스톡으로 구성...   \n",
       "319  새우, 야채 세트(양파, 마늘), 건고추, 하얀 설탕, 올리브 오일, 버터 후레시,...   \n",
       "320  소고기, 스키야키 육수, 해물 유부주머니와 두부 스틱, 폰즈 소스, 우동사리, 야채...   \n",
       "321  새우, 홍합, 비엔나소시지, 아침 찰옥수수, 야채 세트(감자, 양파, 마늘), 하얀...   \n",
       "\n",
       "                                              구성정보_전처리  \n",
       "0    양념육,소곱창,소대창,전골용 육수,새송이버섯,느타리버섯,소고기,두부,배추,양파,깻잎...  \n",
       "1                  소고기,만두,생면,육수,표고버섯,팽이버섯,채소,배추,청경채,깻잎  \n",
       "2    쇠고기,새송이버섯,표고버섯,초간장소스,칠리소스,샤브용육수,생면,칼국수면,숙면,감자수...  \n",
       "3                   소시지,오뗄팜S,프레스햄,소고기,치즈,라면사리,채소,김치,소스  \n",
       "4                                     해물,채소,연두부,다시팩,소스  \n",
       "..                                                 ...  \n",
       "317     또띠아,소스,올리브오일,흰다리새우살,닭가슴살,채소,양파,황파프리카,홍파프리카,청피망  \n",
       "318                          채소,감자,대파,다진마늘,떡,칼국수면,치킨스톡  \n",
       "319                          새우,양파,마늘,건고추,올리브 오일,허브 솔트  \n",
       "320              소고기,폰즈 소스,우동사리,야채,청경채,배추,대파,숙주나물,팽이버섯  \n",
       "321                         새우,홍합,비엔나소시지,감자,양파,마늘,올리브유  \n",
       "\n",
       "[322 rows x 16 columns]"
      ]
     },
     "execution_count": 2,
     "metadata": {},
     "output_type": "execute_result"
    }
   ],
   "source": [
    "df"
   ]
  },
  {
   "cell_type": "code",
   "execution_count": 17,
   "id": "eacea98c",
   "metadata": {},
   "outputs": [],
   "source": [
    "def category_name(product):\n",
    "    if ('닭' in product)or('백숙' in product): name = '닭'\n",
    "    elif '구이' in product : name = '구이'\n",
    "    elif ('전골' in product)or('나베' in product)or('스키야키' in product)or('샤브샤브' in product): name = '전골'\n",
    "    elif '해물탕' in product : name = '해물탕'\n",
    "    elif '매운탕' in product : name = '매운탕'\n",
    "    elif ('알탕' in product) : name = '알탕'\n",
    "\n",
    "    elif ('면' in product)or('소바' in product)or('짜장' in product)or('누들' in product)or('짬뽕' in product) : name = '면'\n",
    "    elif ('우동' in product)or('라면' in product) : name = '면'\n",
    "    elif '국수' in product : name = '국수'\n",
    "\n",
    "    elif ('찌개' in product) or ('짜글이' in product) : name = '찌개/짜글이'\n",
    "    elif ('국' in product) or ('육개장' in product) or ('파개장' in product) : name = '국'\n",
    "\n",
    "    elif ('파스타' in product) or ('라자냐' in product) : name = '파스타'\n",
    "    elif '리조또' in product : name = '리조또'\n",
    "        \n",
    "    elif '탕' in product : name = '탕'\n",
    "        \n",
    "    elif ('떡볶이' in product) or ('떡볶잉' in product) : name = '떡볶이'\n",
    "        \n",
    "    elif '족발' in product : name = '족발'\n",
    "    elif '순대' in product : name = '순대'\n",
    "        \n",
    "    elif '마라' in product : name = '마라'\n",
    "    elif '마파두부' in product : name = '마파두부'\n",
    "        \n",
    "    elif '무침' in product : name = '무침'\n",
    "    elif ('해물' in product)or('씨푸드' in product)or('씨키트' in product)or('꽃게' in product)or('새우' in product): name = '씨푸드'\n",
    "    elif ('쉬림프' in product)or('연어' in product)or('조개' in product)or('문어' in product): name = '씨푸드'\n",
    "\n",
    "    elif ('콩불' in product)or('콩나물 불고기' in product)or('잡채' in product)or('비빔밥' in product) : name='한식'\n",
    "    elif ('부침개' in product)or('조림' in product)or('수제비' in product): name = '한식'\n",
    "\n",
    "    elif '닭갈비' in product : name = '닭갈비'\n",
    "    elif '오리' in product : name = '오리'\n",
    "    elif '불고기' in product : name = '불고기'\n",
    "    elif ('커리' in product) or ('카레' in product) : name = '카레'\n",
    "    elif '찜' in product : name = '찜'\n",
    "    elif '샌드위치' in product : name = '샌드위치'\n",
    "    elif '쌈' in product : name = '쌈'\n",
    "    elif '스테이크' in product : name = '스테이크'\n",
    "    elif '감바스' in product : name = '감바스'\n",
    "    elif '볶음' in product : name = '볶음'\n",
    "    elif '덮밥' in product : name = '덮밥'\n",
    "\n",
    "    else: name='기타'\n",
    "        \n",
    "    return name"
   ]
  },
  {
   "cell_type": "code",
   "execution_count": 18,
   "id": "9961b119",
   "metadata": {},
   "outputs": [],
   "source": [
    "# def category_name22(product):\n",
    "#     if '면'|'누들'|'짜장'|'짬뽕' in product : \n",
    "#         name = '전골'\n",
    "#     else : \n",
    "#         name = '기타'\n",
    "#     return name"
   ]
  },
  {
   "cell_type": "code",
   "execution_count": 19,
   "id": "0c753b09",
   "metadata": {},
   "outputs": [
    {
     "data": {
      "text/plain": [
       "탕         36\n",
       "전골        33\n",
       "찌개/짜글이    33\n",
       "파스타       28\n",
       "국         19\n",
       "면         19\n",
       "씨푸드       18\n",
       "스테이크      16\n",
       "국수        12\n",
       "한식        11\n",
       "감바스       11\n",
       "기타        10\n",
       "닭         10\n",
       "구이         9\n",
       "알탕         9\n",
       "찜          7\n",
       "무침         7\n",
       "매운탕        6\n",
       "해물탕        6\n",
       "떡볶이        6\n",
       "쌈          3\n",
       "마파두부       2\n",
       "불고기        2\n",
       "순대         2\n",
       "샌드위치       2\n",
       "리조또        2\n",
       "카레         2\n",
       "볶음         1\n",
       "Name: 상세카테고리, dtype: int64"
      ]
     },
     "execution_count": 19,
     "metadata": {},
     "output_type": "execute_result"
    }
   ],
   "source": [
    "#df['상세카테고리']=df['상품'].apply(lambda x : category_name22(x))\n",
    "df['상세카테고리']=df['상품'].apply(lambda x : category_name(x))\n",
    "df['상세카테고리'].value_counts()"
   ]
  },
  {
   "cell_type": "code",
   "execution_count": 20,
   "id": "f466f96f",
   "metadata": {},
   "outputs": [
    {
     "data": {
      "text/plain": [
       "찌개/짜글이    33\n",
       "탕         32\n",
       "전골        23\n",
       "국         13\n",
       "알탕         8\n",
       "구이         6\n",
       "매운탕        6\n",
       "해물탕        4\n",
       "면          4\n",
       "닭          2\n",
       "한식         1\n",
       "찜          1\n",
       "씨푸드        1\n",
       "Name: 상세카테고리, dtype: int64"
      ]
     },
     "execution_count": 20,
     "metadata": {},
     "output_type": "execute_result"
    }
   ],
   "source": [
    "df.loc[df['카테고리명']==1].상세카테고리.value_counts()"
   ]
  },
  {
   "cell_type": "code",
   "execution_count": 21,
   "id": "e6ad71d1",
   "metadata": {},
   "outputs": [
    {
     "data": {
      "text/plain": [
       "씨푸드    2\n",
       "Name: 상세카테고리, dtype: int64"
      ]
     },
     "execution_count": 21,
     "metadata": {},
     "output_type": "execute_result"
    }
   ],
   "source": [
    "df.loc[df['카테고리명']==2].상세카테고리.value_counts()"
   ]
  },
  {
   "cell_type": "code",
   "execution_count": 22,
   "id": "fcf94264",
   "metadata": {},
   "outputs": [
    {
     "data": {
      "text/plain": [
       "스테이크    9\n",
       "쌈       1\n",
       "Name: 상세카테고리, dtype: int64"
      ]
     },
     "execution_count": 22,
     "metadata": {},
     "output_type": "execute_result"
    }
   ],
   "source": [
    "df.loc[df['카테고리명']==3].상세카테고리.value_counts()"
   ]
  },
  {
   "cell_type": "code",
   "execution_count": 23,
   "id": "85d0b8e0",
   "metadata": {},
   "outputs": [
    {
     "data": {
      "text/plain": [
       "파스타    28\n",
       "감바스     8\n",
       "국수      8\n",
       "면       6\n",
       "씨푸드     3\n",
       "한식      2\n",
       "전골      1\n",
       "해물탕     1\n",
       "탕       1\n",
       "기타      1\n",
       "국       1\n",
       "Name: 상세카테고리, dtype: int64"
      ]
     },
     "execution_count": 23,
     "metadata": {},
     "output_type": "execute_result"
    }
   ],
   "source": [
    "df.loc[df['카테고리명']==4].상세카테고리.value_counts()"
   ]
  },
  {
   "cell_type": "code",
   "execution_count": 24,
   "id": "f046b98e",
   "metadata": {},
   "outputs": [
    {
     "data": {
      "text/plain": [
       "떡볶이    2\n",
       "순대     2\n",
       "Name: 상세카테고리, dtype: int64"
      ]
     },
     "execution_count": 24,
     "metadata": {},
     "output_type": "execute_result"
    }
   ],
   "source": [
    "df.loc[df['카테고리명']==5].상세카테고리.value_counts()"
   ]
  },
  {
   "cell_type": "code",
   "execution_count": 25,
   "id": "d4b34a4c",
   "metadata": {},
   "outputs": [
    {
     "data": {
      "text/plain": [
       "한식      3\n",
       "면       3\n",
       "탕       3\n",
       "마파두부    2\n",
       "기타      1\n",
       "Name: 상세카테고리, dtype: int64"
      ]
     },
     "execution_count": 25,
     "metadata": {},
     "output_type": "execute_result"
    }
   ],
   "source": [
    "df.loc[df['카테고리명']==6].상세카테고리.value_counts()"
   ]
  },
  {
   "cell_type": "code",
   "execution_count": 26,
   "id": "40321b58",
   "metadata": {},
   "outputs": [
    {
     "data": {
      "text/plain": [
       "씨푸드     12\n",
       "전골       9\n",
       "기타       8\n",
       "닭        8\n",
       "무침       7\n",
       "스테이크     7\n",
       "찜        6\n",
       "면        6\n",
       "한식       5\n",
       "국        5\n",
       "떡볶이      4\n",
       "국수       4\n",
       "감바스      3\n",
       "구이       3\n",
       "쌈        2\n",
       "리조또      2\n",
       "카레       2\n",
       "샌드위치     2\n",
       "불고기      2\n",
       "해물탕      1\n",
       "알탕       1\n",
       "볶음       1\n",
       "Name: 상세카테고리, dtype: int64"
      ]
     },
     "execution_count": 26,
     "metadata": {},
     "output_type": "execute_result"
    }
   ],
   "source": [
    "df.loc[df['카테고리명']==7].상세카테고리.value_counts()"
   ]
  },
  {
   "cell_type": "code",
   "execution_count": 32,
   "id": "5b2cbf60",
   "metadata": {
    "scrolled": false
   },
   "outputs": [
    {
     "name": "stdout",
     "output_type": "stream",
     "text": [
      "4                                     미소프레쉬 6컵 푸짐한 대구탕\n",
      "13     복선당 규스지 사골 도가니탕 2인분 1160g + 소스 20g x 2p 세트 (냉동)\n",
      "19                                   앙트레 해물 누룽지탕 (2인분)\n",
      "24                           바다자리 모둠조개탕 밀키트 2~3인분 550g\n",
      "32                                    설래담 낙지 연포탕용 (냉동)\n",
      "36              바다자리 겨울엔 생물 대구 맑은탕 씨키트 2~3인분 700g + 야채\n",
      "39                                  식도락상점 꽃게탕 밀키트 (냉동)\n",
      "41           마이셰프 TREASURE HUNTER 우정분식 물떡 어묵탕 2인분 (냉동)\n",
      "44                                아라보감 산지직송 우럭지리탕용 씨키트\n",
      "49                        바다자리 생물 바지락탕용 씨키트 2~3인분 500g\n",
      "53             바다자리 겨울엔 생물 물메기 맑은탕 씨키트 2~3인분 700g + 야채\n",
      "54                                         속초 동태탕 (냉동)\n",
      "55                                   프레시지 통낙지 해신탕 (냉동)\n",
      "57                                   프레시지 얼큰한 동태탕 (냉동)\n",
      "59                                      속초 코다리맑음탕 (냉동)\n",
      "62                                    오마뎅 그시절 오뎅탕 (냉동)\n",
      "65                  바다자리 생물 아귀 맑은탕 씨키트 2~3인분 900g + 야채\n",
      "66                           홈스토랑 부산식 물떡 & 꼬치 어묵탕 (냉동)\n",
      "70                                   프레시지 시원한 대구탕 (냉동)\n",
      "74                            바다자리 시원한 생물홍합탕 씨키트 3~4인분\n",
      "81                                        펀쿡 복지리탕 (냉동)\n",
      "98                                   마이셰프 시원한 동태탕 (냉동)\n",
      "99                                   마이셰프 얼큰한 꽃게탕 (냉동)\n",
      "100                           the 푸짐한 탕선생 한마리 동태탕 (냉동)\n",
      "102                                    해물래 푸짐한 해물뚝배기 탕\n",
      "104                                      본갯마을 동태탕 (냉동)\n",
      "106                                        삼삼해물 알이 맛있탕\n",
      "107                                         삼삼해물 문어오리탕\n",
      "120                                 삼삼해물 해신탕 V.02 (냉동)\n",
      "123                                     곰곰 해물 누룽지탕 밀키트\n",
      "130                                   정다운 광주식 오리탕용 절단육\n",
      "132                                  심플리쿡 해물 누룽지탕 (냉동)\n",
      "Name: 상품, dtype: object\n"
     ]
    }
   ],
   "source": [
    "print(df.loc[(df['카테고리명']==1)&(df['상세카테고리']=='탕'), '상품'])"
   ]
  },
  {
   "cell_type": "code",
   "execution_count": 34,
   "id": "589cf16a",
   "metadata": {},
   "outputs": [
    {
     "data": {
      "text/plain": [
       "36     바다자리 겨울엔 생물 대구 맑은탕 씨키트 2~3인분 700g + 야채\n",
       "53    바다자리 겨울엔 생물 물메기 맑은탕 씨키트 2~3인분 700g + 야채\n",
       "65         바다자리 생물 아귀 맑은탕 씨키트 2~3인분 900g + 야채\n",
       "71                              빽쿡 맑은 국물 파육개장\n",
       "Name: 상품, dtype: object"
      ]
     },
     "execution_count": 34,
     "metadata": {},
     "output_type": "execute_result"
    }
   ],
   "source": [
    "df.loc[df['상품'].str.contains('맑은')]['상품']"
   ]
  },
  {
   "cell_type": "code",
   "execution_count": 29,
   "id": "5c1b7541",
   "metadata": {},
   "outputs": [
    {
     "data": {
      "text/plain": [
       "222                                바다자리 보일링씨푸드 3~4인분\n",
       "223               바다자리 국산깐새우 갈릭버터쉬림프 + 야채 씨키트 2인분 세트\n",
       "224    바다자리 생굴 해물 굴부추전 씨키트 2~3인분 320g + 야채 + 부침가루 세트\n",
       "225      바다자리 랍스터 보일링씨푸드 씨키트 3~4인분 950g + 야채 + 소스 세트\n",
       "226            바다자리 매콤한 순살아귀 불고기 + 야채 + 소스 씨키트 2~3인분\n",
       "                           ...                      \n",
       "317                        쉐푸드 유자소스 멕시칸 파히타 밀키트 (냉동)\n",
       "318                            쿡킷 동대문식 닭한마리 2인분 (냉동)\n",
       "319                           바다자리 생새우 갈릭버터쉬림프 1~2인분\n",
       "320                                 마이셰프 알찬 소고기 스키야키\n",
       "321                            바다자리 생새우 보일링쉬림프 3~4인분\n",
       "Name: 상품, Length: 100, dtype: object"
      ]
     },
     "execution_count": 29,
     "metadata": {},
     "output_type": "execute_result"
    }
   ],
   "source": [
    "df.loc[df['카테고리명']==7].상품"
   ]
  },
  {
   "cell_type": "code",
   "execution_count": null,
   "id": "a0e5ef9b",
   "metadata": {},
   "outputs": [],
   "source": []
  }
 ],
 "metadata": {
  "kernelspec": {
   "display_name": "Python 3 (ipykernel)",
   "language": "python",
   "name": "python3"
  },
  "language_info": {
   "codemirror_mode": {
    "name": "ipython",
    "version": 3
   },
   "file_extension": ".py",
   "mimetype": "text/x-python",
   "name": "python",
   "nbconvert_exporter": "python",
   "pygments_lexer": "ipython3",
   "version": "3.9.12"
  },
  "toc": {
   "base_numbering": 1,
   "nav_menu": {},
   "number_sections": true,
   "sideBar": true,
   "skip_h1_title": false,
   "title_cell": "Table of Contents",
   "title_sidebar": "Contents",
   "toc_cell": false,
   "toc_position": {},
   "toc_section_display": true,
   "toc_window_display": false
  },
  "vscode": {
   "interpreter": {
    "hash": "1ecb19091869b6f102d7c2f9d2eedc44ba5e59f0a20d5098a85247d79eb996a3"
   }
  }
 },
 "nbformat": 4,
 "nbformat_minor": 5
}
