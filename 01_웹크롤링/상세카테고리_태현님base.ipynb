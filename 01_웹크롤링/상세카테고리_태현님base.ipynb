{
 "cells": [
  {
   "cell_type": "code",
   "execution_count": 1,
   "id": "e572ef29",
   "metadata": {},
   "outputs": [],
   "source": [
    "import requests\n",
    "from bs4 import BeautifulSoup\n",
    "import re\n",
    "import pandas as pd\n",
    "import numpy as np\n",
    "\n",
    "df = pd.read_csv('../../data/coupang_filtering.csv', encoding='utf8')"
   ]
  },
  {
   "cell_type": "code",
   "execution_count": 2,
   "id": "eacea98c",
   "metadata": {},
   "outputs": [],
   "source": [
    "# def category_name(product):\n",
    "#     if ('닭' in product)or('백숙' in product): name = '닭'\n",
    "#     elif '구이' in product : name = '구이'\n",
    "#     elif ('전골' in product)or('나베' in product)or('스키야키' in product)or('샤브샤브' in product): name = '전골'\n",
    "#     elif ('해물탕' in product)or('매운탕' in product) : name = '매운탕·해물탕'\n",
    "#     elif ('알탕' in product)or('곤이탕' in product)or('알이 맛있탕' in product) : name = '알탕'\n",
    "#     elif ('찌개' in product) or ('짜글이' in product) : name = '찌개/짜글이'\n",
    "#     elif '족발' in product : name = '족발'\n",
    "#     elif '순대' in product : name = '순대'\n",
    "#     elif ('파스타' in product) or ('라자냐' in product) : name = '파스타'\n",
    "#     elif ('국수' in product)or('수제비' in product) : name = '국수·칼국수·수제비'\n",
    "\n",
    "#     elif ('국밥' in product)  : name = '국밥'\n",
    "#     elif '볶음' in product : name = '볶음'\n",
    "#     elif '덮밥' in product : name = '덮밥'\n",
    "    \n",
    "#     elif '리조또' in product : name = '리조또'\n",
    "#     elif '샌드위치' in product : name = '샌드위치'\n",
    "#     elif ('떡볶이' in product) or ('떡볶잉' in product) : name = '떡볶이'\n",
    " \n",
    "#     elif '마라' in product : name = '마라'\n",
    "#     elif '마파두부' in product : name = '마파두부'\n",
    "#     elif ('고추 잡채' in product)or('고추잡채' in product) : name = '고추잡채'\n",
    "#     elif '스테이크' in product : name = '스테이크'\n",
    "#     elif '감바스' in product : name = '감바스'\n",
    "#     elif '무침' in product : name = '무침'\n",
    "    \n",
    "#     elif ('해물' in product)or('씨푸드' in product)or('씨키트' in product)or('꽃게' in product)or('새우' in product): name = '해산물요리'\n",
    "#     elif ('쉬림프' in product)or('연어' in product)or('조개' in product)or('문어' in product)or('오징어' in product): name = '해산물요리'\n",
    "\n",
    "#     elif ('잡채' in product)or('비빔밥' in product) : name='한식'\n",
    "#     elif ('부침개' in product)or('조림' in product): name = '한식'\n",
    "\n",
    "#     elif '오리' in product : name = '오리'\n",
    "#     elif '불고기' in product : name = '불고기'\n",
    "#     elif ('커리' in product) or ('카레' in product) : name = '카레'\n",
    "#     elif '찜' in product : name = '찜'\n",
    "\n",
    "#     elif '쌈' in product : name = '쌈'\n",
    "    \n",
    "#     elif ('국' in product) or ('육개장' in product) or ('파개장' in product) : name = '국'\n",
    "#     elif ('면' in product)or('소바' in product)or('짜장' in product)or('누들' in product) : name = '면'\n",
    "#     elif ('우동' in product)or('라면' in product) : name = '면'\n",
    "#     elif ('탕' in product)or('짬뽕탕' in product) : name = '탕'\n",
    "\n",
    "#     else: name='기타'\n",
    "        \n",
    "#     return name"
   ]
  },
  {
   "cell_type": "code",
   "execution_count": 3,
   "id": "e7fc7d5e",
   "metadata": {},
   "outputs": [],
   "source": [
    "def category_name(product):\n",
    "    if ('닭' in product) or ('백숙' in product) : name = '닭'\n",
    "    elif '구이' in product : name = '구이'\n",
    "    elif ('전골' in product)or('나베' in product)or('스키야키' in product) or ('샤브샤브' in product): name = '전골'\n",
    "    elif '족발' in product : name = '족발'\n",
    "    elif '국수' in product : name = '국수'\n",
    "    elif ('해물탕' in product) or ('연포탕' in product) or ('해신탕' in product) or ('꽃게탕' in product) or ('해물 누룽지탕' in product) or ('조개탕' in product) or ('바지락탕' in product): name = '해물탕'\n",
    "    elif ('해물뚝배기' in product) or ('문어오리탕' in product) or ('홍합탕' in product) : name = '해물탕'\n",
    "    elif ('매운탕' in product) or ('대구탕' in product) or ('동태탕' in product) or ('지리탕' in product)  or ('맑은탕' in product) or ('맑음탕' in product): name = '생선탕'\n",
    "    elif ('알탕' in product) or ('알이 맛있탕' in product) or ('곤이탕' in product): name = '알탕'\n",
    "\n",
    "    elif ('찌개' in product) or ('짜글이' in product) or ('짬뽕 순두부' in product): name = '찌개/짜글이'\n",
    "\n",
    "    elif ('면' in product)or('소바' in product)or('짜장' in product)or('누들' in product)or('짬뽕' in product) : name = '면'\n",
    "    elif ('우동' in product)or('라면' in product) : name = '면'\n",
    "    elif '스테이크' in product : name = '스테이크'\n",
    "\n",
    "    elif ('파스타' in product) or ('라자냐' in product) : name = '파스타'\n",
    "\n",
    "    elif '리조또' in product : name = '리조또' \n",
    "        \n",
    "    elif '마라탕' in product : name = '마라탕'\n",
    "    elif '마파두부' in product : name = '마파두부'\n",
    "\n",
    "    elif ('떡볶이' in product) or ('떡볶잉' in product) : name = '떡볶이'\n",
    "        \n",
    "    elif '덮밥' in product : name = '덮밥'\n",
    "    elif '순대' in product : name = '순대'\n",
    "        \n",
    "    elif '무침' in product : name = '무침'\n",
    "    elif '감바스' in product : name = '감바스'\n",
    "    elif ('해물' in product)or('씨푸드' in product)or('씨키트' in product)or('꽃게' in product)or('새우' in product): name = '씨푸드'\n",
    "    elif ('쉬림프' in product)or('연어' in product)or('조개' in product)or('문어' in product): name = '씨푸드'\n",
    "\n",
    "    elif ('콩불' in product) or ('불고기' in product) or ('비빔밥' in product) : name='한식'\n",
    "    elif ('부침개' in product) or ('조림' in product) : name = '한식'\n",
    "\n",
    "    elif '오리' in product : name = '오리'\n",
    "\n",
    "    elif ('커리' in product) or ('카레' in product) : name = '카레'\n",
    "    \n",
    "    elif '샌드위치' in product : name = '샌드위치'\n",
    "    elif ('볶음' in product) or ('잡채' in product) : name = '볶음'\n",
    "    \n",
    "    elif '쌈' in product : name = '쌈'\n",
    "    elif ('국' in product) or ('육개장' in product) or ('파개장' in product) or ('수제비' in product) or ('칼제비' in product) : name = '국'\n",
    "    elif '찜' in product : name = '찜'\n",
    "    else: name='기타'\n",
    "        \n",
    "    return name"
   ]
  },
  {
   "cell_type": "code",
   "execution_count": 4,
   "id": "9961b119",
   "metadata": {},
   "outputs": [],
   "source": [
    "# def category_name22(product):\n",
    "#     if '면'|'누들'|'짜장'|'짬뽕' in product : \n",
    "#         name = '전골'\n",
    "#     else : \n",
    "#         name = '기타'\n",
    "#     return name"
   ]
  },
  {
   "cell_type": "code",
   "execution_count": 21,
   "id": "0c753b09",
   "metadata": {},
   "outputs": [
    {
     "data": {
      "text/plain": [
       "찌개/짜글이    38\n",
       "전골        33\n",
       "파스타       27\n",
       "기타        21\n",
       "씨푸드       20\n",
       "해물탕       20\n",
       "스테이크      18\n",
       "생선탕       18\n",
       "면         14\n",
       "국수        13\n",
       "감바스       13\n",
       "닭         10\n",
       "국         10\n",
       "알탕        10\n",
       "구이         9\n",
       "한식         8\n",
       "찜          7\n",
       "무침         7\n",
       "떡볶이        6\n",
       "순대         4\n",
       "마라탕        2\n",
       "마파두부       2\n",
       "쌈          2\n",
       "샌드위치       2\n",
       "볶음         2\n",
       "족발         2\n",
       "리조또        2\n",
       "카레         2\n",
       "오리         1\n",
       "Name: 상세카테고리, dtype: int64"
      ]
     },
     "execution_count": 21,
     "metadata": {},
     "output_type": "execute_result"
    }
   ],
   "source": [
    "#df['상세카테고리']=df['상품'].apply(lambda x : category_name22(x))\n",
    "df['상세카테고리']=df['상품'].apply(lambda x : category_name(x))\n",
    "df.to_csv('../../data/coupang_filter_detail.csv')\n",
    "df['상세카테고리'].value_counts()"
   ]
  },
  {
   "cell_type": "code",
   "execution_count": 6,
   "id": "f466f96f",
   "metadata": {},
   "outputs": [
    {
     "data": {
      "text/plain": [
       "찌개/짜글이    38\n",
       "전골        23\n",
       "생선탕       18\n",
       "해물탕       17\n",
       "국          9\n",
       "알탕         8\n",
       "구이         6\n",
       "기타         5\n",
       "씨푸드        3\n",
       "순대         2\n",
       "닭          2\n",
       "한식         1\n",
       "찜          1\n",
       "오리         1\n",
       "면          1\n",
       "국수         1\n",
       "Name: 상세카테고리, dtype: int64"
      ]
     },
     "execution_count": 6,
     "metadata": {},
     "output_type": "execute_result"
    }
   ],
   "source": [
    "df.loc[df['카테고리명']==1].상세카테고리.value_counts()"
   ]
  },
  {
   "cell_type": "code",
   "execution_count": 8,
   "id": "e6ad71d1",
   "metadata": {},
   "outputs": [
    {
     "data": {
      "text/plain": [
       "씨푸드    2\n",
       "Name: 상세카테고리, dtype: int64"
      ]
     },
     "execution_count": 8,
     "metadata": {},
     "output_type": "execute_result"
    }
   ],
   "source": [
    "df.loc[df['카테고리명']==2].상세카테고리.value_counts()"
   ]
  },
  {
   "cell_type": "code",
   "execution_count": 9,
   "id": "fcf94264",
   "metadata": {},
   "outputs": [
    {
     "data": {
      "text/plain": [
       "스테이크    9\n",
       "Name: 상세카테고리, dtype: int64"
      ]
     },
     "execution_count": 9,
     "metadata": {},
     "output_type": "execute_result"
    }
   ],
   "source": [
    "df.loc[df['카테고리명']==3].상세카테고리.value_counts()"
   ]
  },
  {
   "cell_type": "code",
   "execution_count": 10,
   "id": "85d0b8e0",
   "metadata": {},
   "outputs": [
    {
     "data": {
      "text/plain": [
       "파스타     27\n",
       "감바스     10\n",
       "국수       8\n",
       "면        6\n",
       "기타       4\n",
       "스테이크     2\n",
       "해물탕      2\n",
       "전골       1\n",
       "알탕       1\n",
       "Name: 상세카테고리, dtype: int64"
      ]
     },
     "execution_count": 10,
     "metadata": {},
     "output_type": "execute_result"
    }
   ],
   "source": [
    "df.loc[df['카테고리명']==4].상세카테고리.value_counts()"
   ]
  },
  {
   "cell_type": "code",
   "execution_count": 11,
   "id": "a025c3ac",
   "metadata": {},
   "outputs": [
    {
     "data": {
      "text/html": [
       "<div>\n",
       "<style scoped>\n",
       "    .dataframe tbody tr th:only-of-type {\n",
       "        vertical-align: middle;\n",
       "    }\n",
       "\n",
       "    .dataframe tbody tr th {\n",
       "        vertical-align: top;\n",
       "    }\n",
       "\n",
       "    .dataframe thead th {\n",
       "        text-align: right;\n",
       "    }\n",
       "</style>\n",
       "<table border=\"1\" class=\"dataframe\">\n",
       "  <thead>\n",
       "    <tr style=\"text-align: right;\">\n",
       "      <th></th>\n",
       "      <th>Unnamed: 0</th>\n",
       "      <th>카테고리명</th>\n",
       "      <th>상품id</th>\n",
       "      <th>data-item-id</th>\n",
       "      <th>data-vendor-item-id</th>\n",
       "      <th>상품</th>\n",
       "      <th>상품명</th>\n",
       "      <th>정가</th>\n",
       "      <th>할인율</th>\n",
       "      <th>판매가</th>\n",
       "      <th>100g당_가격</th>\n",
       "      <th>별점</th>\n",
       "      <th>리뷰수</th>\n",
       "      <th>품절여부</th>\n",
       "      <th>구성정보</th>\n",
       "      <th>구성정보_전처리</th>\n",
       "      <th>상세카테고리</th>\n",
       "    </tr>\n",
       "  </thead>\n",
       "  <tbody>\n",
       "    <tr>\n",
       "      <th>164</th>\n",
       "      <td>167</td>\n",
       "      <td>4</td>\n",
       "      <td>6636134619</td>\n",
       "      <td>15151379986</td>\n",
       "      <td>82372899340</td>\n",
       "      <td>모두의맛집 샤오짠 탄탄면 (냉동)</td>\n",
       "      <td>모두의맛집 샤오짠 탄탄면 (냉동), 1개, 580g</td>\n",
       "      <td>8800</td>\n",
       "      <td>0</td>\n",
       "      <td>8800</td>\n",
       "      <td>(100g당 1,517원)</td>\n",
       "      <td>4.0</td>\n",
       "      <td>8</td>\n",
       "      <td>0</td>\n",
       "      <td>구성품(청경채, 돼지고기, 두반장 소스 등 함유), 생면으로 구성되어 있습니다.</td>\n",
       "      <td>청경채,돼지고기,생면</td>\n",
       "      <td>면</td>\n",
       "    </tr>\n",
       "    <tr>\n",
       "      <th>172</th>\n",
       "      <td>175</td>\n",
       "      <td>4</td>\n",
       "      <td>6867222379</td>\n",
       "      <td>16417092793</td>\n",
       "      <td>83608027927</td>\n",
       "      <td>마이셰프 소고기 야끼우동</td>\n",
       "      <td>마이셰프 소고기 야끼우동, 1개, 451g</td>\n",
       "      <td>10900</td>\n",
       "      <td>0</td>\n",
       "      <td>10900</td>\n",
       "      <td>(100g당 2,417원)</td>\n",
       "      <td>4.5</td>\n",
       "      <td>10</td>\n",
       "      <td>1</td>\n",
       "      <td>소고기, 숙면, 숙주나물, 쪽파, 소스 등으로 구성되어 있습니다.</td>\n",
       "      <td>소고기,숙면,숙주나물,쪽파,소스</td>\n",
       "      <td>면</td>\n",
       "    </tr>\n",
       "    <tr>\n",
       "      <th>179</th>\n",
       "      <td>182</td>\n",
       "      <td>4</td>\n",
       "      <td>6775844398</td>\n",
       "      <td>15921388137</td>\n",
       "      <td>83128695588</td>\n",
       "      <td>명인만두 비빔만두쫄면 1인분 (냉동)</td>\n",
       "      <td>명인만두 비빔만두쫄면 1인분 (냉동), 2개, 370g</td>\n",
       "      <td>10200</td>\n",
       "      <td>0</td>\n",
       "      <td>10200</td>\n",
       "      <td>(100g당 1,378원)</td>\n",
       "      <td>0.0</td>\n",
       "      <td>0</td>\n",
       "      <td>1</td>\n",
       "      <td>쫄면, 만두, 소스로 구성되어 있습니다.</td>\n",
       "      <td>쫄면,만두,소스</td>\n",
       "      <td>면</td>\n",
       "    </tr>\n",
       "    <tr>\n",
       "      <th>200</th>\n",
       "      <td>203</td>\n",
       "      <td>4</td>\n",
       "      <td>6410059402</td>\n",
       "      <td>13743233723</td>\n",
       "      <td>80994055837</td>\n",
       "      <td>쉐푸드 통돈까스 김치 우동 밀키트 (냉동)</td>\n",
       "      <td>쉐푸드 통돈까스 김치 우동 밀키트 (냉동), 640g, 1개</td>\n",
       "      <td>14900</td>\n",
       "      <td>0</td>\n",
       "      <td>14900</td>\n",
       "      <td>(100g당 2,328원)</td>\n",
       "      <td>4.5</td>\n",
       "      <td>34</td>\n",
       "      <td>1</td>\n",
       "      <td>통돈까스, 볶음김치, 채소(양파, 대파, 청양고추), 팽이버섯, 우동면, 육수, 양...</td>\n",
       "      <td>볶음김치,채소,양파,대파,청양고추,팽이버섯,우동면,육수</td>\n",
       "      <td>면</td>\n",
       "    </tr>\n",
       "    <tr>\n",
       "      <th>203</th>\n",
       "      <td>206</td>\n",
       "      <td>4</td>\n",
       "      <td>6246947929</td>\n",
       "      <td>12641184013</td>\n",
       "      <td>79908701427</td>\n",
       "      <td>맛투데이 찐 해물 굴짬뽕탕 690g (냉동)</td>\n",
       "      <td>맛투데이 찐 해물 굴짬뽕탕 690g (냉동), 1세트</td>\n",
       "      <td>13810</td>\n",
       "      <td>0</td>\n",
       "      <td>13810</td>\n",
       "      <td>NaN</td>\n",
       "      <td>4.5</td>\n",
       "      <td>70</td>\n",
       "      <td>1</td>\n",
       "      <td>해산물, 칼국수 면, 소스로 구성되어 있습니다.</td>\n",
       "      <td>해산물,칼국수면,소스</td>\n",
       "      <td>면</td>\n",
       "    </tr>\n",
       "    <tr>\n",
       "      <th>204</th>\n",
       "      <td>207</td>\n",
       "      <td>4</td>\n",
       "      <td>6246947928</td>\n",
       "      <td>12641184012</td>\n",
       "      <td>79908701416</td>\n",
       "      <td>맛투데이 찐 통 오징어 짬뽕탕 750g (냉동)</td>\n",
       "      <td>맛투데이 찐 통 오징어 짬뽕탕 750g (냉동), 1세트</td>\n",
       "      <td>17900</td>\n",
       "      <td>11%</td>\n",
       "      <td>15900</td>\n",
       "      <td>NaN</td>\n",
       "      <td>4.0</td>\n",
       "      <td>89</td>\n",
       "      <td>1</td>\n",
       "      <td>해산물, 칼국수 면, 소스로 구성되어 있습니다.</td>\n",
       "      <td>해산물,칼국수면,소스</td>\n",
       "      <td>면</td>\n",
       "    </tr>\n",
       "  </tbody>\n",
       "</table>\n",
       "</div>"
      ],
      "text/plain": [
       "     Unnamed: 0  카테고리명        상품id  data-item-id  data-vendor-item-id  \\\n",
       "164         167      4  6636134619   15151379986          82372899340   \n",
       "172         175      4  6867222379   16417092793          83608027927   \n",
       "179         182      4  6775844398   15921388137          83128695588   \n",
       "200         203      4  6410059402   13743233723          80994055837   \n",
       "203         206      4  6246947929   12641184013          79908701427   \n",
       "204         207      4  6246947928   12641184012          79908701416   \n",
       "\n",
       "                             상품                                상품명     정가  \\\n",
       "164          모두의맛집 샤오짠 탄탄면 (냉동)       모두의맛집 샤오짠 탄탄면 (냉동), 1개, 580g   8800   \n",
       "172               마이셰프 소고기 야끼우동            마이셰프 소고기 야끼우동, 1개, 451g  10900   \n",
       "179        명인만두 비빔만두쫄면 1인분 (냉동)     명인만두 비빔만두쫄면 1인분 (냉동), 2개, 370g  10200   \n",
       "200     쉐푸드 통돈까스 김치 우동 밀키트 (냉동)  쉐푸드 통돈까스 김치 우동 밀키트 (냉동), 640g, 1개  14900   \n",
       "203    맛투데이 찐 해물 굴짬뽕탕 690g (냉동)      맛투데이 찐 해물 굴짬뽕탕 690g (냉동), 1세트  13810   \n",
       "204  맛투데이 찐 통 오징어 짬뽕탕 750g (냉동)    맛투데이 찐 통 오징어 짬뽕탕 750g (냉동), 1세트  17900   \n",
       "\n",
       "     할인율    판매가        100g당_가격   별점  리뷰수  품절여부  \\\n",
       "164    0   8800  (100g당 1,517원)  4.0    8     0   \n",
       "172    0  10900  (100g당 2,417원)  4.5   10     1   \n",
       "179    0  10200  (100g당 1,378원)  0.0    0     1   \n",
       "200    0  14900  (100g당 2,328원)  4.5   34     1   \n",
       "203    0  13810             NaN  4.5   70     1   \n",
       "204  11%  15900             NaN  4.0   89     1   \n",
       "\n",
       "                                                  구성정보  \\\n",
       "164       구성품(청경채, 돼지고기, 두반장 소스 등 함유), 생면으로 구성되어 있습니다.   \n",
       "172               소고기, 숙면, 숙주나물, 쪽파, 소스 등으로 구성되어 있습니다.   \n",
       "179                             쫄면, 만두, 소스로 구성되어 있습니다.   \n",
       "200  통돈까스, 볶음김치, 채소(양파, 대파, 청양고추), 팽이버섯, 우동면, 육수, 양...   \n",
       "203                         해산물, 칼국수 면, 소스로 구성되어 있습니다.   \n",
       "204                         해산물, 칼국수 면, 소스로 구성되어 있습니다.   \n",
       "\n",
       "                           구성정보_전처리 상세카테고리  \n",
       "164                     청경채,돼지고기,생면      면  \n",
       "172               소고기,숙면,숙주나물,쪽파,소스      면  \n",
       "179                        쫄면,만두,소스      면  \n",
       "200  볶음김치,채소,양파,대파,청양고추,팽이버섯,우동면,육수      면  \n",
       "203                     해산물,칼국수면,소스      면  \n",
       "204                     해산물,칼국수면,소스      면  "
      ]
     },
     "execution_count": 11,
     "metadata": {},
     "output_type": "execute_result"
    }
   ],
   "source": [
    "df.loc[(df['카테고리명']==4)&(df['상세카테고리']=='면')]"
   ]
  },
  {
   "cell_type": "code",
   "execution_count": 12,
   "id": "f046b98e",
   "metadata": {},
   "outputs": [
    {
     "data": {
      "text/plain": [
       "떡볶이    2\n",
       "순대     2\n",
       "Name: 상세카테고리, dtype: int64"
      ]
     },
     "execution_count": 12,
     "metadata": {},
     "output_type": "execute_result"
    }
   ],
   "source": [
    "df.loc[df['카테고리명']==5].상세카테고리.value_counts()"
   ]
  },
  {
   "cell_type": "code",
   "execution_count": 13,
   "id": "d4b34a4c",
   "metadata": {},
   "outputs": [
    {
     "data": {
      "text/plain": [
       "기타      4\n",
       "면       3\n",
       "마라탕     2\n",
       "마파두부    2\n",
       "Name: 상세카테고리, dtype: int64"
      ]
     },
     "execution_count": 13,
     "metadata": {},
     "output_type": "execute_result"
    }
   ],
   "source": [
    "df.loc[df['카테고리명']==6].상세카테고리.value_counts()"
   ]
  },
  {
   "cell_type": "code",
   "execution_count": 14,
   "id": "40321b58",
   "metadata": {},
   "outputs": [
    {
     "data": {
      "text/plain": [
       "씨푸드     15\n",
       "전골       9\n",
       "기타       8\n",
       "닭        8\n",
       "스테이크     7\n",
       "무침       7\n",
       "한식       7\n",
       "찜        6\n",
       "면        4\n",
       "국수       4\n",
       "떡볶이      4\n",
       "감바스      3\n",
       "구이       3\n",
       "카레       2\n",
       "리조또      2\n",
       "족발       2\n",
       "볶음       2\n",
       "샌드위치     2\n",
       "쌈        2\n",
       "해물탕      1\n",
       "알탕       1\n",
       "국        1\n",
       "Name: 상세카테고리, dtype: int64"
      ]
     },
     "execution_count": 14,
     "metadata": {},
     "output_type": "execute_result"
    }
   ],
   "source": [
    "df.loc[df['카테고리명']==7].상세카테고리.value_counts()"
   ]
  },
  {
   "cell_type": "code",
   "execution_count": 16,
   "id": "5b2cbf60",
   "metadata": {
    "scrolled": false
   },
   "outputs": [
    {
     "data": {
      "text/html": [
       "<div>\n",
       "<style scoped>\n",
       "    .dataframe tbody tr th:only-of-type {\n",
       "        vertical-align: middle;\n",
       "    }\n",
       "\n",
       "    .dataframe tbody tr th {\n",
       "        vertical-align: top;\n",
       "    }\n",
       "\n",
       "    .dataframe thead th {\n",
       "        text-align: right;\n",
       "    }\n",
       "</style>\n",
       "<table border=\"1\" class=\"dataframe\">\n",
       "  <thead>\n",
       "    <tr style=\"text-align: right;\">\n",
       "      <th></th>\n",
       "      <th>Unnamed: 0</th>\n",
       "      <th>카테고리명</th>\n",
       "      <th>상품id</th>\n",
       "      <th>data-item-id</th>\n",
       "      <th>data-vendor-item-id</th>\n",
       "      <th>상품</th>\n",
       "      <th>상품명</th>\n",
       "      <th>정가</th>\n",
       "      <th>할인율</th>\n",
       "      <th>판매가</th>\n",
       "      <th>100g당_가격</th>\n",
       "      <th>별점</th>\n",
       "      <th>리뷰수</th>\n",
       "      <th>품절여부</th>\n",
       "      <th>구성정보</th>\n",
       "      <th>구성정보_전처리</th>\n",
       "      <th>상세카테고리</th>\n",
       "    </tr>\n",
       "  </thead>\n",
       "  <tbody>\n",
       "  </tbody>\n",
       "</table>\n",
       "</div>"
      ],
      "text/plain": [
       "Empty DataFrame\n",
       "Columns: [Unnamed: 0, 카테고리명, 상품id, data-item-id, data-vendor-item-id, 상품, 상품명, 정가, 할인율, 판매가, 100g당_가격, 별점, 리뷰수, 품절여부, 구성정보, 구성정보_전처리, 상세카테고리]\n",
       "Index: []"
      ]
     },
     "execution_count": 16,
     "metadata": {},
     "output_type": "execute_result"
    }
   ],
   "source": [
    "df.loc[(df['카테고리명']==5)&(df['상세카테고리']=='마라샹궈')]"
   ]
  },
  {
   "cell_type": "code",
   "execution_count": 33,
   "id": "589cf16a",
   "metadata": {},
   "outputs": [
    {
     "data": {
      "text/html": [
       "<div>\n",
       "<style scoped>\n",
       "    .dataframe tbody tr th:only-of-type {\n",
       "        vertical-align: middle;\n",
       "    }\n",
       "\n",
       "    .dataframe tbody tr th {\n",
       "        vertical-align: top;\n",
       "    }\n",
       "\n",
       "    .dataframe thead th {\n",
       "        text-align: right;\n",
       "    }\n",
       "</style>\n",
       "<table border=\"1\" class=\"dataframe\">\n",
       "  <thead>\n",
       "    <tr style=\"text-align: right;\">\n",
       "      <th></th>\n",
       "      <th>Unnamed: 0</th>\n",
       "      <th>카테고리명</th>\n",
       "      <th>상품id</th>\n",
       "      <th>data-item-id</th>\n",
       "      <th>data-vendor-item-id</th>\n",
       "      <th>상품</th>\n",
       "      <th>상품명</th>\n",
       "      <th>정가</th>\n",
       "      <th>할인율</th>\n",
       "      <th>판매가</th>\n",
       "      <th>100g당_가격</th>\n",
       "      <th>별점</th>\n",
       "      <th>리뷰수</th>\n",
       "      <th>품절여부</th>\n",
       "      <th>구성정보</th>\n",
       "      <th>구성정보_전처리</th>\n",
       "      <th>상세카테고리</th>\n",
       "    </tr>\n",
       "  </thead>\n",
       "  <tbody>\n",
       "  </tbody>\n",
       "</table>\n",
       "</div>"
      ],
      "text/plain": [
       "Empty DataFrame\n",
       "Columns: [Unnamed: 0, 카테고리명, 상품id, data-item-id, data-vendor-item-id, 상품, 상품명, 정가, 할인율, 판매가, 100g당_가격, 별점, 리뷰수, 품절여부, 구성정보, 구성정보_전처리, 상세카테고리]\n",
       "Index: []"
      ]
     },
     "execution_count": 33,
     "metadata": {},
     "output_type": "execute_result"
    }
   ],
   "source": [
    "df.loc[df['상품'].str.contains('잡체')]"
   ]
  },
  {
   "cell_type": "code",
   "execution_count": 18,
   "id": "5c1b7541",
   "metadata": {},
   "outputs": [
    {
     "data": {
      "text/plain": [
       "223                     프레시지 더큰 블랙라벨 스테이크 세트\n",
       "224       바다자리 국산깐새우 갈릭버터쉬림프 + 야채 씨키트 2인분 세트\n",
       "225    바다자리 매콤한 순살아귀 불고기 + 야채 + 소스 씨키트 2~3인분\n",
       "226      바다자리 자숙문어 피꼬막무침 씨키트 2~3인분 250g + 야채\n",
       "227                            마이셰프 불고기 퀘사디아\n",
       "                       ...                  \n",
       "318                    쉐푸드 배추 만두 전골 밀키트 (냉동)\n",
       "319                         마이셰프 알찬 소고기 스키야키\n",
       "320                   바다자리 생새우 갈릭버터쉬림프 1~2인분\n",
       "321                 바른식 등촌식 얼큰 미나리 샤브샤브 (냉장)\n",
       "322                    바다자리 생새우 보일링쉬림프 3~4인분\n",
       "Name: 상품, Length: 100, dtype: object"
      ]
     },
     "execution_count": 18,
     "metadata": {},
     "output_type": "execute_result"
    }
   ],
   "source": [
    "df.loc[df['카테고리명']==7].상품"
   ]
  },
  {
   "cell_type": "code",
   "execution_count": 19,
   "id": "a0e5ef9b",
   "metadata": {},
   "outputs": [],
   "source": [
    "trend = {'감바스' : '해산물요리', '구이' : '새우구이, 생선구이, 조개구이' , '국' : '된장찌개·청국장, 국밥, 해장국, 국·탕, 순대국', '국수' : '국수·칼국수·수제비, 쌀국수', '닭' : '옻닭, 닭볶음탕, 백숙·토종닭, 닭갈비, 찜닭', '덮밥' : '덮밥',\n",
    " '떡볶이' : '떡볶이', '리조또' : '리소토·필라프' , '마라탕' : '마라탕, ', '마파두부' : '두부요리, 중식요리', '면' : '면류, 물냉면, 짜장면, 비빔냉면, 쫄면', '무침' :'채식·비건 요리', '볶음' : '볶음밥, 제육볶음·두루치기·불고기',\n",
    " '불고기' : '돼지갈비·주물럭·양념고기, 제육볶음·두루치기·불고기', '샌드위치' : '샌드위치', '생선탕' : '매운탕·해물탕, 생선찌개', '순대' : '순대', '스테이크' : '스테이크, 함박스테이크', '쌈' : '보쌈, 쌈밥', '씨푸드' : '해산물요리', '알탕' : '매운탕·해물탕, 국·탕', '오리' : '오리로스·주물럭·훈제', \n",
    " '전골' : '나베·전골', '족발' : '족발', '찌개/짜글이' : '된장찌개·청국장, 고추장찌개·돼지찌개, 찌개, 생선찌개, 순두부찌개, 김치찌개·참치찌개, 부대찌개', '찜' : '갈비찜·뼈찜, 생선찜·해물찜, 찜닭', '카레' : '카레', '파스타' : '파스타',\n",
    " '한식' : '전·빈대떡·부침개, 비빔밥, 제육볶음·두루치기·불고기, 국수·칼국수·수제비', '해물탕' : '매운탕·해물탕, 해산물요리' }"
   ]
  },
  {
   "cell_type": "code",
   "execution_count": 24,
   "id": "1b17642a",
   "metadata": {},
   "outputs": [
    {
     "data": {
      "text/plain": [
       "array(['전골', '생선탕', '한식', '찌개/짜글이', '알탕', '해물탕', '기타', '국', '구이', '순대',\n",
       "       '씨푸드', '닭', '찜', '오리', '면', '국수', '스테이크', '파스타', '감바스', '떡볶이',\n",
       "       '마라탕', '마파두부', '무침', '쌈', '샌드위치', '볶음', '족발', '리조또', '카레'],\n",
       "      dtype=object)"
      ]
     },
     "execution_count": 24,
     "metadata": {},
     "output_type": "execute_result"
    }
   ],
   "source": [
    "df['상세카테고리'].unique()"
   ]
  },
  {
   "cell_type": "code",
   "execution_count": null,
   "id": "deac9f4a",
   "metadata": {},
   "outputs": [],
   "source": [
    "dict1 = {'찌개/국' : '전골, 생선탕, 찌개/짜글이, 알탕, 해물탕, 국, 마라탕',\n",
    "         '면/파스타' : '면, 국수, 파스타',\n",
    "         '구이' : '구이, 스테이크',\n",
    "         '볶음/튀김' : '볶음, 감바스, 순대',\n",
    "         '조림/찜' : '찜, 마파두부, 족발',\n",
    "         '전체' : '한식, 기타, 씨푸드, 닭, 오리, 떡볶이, 무침, 쌈, 샌드위치, 리조또, 카레'}"
   ]
  },
  {
   "cell_type": "code",
   "execution_count": 20,
   "id": "20599c75",
   "metadata": {},
   "outputs": [],
   "source": [
    "## 네이버 데이터랩 api 코드 이지만 쓸 일 없을 듯\n",
    "# #-*- coding: utf-8 -*-\n",
    "# import os\n",
    "# import sys\n",
    "# import urllib.request\n",
    "# client_id = \"YOUR_CLIENT_ID\"\n",
    "# client_secret = \"YOUR_CLIENT_SECRET\"\n",
    "# url = \"https://openapi.naver.com/v1/datalab/search\";\n",
    "# body = \"{\\\"startDate\\\":\\\"2017-01-01\\\",\\\"endDate\\\":\\\"2017-04-30\\\",\\\"timeUnit\\\":\\\"month\\\",\\\"keywordGroups\\\":[{\\\"groupName\\\":\\\"한글\\\",\\\"keywords\\\":[\\\"한글\\\",\\\"korean\\\"]},{\\\"groupName\\\":\\\"영어\\\",\\\"keywords\\\":[\\\"영어\\\",\\\"english\\\"]}],\\\"device\\\":\\\"pc\\\",\\\"ages\\\":[\\\"1\\\",\\\"2\\\"],\\\"gender\\\":\\\"f\\\"}\";\n",
    "\n",
    "# request = urllib.request.Request(url)\n",
    "# request.add_header(\"X-Naver-Client-Id\",client_id)\n",
    "# request.add_header(\"X-Naver-Client-Secret\",client_secret)\n",
    "# request.add_header(\"Content-Type\",\"application/json\")\n",
    "# response = urllib.request.urlopen(request, data=body.encode(\"utf-8\"))\n",
    "# rescode = response.getcode()\n",
    "# if(rescode==200):\n",
    "#     response_body = response.read()\n",
    "#     print(response_body.decode('utf-8'))\n",
    "# else:\n",
    "#     print(\"Error Code:\" + rescode)\n"
   ]
  },
  {
   "cell_type": "code",
   "execution_count": null,
   "id": "7c27f410",
   "metadata": {},
   "outputs": [],
   "source": []
  }
 ],
 "metadata": {
  "kernelspec": {
   "display_name": "base",
   "language": "python",
   "name": "python3"
  },
  "language_info": {
   "codemirror_mode": {
    "name": "ipython",
    "version": 3
   },
   "file_extension": ".py",
   "mimetype": "text/x-python",
   "name": "python",
   "nbconvert_exporter": "python",
   "pygments_lexer": "ipython3",
   "version": "3.9.12"
  },
  "toc": {
   "base_numbering": 1,
   "nav_menu": {},
   "number_sections": true,
   "sideBar": true,
   "skip_h1_title": false,
   "title_cell": "Table of Contents",
   "title_sidebar": "Contents",
   "toc_cell": false,
   "toc_position": {},
   "toc_section_display": true,
   "toc_window_display": false
  },
  "vscode": {
   "interpreter": {
    "hash": "631926b96873d2007fbe5ba14401cac9ce99e5e76ded0bffc18be58f3fefa61b"
   }
  }
 },
 "nbformat": 4,
 "nbformat_minor": 5
}
