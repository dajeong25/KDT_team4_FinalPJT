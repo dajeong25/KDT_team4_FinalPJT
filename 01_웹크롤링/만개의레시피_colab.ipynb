{
  "cells": [
    {
      "cell_type": "code",
      "source": [
        "from google.colab import drive\n",
        "drive.mount('/content/drive')\n",
        "%cd /content/drive/My Drive"
      ],
      "metadata": {
        "colab": {
          "base_uri": "https://localhost:8080/"
        },
        "id": "Gh8R_BiNZzjY",
        "outputId": "7bbb03ca-a10e-4483-baac-87863b894d17"
      },
      "execution_count": 1,
      "outputs": [
        {
          "output_type": "stream",
          "name": "stdout",
          "text": [
            "Mounted at /content/drive\n",
            "/content/drive/My Drive\n"
          ]
        }
      ]
    },
    {
      "cell_type": "code",
      "execution_count": 2,
      "metadata": {
        "id": "dgCwkdznZtCA"
      },
      "outputs": [],
      "source": [
        "import pandas as pd\n",
        "import re\n",
        "import numpy as np\n",
        "import itertools"
      ]
    },
    {
      "cell_type": "code",
      "execution_count": 6,
      "metadata": {
        "colab": {
          "base_uri": "https://localhost:8080/"
        },
        "id": "eySfgQHWZtCD",
        "outputId": "dd6beb51-b97f-4257-9467-2a9eda39ec34"
      },
      "outputs": [
        {
          "output_type": "stream",
          "name": "stderr",
          "text": [
            "/usr/local/lib/python3.8/dist-packages/IPython/core/interactiveshell.py:3326: DtypeWarning: Columns (0,5,6,7,17) have mixed types.Specify dtype option on import or set low_memory=False.\n",
            "  exec(code_obj, self.user_global_ns, self.user_ns)\n"
          ]
        },
        {
          "output_type": "stream",
          "name": "stdout",
          "text": [
            "<class 'pandas.core.frame.DataFrame'>\n",
            "Int64Index: 128400 entries, 1 to 128400\n",
            "Data columns (total 18 columns):\n",
            " #   Column   Non-Null Count   Dtype \n",
            "---  ------   --------------   ----- \n",
            " 0   레시피일련번호  128400 non-null  object\n",
            " 1   레시피제목    128400 non-null  object\n",
            " 2   요리명      126310 non-null  object\n",
            " 3   등록자ID    128400 non-null  object\n",
            " 4   등록자명     128394 non-null  object\n",
            " 5   조회수      128400 non-null  object\n",
            " 6   추천수      128400 non-null  object\n",
            " 7   스크랩수     128400 non-null  object\n",
            " 8   요리방법별명   128400 non-null  object\n",
            " 9   요리상황별명   127510 non-null  object\n",
            " 10  요리재료별명   128400 non-null  object\n",
            " 11  요리종류별명   128400 non-null  object\n",
            " 12  요리소개     127783 non-null  object\n",
            " 13  요리재료내용   127340 non-null  object\n",
            " 14  요리인분명    124171 non-null  object\n",
            " 15  요리난이도명   128137 non-null  object\n",
            " 16  요리시간명    120054 non-null  object\n",
            " 17  최초등록일시   128400 non-null  object\n",
            "dtypes: object(18)\n",
            "memory usage: 18.6+ MB\n"
          ]
        }
      ],
      "source": [
        "header= [\"레시피일련번호\",'레시피제목','요리명','등록자ID','등록자명','조회수','추천수','스크랩수','요리방법별명','요리상황별명','요리재료별명','요리종류별명','요리소개','요리재료내용','요리인분명','요리난이도명',\"요리시간명\",\"최초등록일시\"]\n",
        "ckg = pd.read_csv('만개의레시피.csv', header=None, names=header, encoding='cp949')\n",
        "ckg.drop(0, inplace=True)\n",
        "ckg.info()"
      ]
    },
    {
      "cell_type": "code",
      "execution_count": 7,
      "metadata": {
        "colab": {
          "base_uri": "https://localhost:8080/",
          "height": 354
        },
        "id": "xKkMAUVEZtCE",
        "outputId": "77a95d22-f1b9-44cd-e81a-890b20a3d228"
      },
      "outputs": [
        {
          "output_type": "execute_result",
          "data": {
            "text/plain": [
              "  레시피일련번호            레시피제목    요리명   조회수 추천수 스크랩수 요리방법별명 요리상황별명 요리재료별명 요리종류별명  \\\n",
              "1  128671            어묵김말이  어묵김말이  9592   6   66     튀김     간식  가공식품류    디저트   \n",
              "2  128892  두부에 꼬리가 달렸어요!!     NaN  5538   3   26     부침     일상    해물류    밑반찬   \n",
              "3  128932        입안에서 톡톡톡     NaN  6802   8   36     굽기     일상    해물류  밥/죽/떡   \n",
              "4  131871           ★현미호두죽  현미호두죽  2912   0    9    끓이기     일상      쌀  밥/죽/떡   \n",
              "5  139247  부들부들 보들보들 북어갈비♥   북어갈비  6865   3   97     굽기    술안주   건어물류   메인반찬   \n",
              "\n",
              "                                                요리소개  \\\n",
              "1                         맛있는 김말이에 쫄깃함을 더한 어묵 김말이예요-   \n",
              "2  꼬리가 너-무- 매력적인 두부새우전. 두부와 야채를 한번에!! 영양까지 만점인 두부...   \n",
              "3  간단하게 만들어 보는 알이 톡톡톡 알밥♥ 다 먹고 누룽지까지 싹싹 긁어먹는게 최고죠...   \n",
              "4                                              현미호두죽   \n",
              "5  오늘은 집에서 굴러다니고 쉽게 구할 수 있는 북어로 일품요리를 만들어 보았어요! 도...   \n",
              "\n",
              "                                              요리재료내용  \n",
              "1  [재료] 어묵 2개| 김밥용김 3장| 당면 1움큼| 양파 1/2개| 당근 1/2개|...  \n",
              "2  [재료] 두부 1/2모| 당근 1/2개| 고추 2개| 브로콜리 1/4개| 새우 4마...  \n",
              "3  [재료] 밥 1+1/2공기| 당근 1/4개| 치자단무지 1/2개| 신김치 1쪽| 무...  \n",
              "4           [재료] 현미 4컵| 찹쌀 2컵| 호두 50g| 물 1/2컵| 소금 약간  \n",
              "5  [재료] 북어포 1마리| 찹쌀가루 1C [양념] 간장 2T| 설탕 1T| 물 1T|...  "
            ],
            "text/html": [
              "\n",
              "  <div id=\"df-c4641333-bbda-4347-abcf-996a0b462bac\">\n",
              "    <div class=\"colab-df-container\">\n",
              "      <div>\n",
              "<style scoped>\n",
              "    .dataframe tbody tr th:only-of-type {\n",
              "        vertical-align: middle;\n",
              "    }\n",
              "\n",
              "    .dataframe tbody tr th {\n",
              "        vertical-align: top;\n",
              "    }\n",
              "\n",
              "    .dataframe thead th {\n",
              "        text-align: right;\n",
              "    }\n",
              "</style>\n",
              "<table border=\"1\" class=\"dataframe\">\n",
              "  <thead>\n",
              "    <tr style=\"text-align: right;\">\n",
              "      <th></th>\n",
              "      <th>레시피일련번호</th>\n",
              "      <th>레시피제목</th>\n",
              "      <th>요리명</th>\n",
              "      <th>조회수</th>\n",
              "      <th>추천수</th>\n",
              "      <th>스크랩수</th>\n",
              "      <th>요리방법별명</th>\n",
              "      <th>요리상황별명</th>\n",
              "      <th>요리재료별명</th>\n",
              "      <th>요리종류별명</th>\n",
              "      <th>요리소개</th>\n",
              "      <th>요리재료내용</th>\n",
              "    </tr>\n",
              "  </thead>\n",
              "  <tbody>\n",
              "    <tr>\n",
              "      <th>1</th>\n",
              "      <td>128671</td>\n",
              "      <td>어묵김말이</td>\n",
              "      <td>어묵김말이</td>\n",
              "      <td>9592</td>\n",
              "      <td>6</td>\n",
              "      <td>66</td>\n",
              "      <td>튀김</td>\n",
              "      <td>간식</td>\n",
              "      <td>가공식품류</td>\n",
              "      <td>디저트</td>\n",
              "      <td>맛있는 김말이에 쫄깃함을 더한 어묵 김말이예요-</td>\n",
              "      <td>[재료] 어묵 2개| 김밥용김 3장| 당면 1움큼| 양파 1/2개| 당근 1/2개|...</td>\n",
              "    </tr>\n",
              "    <tr>\n",
              "      <th>2</th>\n",
              "      <td>128892</td>\n",
              "      <td>두부에 꼬리가 달렸어요!!</td>\n",
              "      <td>NaN</td>\n",
              "      <td>5538</td>\n",
              "      <td>3</td>\n",
              "      <td>26</td>\n",
              "      <td>부침</td>\n",
              "      <td>일상</td>\n",
              "      <td>해물류</td>\n",
              "      <td>밑반찬</td>\n",
              "      <td>꼬리가 너-무- 매력적인 두부새우전. 두부와 야채를 한번에!! 영양까지 만점인 두부...</td>\n",
              "      <td>[재료] 두부 1/2모| 당근 1/2개| 고추 2개| 브로콜리 1/4개| 새우 4마...</td>\n",
              "    </tr>\n",
              "    <tr>\n",
              "      <th>3</th>\n",
              "      <td>128932</td>\n",
              "      <td>입안에서 톡톡톡</td>\n",
              "      <td>NaN</td>\n",
              "      <td>6802</td>\n",
              "      <td>8</td>\n",
              "      <td>36</td>\n",
              "      <td>굽기</td>\n",
              "      <td>일상</td>\n",
              "      <td>해물류</td>\n",
              "      <td>밥/죽/떡</td>\n",
              "      <td>간단하게 만들어 보는 알이 톡톡톡 알밥♥ 다 먹고 누룽지까지 싹싹 긁어먹는게 최고죠...</td>\n",
              "      <td>[재료] 밥 1+1/2공기| 당근 1/4개| 치자단무지 1/2개| 신김치 1쪽| 무...</td>\n",
              "    </tr>\n",
              "    <tr>\n",
              "      <th>4</th>\n",
              "      <td>131871</td>\n",
              "      <td>★현미호두죽</td>\n",
              "      <td>현미호두죽</td>\n",
              "      <td>2912</td>\n",
              "      <td>0</td>\n",
              "      <td>9</td>\n",
              "      <td>끓이기</td>\n",
              "      <td>일상</td>\n",
              "      <td>쌀</td>\n",
              "      <td>밥/죽/떡</td>\n",
              "      <td>현미호두죽</td>\n",
              "      <td>[재료] 현미 4컵| 찹쌀 2컵| 호두 50g| 물 1/2컵| 소금 약간</td>\n",
              "    </tr>\n",
              "    <tr>\n",
              "      <th>5</th>\n",
              "      <td>139247</td>\n",
              "      <td>부들부들 보들보들 북어갈비♥</td>\n",
              "      <td>북어갈비</td>\n",
              "      <td>6865</td>\n",
              "      <td>3</td>\n",
              "      <td>97</td>\n",
              "      <td>굽기</td>\n",
              "      <td>술안주</td>\n",
              "      <td>건어물류</td>\n",
              "      <td>메인반찬</td>\n",
              "      <td>오늘은 집에서 굴러다니고 쉽게 구할 수 있는 북어로 일품요리를 만들어 보았어요! 도...</td>\n",
              "      <td>[재료] 북어포 1마리| 찹쌀가루 1C [양념] 간장 2T| 설탕 1T| 물 1T|...</td>\n",
              "    </tr>\n",
              "  </tbody>\n",
              "</table>\n",
              "</div>\n",
              "      <button class=\"colab-df-convert\" onclick=\"convertToInteractive('df-c4641333-bbda-4347-abcf-996a0b462bac')\"\n",
              "              title=\"Convert this dataframe to an interactive table.\"\n",
              "              style=\"display:none;\">\n",
              "        \n",
              "  <svg xmlns=\"http://www.w3.org/2000/svg\" height=\"24px\"viewBox=\"0 0 24 24\"\n",
              "       width=\"24px\">\n",
              "    <path d=\"M0 0h24v24H0V0z\" fill=\"none\"/>\n",
              "    <path d=\"M18.56 5.44l.94 2.06.94-2.06 2.06-.94-2.06-.94-.94-2.06-.94 2.06-2.06.94zm-11 1L8.5 8.5l.94-2.06 2.06-.94-2.06-.94L8.5 2.5l-.94 2.06-2.06.94zm10 10l.94 2.06.94-2.06 2.06-.94-2.06-.94-.94-2.06-.94 2.06-2.06.94z\"/><path d=\"M17.41 7.96l-1.37-1.37c-.4-.4-.92-.59-1.43-.59-.52 0-1.04.2-1.43.59L10.3 9.45l-7.72 7.72c-.78.78-.78 2.05 0 2.83L4 21.41c.39.39.9.59 1.41.59.51 0 1.02-.2 1.41-.59l7.78-7.78 2.81-2.81c.8-.78.8-2.07 0-2.86zM5.41 20L4 18.59l7.72-7.72 1.47 1.35L5.41 20z\"/>\n",
              "  </svg>\n",
              "      </button>\n",
              "      \n",
              "  <style>\n",
              "    .colab-df-container {\n",
              "      display:flex;\n",
              "      flex-wrap:wrap;\n",
              "      gap: 12px;\n",
              "    }\n",
              "\n",
              "    .colab-df-convert {\n",
              "      background-color: #E8F0FE;\n",
              "      border: none;\n",
              "      border-radius: 50%;\n",
              "      cursor: pointer;\n",
              "      display: none;\n",
              "      fill: #1967D2;\n",
              "      height: 32px;\n",
              "      padding: 0 0 0 0;\n",
              "      width: 32px;\n",
              "    }\n",
              "\n",
              "    .colab-df-convert:hover {\n",
              "      background-color: #E2EBFA;\n",
              "      box-shadow: 0px 1px 2px rgba(60, 64, 67, 0.3), 0px 1px 3px 1px rgba(60, 64, 67, 0.15);\n",
              "      fill: #174EA6;\n",
              "    }\n",
              "\n",
              "    [theme=dark] .colab-df-convert {\n",
              "      background-color: #3B4455;\n",
              "      fill: #D2E3FC;\n",
              "    }\n",
              "\n",
              "    [theme=dark] .colab-df-convert:hover {\n",
              "      background-color: #434B5C;\n",
              "      box-shadow: 0px 1px 3px 1px rgba(0, 0, 0, 0.15);\n",
              "      filter: drop-shadow(0px 1px 2px rgba(0, 0, 0, 0.3));\n",
              "      fill: #FFFFFF;\n",
              "    }\n",
              "  </style>\n",
              "\n",
              "      <script>\n",
              "        const buttonEl =\n",
              "          document.querySelector('#df-c4641333-bbda-4347-abcf-996a0b462bac button.colab-df-convert');\n",
              "        buttonEl.style.display =\n",
              "          google.colab.kernel.accessAllowed ? 'block' : 'none';\n",
              "\n",
              "        async function convertToInteractive(key) {\n",
              "          const element = document.querySelector('#df-c4641333-bbda-4347-abcf-996a0b462bac');\n",
              "          const dataTable =\n",
              "            await google.colab.kernel.invokeFunction('convertToInteractive',\n",
              "                                                     [key], {});\n",
              "          if (!dataTable) return;\n",
              "\n",
              "          const docLinkHtml = 'Like what you see? Visit the ' +\n",
              "            '<a target=\"_blank\" href=https://colab.research.google.com/notebooks/data_table.ipynb>data table notebook</a>'\n",
              "            + ' to learn more about interactive tables.';\n",
              "          element.innerHTML = '';\n",
              "          dataTable['output_type'] = 'display_data';\n",
              "          await google.colab.output.renderOutput(dataTable, element);\n",
              "          const docLink = document.createElement('div');\n",
              "          docLink.innerHTML = docLinkHtml;\n",
              "          element.appendChild(docLink);\n",
              "        }\n",
              "      </script>\n",
              "    </div>\n",
              "  </div>\n",
              "  "
            ]
          },
          "metadata": {},
          "execution_count": 7
        }
      ],
      "source": [
        "ckg.drop(['등록자ID','등록자명','요리인분명','요리난이도명',\"요리시간명\",\"최초등록일시\"], axis=1, inplace=True)\n",
        "ckg.head()"
      ]
    },
    {
      "cell_type": "code",
      "execution_count": 8,
      "metadata": {
        "colab": {
          "base_uri": "https://localhost:8080/"
        },
        "id": "A-QLLAiUZtCF",
        "outputId": "380f9335-9b28-4a10-d3fc-3dcca513ecdf"
      },
      "outputs": [
        {
          "output_type": "stream",
          "name": "stdout",
          "text": [
            "<class 'pandas.core.frame.DataFrame'>\n",
            "RangeIndex: 127340 entries, 0 to 127339\n",
            "Data columns (total 12 columns):\n",
            " #   Column   Non-Null Count   Dtype \n",
            "---  ------   --------------   ----- \n",
            " 0   레시피일련번호  127340 non-null  object\n",
            " 1   레시피제목    127340 non-null  object\n",
            " 2   요리명      125389 non-null  object\n",
            " 3   조회수      127340 non-null  object\n",
            " 4   추천수      127340 non-null  object\n",
            " 5   스크랩수     127340 non-null  object\n",
            " 6   요리방법별명   127340 non-null  object\n",
            " 7   요리상황별명   126451 non-null  object\n",
            " 8   요리재료별명   127340 non-null  object\n",
            " 9   요리종류별명   127340 non-null  object\n",
            " 10  요리소개     126859 non-null  object\n",
            " 11  요리재료내용   127340 non-null  object\n",
            "dtypes: object(12)\n",
            "memory usage: 11.7+ MB\n"
          ]
        }
      ],
      "source": [
        "#요리재료내용 결측치 삭제\n",
        "ckg_drop = ckg[ckg.loc[:,'요리재료내용'].isnull()].index\n",
        "ckg_drop = ckg.drop(ckg_drop)\n",
        "ckg_drop.reset_index(drop=True, inplace=True)\n",
        "ckg_drop.info()"
      ]
    },
    {
      "cell_type": "code",
      "execution_count": 9,
      "metadata": {
        "colab": {
          "base_uri": "https://localhost:8080/"
        },
        "id": "EPr6FaC7ZtCF",
        "outputId": "e71814d1-8744-48f7-f74c-8cec0537c8d3"
      },
      "outputs": [
        {
          "output_type": "execute_result",
          "data": {
            "text/plain": [
              "밑반찬         25346\n",
              "메인반찬        20343\n",
              "밥/죽/떡       17447\n",
              "빵           11834\n",
              "국/탕         10404\n",
              "면/만두         8585\n",
              "디저트          6457\n",
              "찌개           4092\n",
              "김치/젓갈/장류     3855\n",
              "기타           3690\n",
              "과자           3393\n",
              "차/음료/술       2863\n",
              "양식           2796\n",
              "샐러드          2746\n",
              "양념/소스/잼      2099\n",
              "퓨전            820\n",
              "스프            570\n",
              "Name: 요리종류별명, dtype: int64"
            ]
          },
          "metadata": {},
          "execution_count": 9
        }
      ],
      "source": [
        "ckg_drop.요리종류별명.value_counts()"
      ]
    },
    {
      "cell_type": "code",
      "execution_count": 10,
      "metadata": {
        "colab": {
          "base_uri": "https://localhost:8080/"
        },
        "id": "uiVHxh7cZtCF",
        "outputId": "064df873-b844-4252-91b5-6c0a6696f48e"
      },
      "outputs": [
        {
          "output_type": "execute_result",
          "data": {
            "text/plain": [
              "채소류       33865\n",
              "해물류       14102\n",
              "밀가루       12692\n",
              "가공식품류     12136\n",
              "돼지고기       7698\n",
              "달걀/유제품     7540\n",
              "소고기        5763\n",
              "쌀          5597\n",
              "닭고기        5372\n",
              "기타         5263\n",
              "과일류        4328\n",
              "콩/견과류      4205\n",
              "건어물류       3735\n",
              "버섯류        1713\n",
              "육류         1712\n",
              "곡류         1619\n",
              "Name: 요리재료별명, dtype: int64"
            ]
          },
          "metadata": {},
          "execution_count": 10
        }
      ],
      "source": [
        "ckg_drop.요리재료별명.value_counts()"
      ]
    },
    {
      "cell_type": "code",
      "execution_count": 11,
      "metadata": {
        "colab": {
          "base_uri": "https://localhost:8080/"
        },
        "id": "sVPeBK0dZtCG",
        "outputId": "b999b464-8d07-4140-a69e-059185a1fd1a"
      },
      "outputs": [
        {
          "output_type": "stream",
          "name": "stdout",
          "text": [
            "<class 'pandas.core.frame.DataFrame'>\n",
            "RangeIndex: 97378 entries, 0 to 97377\n",
            "Data columns (total 12 columns):\n",
            " #   Column   Non-Null Count  Dtype \n",
            "---  ------   --------------  ----- \n",
            " 0   레시피일련번호  97378 non-null  object\n",
            " 1   레시피제목    97378 non-null  object\n",
            " 2   요리명      95875 non-null  object\n",
            " 3   조회수      97378 non-null  object\n",
            " 4   추천수      97378 non-null  object\n",
            " 5   스크랩수     97378 non-null  object\n",
            " 6   요리방법별명   97378 non-null  object\n",
            " 7   요리상황별명   96911 non-null  object\n",
            " 8   요리재료별명   97378 non-null  object\n",
            " 9   요리종류별명   97378 non-null  object\n",
            " 10  요리소개     97018 non-null  object\n",
            " 11  요리재료내용   97378 non-null  object\n",
            "dtypes: object(12)\n",
            "memory usage: 8.9+ MB\n"
          ]
        }
      ],
      "source": [
        "#디저트, 차/음료/술 , 양념/소스/잼, 과자, 빵 카테고리 제외\n",
        "drop_list = ckg_drop.loc[(ckg_drop['요리종류별명']=='디저트')\n",
        "                        | (ckg_drop['요리종류별명']=='양념/소스/잼')\n",
        "                        | (ckg_drop['요리종류별명']=='빵')\n",
        "                        | (ckg_drop['요리종류별명']=='과자')\n",
        "                        | (ckg_drop['요리종류별명']=='차/음료/술')\n",
        "                        | (ckg_drop['요리종류별명']=='샐러드')\n",
        "                        | (ckg_drop['요리종류별명']=='스프')].index\n",
        "ckg_drop.drop(drop_list, inplace=True)\n",
        "ckg_drop.reset_index(drop=True, inplace=True)\n",
        "ckg_drop.info()"
      ]
    },
    {
      "cell_type": "code",
      "execution_count": 12,
      "metadata": {
        "colab": {
          "base_uri": "https://localhost:8080/",
          "height": 337
        },
        "id": "jbuOhR-nZtCG",
        "outputId": "bb0bcee1-3cb1-4adc-fe9e-95b6de7440e6"
      },
      "outputs": [
        {
          "output_type": "execute_result",
          "data": {
            "text/plain": [
              "  레시피일련번호            레시피제목      요리명    조회수 추천수 스크랩수 요리방법별명 요리상황별명 요리재료별명  \\\n",
              "0  128892  두부에 꼬리가 달렸어요!!       NaN   5538   3   26     부침     일상    해물류   \n",
              "1  128932        입안에서 톡톡톡       NaN   6802   8   36     굽기     일상    해물류   \n",
              "2  131871           ★현미호두죽    현미호두죽   2912   0    9    끓이기     일상      쌀   \n",
              "3  139247  부들부들 보들보들 북어갈비♥     북어갈비   6865   3   97     굽기    술안주   건어물류   \n",
              "4  149207         토마토스파게티♥  토마토스파게티  12754   2   36     볶음     일상  가공식품류   \n",
              "\n",
              "  요리종류별명                                               요리소개  \\\n",
              "0    밑반찬  꼬리가 너-무- 매력적인 두부새우전. 두부와 야채를 한번에!! 영양까지 만점인 두부...   \n",
              "1  밥/죽/떡  간단하게 만들어 보는 알이 톡톡톡 알밥♥ 다 먹고 누룽지까지 싹싹 긁어먹는게 최고죠...   \n",
              "2  밥/죽/떡                                              현미호두죽   \n",
              "3   메인반찬  오늘은 집에서 굴러다니고 쉽게 구할 수 있는 북어로 일품요리를 만들어 보았어요! 도...   \n",
              "4   면/만두       한번 만들어 두면 이모저모 쓸 용도가 많은 토마토소스를 이용한 토마토 스파게티.   \n",
              "\n",
              "                                              요리재료내용  \n",
              "0  [재료] 두부 1/2모| 당근 1/2개| 고추 2개| 브로콜리 1/4개| 새우 4마...  \n",
              "1  [재료] 밥 1+1/2공기| 당근 1/4개| 치자단무지 1/2개| 신김치 1쪽| 무...  \n",
              "2           [재료] 현미 4컵| 찹쌀 2컵| 호두 50g| 물 1/2컵| 소금 약간  \n",
              "3  [재료] 북어포 1마리| 찹쌀가루 1C [양념] 간장 2T| 설탕 1T| 물 1T|...  \n",
              "4  [재료] 파스타면 [양념] 토마토 1개| 토마토 페이스트 3T| 양파 1/2개| 다...  "
            ],
            "text/html": [
              "\n",
              "  <div id=\"df-0eed7c31-f754-413d-a84e-32979827af26\">\n",
              "    <div class=\"colab-df-container\">\n",
              "      <div>\n",
              "<style scoped>\n",
              "    .dataframe tbody tr th:only-of-type {\n",
              "        vertical-align: middle;\n",
              "    }\n",
              "\n",
              "    .dataframe tbody tr th {\n",
              "        vertical-align: top;\n",
              "    }\n",
              "\n",
              "    .dataframe thead th {\n",
              "        text-align: right;\n",
              "    }\n",
              "</style>\n",
              "<table border=\"1\" class=\"dataframe\">\n",
              "  <thead>\n",
              "    <tr style=\"text-align: right;\">\n",
              "      <th></th>\n",
              "      <th>레시피일련번호</th>\n",
              "      <th>레시피제목</th>\n",
              "      <th>요리명</th>\n",
              "      <th>조회수</th>\n",
              "      <th>추천수</th>\n",
              "      <th>스크랩수</th>\n",
              "      <th>요리방법별명</th>\n",
              "      <th>요리상황별명</th>\n",
              "      <th>요리재료별명</th>\n",
              "      <th>요리종류별명</th>\n",
              "      <th>요리소개</th>\n",
              "      <th>요리재료내용</th>\n",
              "    </tr>\n",
              "  </thead>\n",
              "  <tbody>\n",
              "    <tr>\n",
              "      <th>0</th>\n",
              "      <td>128892</td>\n",
              "      <td>두부에 꼬리가 달렸어요!!</td>\n",
              "      <td>NaN</td>\n",
              "      <td>5538</td>\n",
              "      <td>3</td>\n",
              "      <td>26</td>\n",
              "      <td>부침</td>\n",
              "      <td>일상</td>\n",
              "      <td>해물류</td>\n",
              "      <td>밑반찬</td>\n",
              "      <td>꼬리가 너-무- 매력적인 두부새우전. 두부와 야채를 한번에!! 영양까지 만점인 두부...</td>\n",
              "      <td>[재료] 두부 1/2모| 당근 1/2개| 고추 2개| 브로콜리 1/4개| 새우 4마...</td>\n",
              "    </tr>\n",
              "    <tr>\n",
              "      <th>1</th>\n",
              "      <td>128932</td>\n",
              "      <td>입안에서 톡톡톡</td>\n",
              "      <td>NaN</td>\n",
              "      <td>6802</td>\n",
              "      <td>8</td>\n",
              "      <td>36</td>\n",
              "      <td>굽기</td>\n",
              "      <td>일상</td>\n",
              "      <td>해물류</td>\n",
              "      <td>밥/죽/떡</td>\n",
              "      <td>간단하게 만들어 보는 알이 톡톡톡 알밥♥ 다 먹고 누룽지까지 싹싹 긁어먹는게 최고죠...</td>\n",
              "      <td>[재료] 밥 1+1/2공기| 당근 1/4개| 치자단무지 1/2개| 신김치 1쪽| 무...</td>\n",
              "    </tr>\n",
              "    <tr>\n",
              "      <th>2</th>\n",
              "      <td>131871</td>\n",
              "      <td>★현미호두죽</td>\n",
              "      <td>현미호두죽</td>\n",
              "      <td>2912</td>\n",
              "      <td>0</td>\n",
              "      <td>9</td>\n",
              "      <td>끓이기</td>\n",
              "      <td>일상</td>\n",
              "      <td>쌀</td>\n",
              "      <td>밥/죽/떡</td>\n",
              "      <td>현미호두죽</td>\n",
              "      <td>[재료] 현미 4컵| 찹쌀 2컵| 호두 50g| 물 1/2컵| 소금 약간</td>\n",
              "    </tr>\n",
              "    <tr>\n",
              "      <th>3</th>\n",
              "      <td>139247</td>\n",
              "      <td>부들부들 보들보들 북어갈비♥</td>\n",
              "      <td>북어갈비</td>\n",
              "      <td>6865</td>\n",
              "      <td>3</td>\n",
              "      <td>97</td>\n",
              "      <td>굽기</td>\n",
              "      <td>술안주</td>\n",
              "      <td>건어물류</td>\n",
              "      <td>메인반찬</td>\n",
              "      <td>오늘은 집에서 굴러다니고 쉽게 구할 수 있는 북어로 일품요리를 만들어 보았어요! 도...</td>\n",
              "      <td>[재료] 북어포 1마리| 찹쌀가루 1C [양념] 간장 2T| 설탕 1T| 물 1T|...</td>\n",
              "    </tr>\n",
              "    <tr>\n",
              "      <th>4</th>\n",
              "      <td>149207</td>\n",
              "      <td>토마토스파게티♥</td>\n",
              "      <td>토마토스파게티</td>\n",
              "      <td>12754</td>\n",
              "      <td>2</td>\n",
              "      <td>36</td>\n",
              "      <td>볶음</td>\n",
              "      <td>일상</td>\n",
              "      <td>가공식품류</td>\n",
              "      <td>면/만두</td>\n",
              "      <td>한번 만들어 두면 이모저모 쓸 용도가 많은 토마토소스를 이용한 토마토 스파게티.</td>\n",
              "      <td>[재료] 파스타면 [양념] 토마토 1개| 토마토 페이스트 3T| 양파 1/2개| 다...</td>\n",
              "    </tr>\n",
              "  </tbody>\n",
              "</table>\n",
              "</div>\n",
              "      <button class=\"colab-df-convert\" onclick=\"convertToInteractive('df-0eed7c31-f754-413d-a84e-32979827af26')\"\n",
              "              title=\"Convert this dataframe to an interactive table.\"\n",
              "              style=\"display:none;\">\n",
              "        \n",
              "  <svg xmlns=\"http://www.w3.org/2000/svg\" height=\"24px\"viewBox=\"0 0 24 24\"\n",
              "       width=\"24px\">\n",
              "    <path d=\"M0 0h24v24H0V0z\" fill=\"none\"/>\n",
              "    <path d=\"M18.56 5.44l.94 2.06.94-2.06 2.06-.94-2.06-.94-.94-2.06-.94 2.06-2.06.94zm-11 1L8.5 8.5l.94-2.06 2.06-.94-2.06-.94L8.5 2.5l-.94 2.06-2.06.94zm10 10l.94 2.06.94-2.06 2.06-.94-2.06-.94-.94-2.06-.94 2.06-2.06.94z\"/><path d=\"M17.41 7.96l-1.37-1.37c-.4-.4-.92-.59-1.43-.59-.52 0-1.04.2-1.43.59L10.3 9.45l-7.72 7.72c-.78.78-.78 2.05 0 2.83L4 21.41c.39.39.9.59 1.41.59.51 0 1.02-.2 1.41-.59l7.78-7.78 2.81-2.81c.8-.78.8-2.07 0-2.86zM5.41 20L4 18.59l7.72-7.72 1.47 1.35L5.41 20z\"/>\n",
              "  </svg>\n",
              "      </button>\n",
              "      \n",
              "  <style>\n",
              "    .colab-df-container {\n",
              "      display:flex;\n",
              "      flex-wrap:wrap;\n",
              "      gap: 12px;\n",
              "    }\n",
              "\n",
              "    .colab-df-convert {\n",
              "      background-color: #E8F0FE;\n",
              "      border: none;\n",
              "      border-radius: 50%;\n",
              "      cursor: pointer;\n",
              "      display: none;\n",
              "      fill: #1967D2;\n",
              "      height: 32px;\n",
              "      padding: 0 0 0 0;\n",
              "      width: 32px;\n",
              "    }\n",
              "\n",
              "    .colab-df-convert:hover {\n",
              "      background-color: #E2EBFA;\n",
              "      box-shadow: 0px 1px 2px rgba(60, 64, 67, 0.3), 0px 1px 3px 1px rgba(60, 64, 67, 0.15);\n",
              "      fill: #174EA6;\n",
              "    }\n",
              "\n",
              "    [theme=dark] .colab-df-convert {\n",
              "      background-color: #3B4455;\n",
              "      fill: #D2E3FC;\n",
              "    }\n",
              "\n",
              "    [theme=dark] .colab-df-convert:hover {\n",
              "      background-color: #434B5C;\n",
              "      box-shadow: 0px 1px 3px 1px rgba(0, 0, 0, 0.15);\n",
              "      filter: drop-shadow(0px 1px 2px rgba(0, 0, 0, 0.3));\n",
              "      fill: #FFFFFF;\n",
              "    }\n",
              "  </style>\n",
              "\n",
              "      <script>\n",
              "        const buttonEl =\n",
              "          document.querySelector('#df-0eed7c31-f754-413d-a84e-32979827af26 button.colab-df-convert');\n",
              "        buttonEl.style.display =\n",
              "          google.colab.kernel.accessAllowed ? 'block' : 'none';\n",
              "\n",
              "        async function convertToInteractive(key) {\n",
              "          const element = document.querySelector('#df-0eed7c31-f754-413d-a84e-32979827af26');\n",
              "          const dataTable =\n",
              "            await google.colab.kernel.invokeFunction('convertToInteractive',\n",
              "                                                     [key], {});\n",
              "          if (!dataTable) return;\n",
              "\n",
              "          const docLinkHtml = 'Like what you see? Visit the ' +\n",
              "            '<a target=\"_blank\" href=https://colab.research.google.com/notebooks/data_table.ipynb>data table notebook</a>'\n",
              "            + ' to learn more about interactive tables.';\n",
              "          element.innerHTML = '';\n",
              "          dataTable['output_type'] = 'display_data';\n",
              "          await google.colab.output.renderOutput(dataTable, element);\n",
              "          const docLink = document.createElement('div');\n",
              "          docLink.innerHTML = docLinkHtml;\n",
              "          element.appendChild(docLink);\n",
              "        }\n",
              "      </script>\n",
              "    </div>\n",
              "  </div>\n",
              "  "
            ]
          },
          "metadata": {},
          "execution_count": 12
        }
      ],
      "source": [
        "ckg_drop.head()"
      ]
    },
    {
      "cell_type": "markdown",
      "metadata": {
        "id": "zxUJ0XlAZtCH"
      },
      "source": [
        "## 요리 재료 전처리"
      ]
    },
    {
      "cell_type": "code",
      "execution_count": null,
      "metadata": {
        "id": "R4vMEPXPZtCJ"
      },
      "outputs": [],
      "source": [
        "###재료 전처리\n",
        "\n",
        "#요리재료_전처리(new column)\n",
        "ckg_drop['요리재료_전처리'] = np.NaN\n",
        "one_len = ['무','파','꿀','깨','떡','햄','콩','빵','닭','밤','면','잣','쌈', '마', '쑥','굴']\n",
        "\n",
        "for idx in range(len(ckg_drop)):\n",
        "    ingredient = ckg_drop.loc[idx, '요리재료내용']\n",
        "    ingredient = re.sub(r'\\[(.*?)\\]', '|', ingredient)\n",
        "    ingredient = re.sub(r'\\([^)]*\\)|[^ㄱ-ㅣ가-힣 \\|]', ' ', str(ingredient)) #한국어 제외 모두 제거\n",
        "\n",
        "    ingredient = ingredient.strip()\n",
        "    ingredients = ingredient.split('|')\n",
        "\n",
        "    #한자리 요리 재료 제외한 나머지 제거\n",
        "    ingredient_list = []\n",
        "    for ingredient in ckg_drop['요리재료_전처리']:\n",
        "        ingredients = ingredient.split(', ')\n",
        "        \n",
        "        for i in ingredients:\n",
        "            if (len(i) == 1) and (i not in one_len):\n",
        "                pass\n",
        "            else:\n",
        "                ingredient_list.extend(i)\n",
        "\n",
        "    ingre_lists = []\n",
        "    for i in ingredients:\n",
        "        i = i.strip()\n",
        "        i = i.split(' ')\n",
        "\n",
        "        if len(i) == 1 and i != None : #계량 단위 없는 경우\n",
        "            ingre_lists.append(i)\n",
        "        elif len(i) > 1:\n",
        "            i.pop(-1)    #가장 마지막의 계량 단위 제거\n",
        "            i = ' '.join(i)\n",
        "            i = [i.strip()]\n",
        "            ingre_lists.append(i)\n",
        "        else :\n",
        "            pass\n",
        "\n",
        "    #차원 축소\n",
        "    ingre_lists = list(itertools.chain(*ingre_lists))\n",
        "    \n",
        "    #null 제거\n",
        "    ingre_lists = list(filter(None, ingre_lists))\n",
        "    \n",
        "    #요리재료_전처리(new column)에 추가\n",
        "    ckg_drop.loc[idx, '요리재료_전처리'] = ', '.join(ingre_lists)\n",
        "\n",
        "ckg_drop.iloc[10000:10005,:]"
      ]
    },
    {
      "cell_type": "code",
      "execution_count": null,
      "metadata": {
        "id": "C-FhsSpsZtCK"
      },
      "outputs": [],
      "source": [
        "ckg_drop.to_csv('ckg_drop.csv')"
      ]
    },
    {
      "cell_type": "markdown",
      "metadata": {
        "id": "I0M_z9YSZtCK"
      },
      "source": [
        "## 재료 전체 사전을 만들기 위한 작업"
      ]
    },
    {
      "cell_type": "code",
      "execution_count": null,
      "metadata": {
        "id": "A_q7S13KZtCK"
      },
      "outputs": [],
      "source": [
        "#한자리 요리 재료 제외한 나머지 제거\n",
        "one_len = ['무','파','꿀','깨','떡','햄','콩','빵','닭','밤','면','잣','쌈', '마', '쑥','굴']\n",
        "\n",
        "ingredient_list = []\n",
        "for ingredient in ckg_drop['요리재료_전처리']:\n",
        "    ingredients = ingredient.split(', ')\n",
        "    ingredient_list.extend(ingredients)"
      ]
    },
    {
      "cell_type": "code",
      "execution_count": null,
      "metadata": {
        "id": "kE0SLJJsZtCL"
      },
      "outputs": [],
      "source": [
        "#한자리 요리 재료 제외한 나머지 제거\n",
        "one_len = ['무','파','꿀','깨','떡','햄','콩','빵','닭','밤','면','잣','쌈', '마', '쑥','굴']\n",
        "\n",
        "ingredient_list = []\n",
        "for ingredient in ckg_drop['요리재료_전처리']:\n",
        "    ingredients = ingredient.split(', ')\n",
        "    \n",
        "    for i in ingredients:\n",
        "        if (len(i) == 1) and (i not in one_len):\n",
        "            pass\n",
        "        else:\n",
        "            ingredient_list.extend(i)\n"
      ]
    },
    {
      "cell_type": "code",
      "execution_count": null,
      "metadata": {
        "id": "nma3Be76ZtCL"
      },
      "outputs": [],
      "source": [
        "\n",
        "#쿠팡 밀키트에만 있는 재료 추가\n",
        "coupang_only = ['샤브용육수', '숙면','전골용 육수','곱창비법','오뗄팜S','소 스지', '전각 슬라이스','해물탕 양념',\n",
        "                '유자폰즈','소간장소스', '샤브용육수','유탕면','돼지고기 민찌','얼큰짬뽕소스', '오징어건더기',\n",
        "                '명태곤이','된장국양념','꽃게된장찌개용 양념', '바지락맛 액상소스','해물탕 양념','유탕면','조피볼락',\n",
        "                '진종합', '순살가마볼', '고추볼', '한모듬가마보꼬', '순살가마보꼬', '간사이원형', '어묵만두','가마보꼬바',\n",
        "                '프레스 햄','짬뽕 소스','쥬키니 호박','야채 믹스','수비드찜닭','사골농축액','사골 농축액','찹햄',\n",
        "                '코테기노','파개장 오일', '파개장 소스','문치가자미','문치가자미','스테이크 씨즈닝','돈마호크','오향보쌈',\n",
        "                '보쌈무','대두유','우동 면','올리브 오일','크러쉬드 페퍼', '사천 고추', '허브 솔트','훈제 파프리카 파우더',\n",
        "                '감자 옹심이','해물 엑기스','두반장 소스','단호박 칼국수','양장피 면','새꼬막살','수비드 찜닭']\n",
        "ingredient_list.extend(coupang_only)"
      ]
    },
    {
      "cell_type": "code",
      "execution_count": null,
      "metadata": {
        "id": "2AdlBaj6ZtCL"
      },
      "outputs": [],
      "source": [
        "#중복값 제거\n",
        "ingredient_list = list(set(ingredient_list))\n",
        "ingredient_list.pop(0)\n",
        "ingredient_list"
      ]
    },
    {
      "cell_type": "code",
      "execution_count": null,
      "metadata": {
        "id": "cm_chB2iZtCM"
      },
      "outputs": [],
      "source": [
        "print([i for i in ingredient_list if len(i) == 1])"
      ]
    },
    {
      "cell_type": "code",
      "execution_count": null,
      "metadata": {
        "id": "BkkTFsXgZtCM",
        "outputId": "055dff4e-2cc3-411c-f168-bcb593984b4c"
      },
      "outputs": [
        {
          "data": {
            "text/plain": [
              "37969"
            ]
          },
          "execution_count": 44,
          "metadata": {},
          "output_type": "execute_result"
        }
      ],
      "source": [
        "#텍스트 파일로 전체 재료 저장(중복x)\n",
        "with open('만개의레시피_재료_목록.txt', 'w') as f :\n",
        "    for ingre in ingredient_list:\n",
        "        f.write(ingre+',')\n",
        "len(ingredient_list)"
      ]
    },
    {
      "cell_type": "code",
      "execution_count": null,
      "metadata": {
        "id": "hjAIP7NaZtCM"
      },
      "outputs": [],
      "source": [
        "def countLetters(word):\n",
        "    counter = {}\n",
        "    for letter in word:\n",
        "        if letter not in counter:\n",
        "            counter[letter]=0\n",
        "        counter[letter] +=1\n",
        "    return counter\n",
        "\n",
        "#dict1 = countLetters(ingerdient_list2)"
      ]
    },
    {
      "cell_type": "code",
      "execution_count": null,
      "metadata": {
        "id": "pPoWHNAKZtCM"
      },
      "outputs": [],
      "source": [
        "#오타 검수를 위한 리스트 생성(중복o)\n",
        "ingredient_list2 = []\n",
        "for ingredient in ckg_drop['요리재료_전처리']:\n",
        "    ingredients = ingredient.split(' ')\n",
        "    ingredient_list2.extend(ingredients)\n",
        "\n",
        "#차원축소\n",
        "#ingredient_list2 = np.concatenate(ingredient_list2).tolist()\n",
        "\n",
        "#null값 제거\n",
        "ingredient_list2 = list(filter(None, ingredient_list2))\n",
        "ingredient_list2"
      ]
    },
    {
      "cell_type": "code",
      "execution_count": null,
      "metadata": {
        "id": "GsjOSp8aZtCN",
        "outputId": "d4d9ad57-e799-4e08-f983-13ff6e3bc276"
      },
      "outputs": [
        {
          "data": {
            "text/plain": [
              "951650"
            ]
          },
          "execution_count": 15,
          "metadata": {},
          "output_type": "execute_result"
        }
      ],
      "source": [
        "#텍스트 파일로 전체 재료 저장(중복o)\n",
        "import pickle\n",
        "with open('만개의레시피_재료_목록_중복o.pickle', 'wb') as fw :\n",
        "    pickle.dump(ingredient_list2, fw)\n",
        "len(ingredient_list2)"
      ]
    },
    {
      "cell_type": "code",
      "execution_count": null,
      "metadata": {
        "id": "myefwITMZtCN"
      },
      "outputs": [],
      "source": []
    },
    {
      "cell_type": "code",
      "execution_count": null,
      "metadata": {
        "id": "zvFHTZqoZtCN"
      },
      "outputs": [],
      "source": []
    }
  ],
  "metadata": {
    "kernelspec": {
      "display_name": "base",
      "language": "python",
      "name": "python3"
    },
    "language_info": {
      "codemirror_mode": {
        "name": "ipython",
        "version": 3
      },
      "file_extension": ".py",
      "mimetype": "text/x-python",
      "name": "python",
      "nbconvert_exporter": "python",
      "pygments_lexer": "ipython3",
      "version": "3.9.12 (main, Apr  4 2022, 05:22:27) [MSC v.1916 64 bit (AMD64)]"
    },
    "orig_nbformat": 4,
    "vscode": {
      "interpreter": {
        "hash": "631926b96873d2007fbe5ba14401cac9ce99e5e76ded0bffc18be58f3fefa61b"
      }
    },
    "colab": {
      "provenance": []
    }
  },
  "nbformat": 4,
  "nbformat_minor": 0
}