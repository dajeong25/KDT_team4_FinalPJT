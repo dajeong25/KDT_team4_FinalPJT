{
 "cells": [
  {
   "cell_type": "code",
   "execution_count": 11,
   "metadata": {},
   "outputs": [],
   "source": [
    "from selenium import webdriver\n",
    "from selenium.webdriver.common.by import By\n",
    "from selenium.webdriver.chrome.service import Service\n",
    "import time\n",
    "import pandas as pd"
   ]
  },
  {
   "attachments": {},
   "cell_type": "markdown",
   "metadata": {},
   "source": [
    "# 밀키트 전체 인기 검색어 가져오기"
   ]
  },
  {
   "cell_type": "code",
   "execution_count": 8,
   "metadata": {},
   "outputs": [],
   "source": [
    "#인기 검색어 내용 추출\n",
    "def get_rank_list(driver):\n",
    "    trend_list = []\n",
    "    rank_texts = driver.find_elements(by=By.CSS_SELECTOR, value='div.rank_top1000_scroll > ul')\n",
    "    for rank_text in rank_texts:\n",
    "        rank_text = rank_text.text\n",
    "        rank_text = rank_text.split('\\n')\n",
    "        trend_list.extend(rank_text[1::2])\n",
    "    return trend_list\n",
    "\n",
    "\n",
    "#인기 검색어 1-40위까지 추출\n",
    "def get_1_to_40(driver, TIMEOUT):\n",
    "    trend_1_to_40 = []\n",
    "    rank_text = get_rank_list(driver) #(1-20)\n",
    "    trend_1_to_40.extend(rank_text)\n",
    "\n",
    "    next_btn = driver.find_element(By.CSS_SELECTOR, 'div.top1000_btn_area > div > a.btn_page_next') #(21-40)\n",
    "    next_btn.click()\n",
    "    time.sleep(TIMEOUT)\n",
    "    rank_text = get_rank_list(driver)\n",
    "    trend_1_to_40.extend(rank_text)\n",
    "    return trend_1_to_40"
   ]
  },
  {
   "cell_type": "code",
   "execution_count": 9,
   "metadata": {},
   "outputs": [],
   "source": [
    "url='https://datalab.naver.com/shoppingInsight/sCategory.naver?cid=50014240'\n",
    "TIMEOUT=3\n",
    "\n",
    "try:\n",
    "    #service = Service(executable_path='./chromedriver.exe')\n",
    "    driver = webdriver.Chrome()\n",
    "    driver.get(url)\n",
    "    time.sleep(TIMEOUT)\n",
    "    \n",
    "    #전체 밀키트 인기검색어\n",
    "    all_trend_list = []\n",
    "    all_trend_list.append(get_1_to_40(driver, TIMEOUT))\n",
    "\n",
    "    #세부카테고리의 인기 검색어 : '찌개/국','면/파스타','구이','볶음/튀김','조림/찜'\n",
    "    for idx in range(2,7):\n",
    "        driver.find_element(By.XPATH, '//*[@id=\"content\"]/div[2]/div/div[1]/div/div/div[1]/div/div[3]/span').click() #select_btn\n",
    "        time.sleep(TIMEOUT)\n",
    "        driver.find_element(By.XPATH, '//*[@id=\"content\"]/div[2]/div/div[1]/div/div/div[1]/div/div[3]/ul/li['+str(idx)+']/a').click() #option\n",
    "        time.sleep(TIMEOUT)\n",
    "        driver.find_element(By.CSS_SELECTOR, '#content > div.section_instie_area.space_top > div > div.section.insite_inquiry > div > a').click() #btn_submit\n",
    "        time.sleep(TIMEOUT)\n",
    "        all_trend_list.append(get_1_to_40(driver, TIMEOUT))\n",
    "        \n",
    "except Exception:\n",
    "    raise\n",
    "\n",
    "finally:\n",
    "    if driver is not None:\n",
    "        driver.quit()"
   ]
  },
  {
   "cell_type": "code",
   "execution_count": 10,
   "metadata": {},
   "outputs": [
    {
     "name": "stdout",
     "output_type": "stream",
     "text": [
      "[['밀키트', '떡볶이', '낙곱새', '쌀떡볶이', '알탕', '캠핑밀키트', '해신탕', '국물떡볶이', '스테이크밀키트', '충무로한우곱창전골', '동태밥상', '만두전골', '애슐리밀키트', '떡볶이밀키트', '사과떡볶이', '즉석떡볶이', '곱창전골', '자미곱', '더원푸드시래기곱창전골밀키트', '곱창전골밀키트', '크리스마스밀키트', '감바스밀키트', '마라탕밀키트', '수제비밀키트', '동남아식밀키트탄탄면', '설렁탕', '더원푸드시래기전골밀키트', '홈파티밀키트', '닭갈비밀키트', '공항칼국수', '홈파티음식', '파스타밀키트', '보일링크랩', '군고기밀키트', '목살밀키트', '소고기버섯칼국수', '프레시지', '찜닭밀키트', '밀푀유나베밀키트', '우거지감자탕밀키트순살해장국우거지감자탕밀키트'], ['밀키트', '낙곱새', '알탕', '캠핑밀키트', '해신탕', '충무로한우곱창전골', '동태밥상', '만두전골', '곱창전골', '더원푸드시래기곱창전골밀키트', '곱창전골밀키트', '마라탕밀키트', '설렁탕', '더원푸드시래기전골밀키트', '우거지감자탕밀키트순살해장국우거지감자탕밀키트', '밀푀유나베밀키트', '마라탕', '곱창전골한우소곱창전골', '프리미엄부대찌개밀키트김치2인3인캠핑요리쿠킹박스술안주', '우거지감자탕밀키트순살해장국', '부대찌개밀키트', '소고기된장밀키트당일조리', '갈비탕밀키트', '해신탕활전복4인분', '밀푀유나베', '캠핑용밀키트', '국밥밀키트', '부대찌개밀키트2인분', '돼지국밥밀키트', '해물전골캠핑밀키트', '해물탕밀키트', '국밥', '돼지짜글이', '간편하게즐기는곱창전골', '밀키트만두전골', '속초홍게라면캠핑요리', '호랑이굴대창전골', '샤브샤브밀키트', '낙곱새밀키트', '부산맛집밀키트(1회용냄비선물)당감댁곱도리탕닭볶음탕닭도리탕곱창안주캠핑용'], ['밀키트', '수제비밀키트', '동남아식밀키트탄탄면', '공항칼국수', '파스타밀키트', '소고기버섯칼국수', '애슐리밀키트', '라자냐밀키트', '라자냐', '호텔식간편밀키트파스타간편리조또', '뇨끼밀키트', '칼국수밀키트', '탄탄면', '짬뽕밀키트', '조조칼국수밀키트', '파우즈투움바', '비빔국수밀키트', '공항칼국수밀키트', '이마트밀키트', '어라면', '팔공산얼큰이밀키트', '잡채밀키트', '투움바파스타밀키트', '허챠밍밀키트', '무라파스타', '쌀국수밀키트', '피코크밀키트', '레이식당', '어라면밀키트', '에그인헬밀키트', '빠네파스타', '닭칼국수', '프레시지', '파우즈밀키트', '돼고비', '베테랑칼국수밀키트', '우도땅콩탄탄면고기국수', '빠네밀키트', '조조칼국수', '밀키트추천'], ['밀키트', '스테이크밀키트', '자미곱', '군고기밀키트', '목살밀키트', '석쇠직화술안주캠핑음식술안주', '초벌한입닭갈비', '자미곱대창', '애슐리밀키트', '직화구이불닭갈비', '프레시지', '불닭갈비400g', '프레시지밀키트', '춘천황토집숯불닭갈비밀키트', '찹스테이크밀키트', '고관함박', '곱창밀키트', '애슐리스테이크', '밀키트스테이크', '빕스스테이크밀키트', '프레시지블랙라벨', '프레시지블랙라벨스테이크', '정인푸드몰', '워커힐밀키트', '스테이크가니쉬', '닭갈비', '블랙라벨스테이크', '솔리보밀키트', '연암곱창', '크리스마스밀키트', '양식밀키트', '밀키트추천', '자미곱곱창', '고기남자밀키트', '마이야르밀키트', '프레시지폭립', '폭립밀키트', '소곱창밀키트', '찹스테이크', '스테이크키트'], ['밀키트', '감바스밀키트', '닭갈비밀키트', '애슐리밀키트', '감바스', '돈이곱창참숯초벌냄새없는곱창볶음순대볶음간단캠핑요리밀키트돼지곱창볶음600g', '송탄춘천닭갈비밀키트', '닭갈비', '춘천닭갈비택배생생닭갈비3인분900g캠핑요리', '프레시지밀키트', '프레시지', '프레시지감바스', '마라샹궈밀키트', '주왕산가든총1500g', '쿡솜씨', '오코노미야끼', '감바스알아히요', '쭈꾸미밀키트', '곱창볶음', '소불고기한우불고기불고기육수야채밀키트', '고추잡채밀키트', '야채곱창', '매운쭈꾸미오징어볶음밀키트350g', '레이식당', '애슐리감바스', '도리명가', '밀키트추천', '레이식당밀키트', '오징어볶음밀키트', '낙지볶음밀키트', '몬스터치즈프라이', '고추잡채', '제육볶음밀키트', '도리명가곱도리', '파히타밀키트', '야채곱창밀키트', '쿡솜씨오꼬노미야끼', '순대곱창볶음', '오꼬노미야끼밀키트', '팔당오징어밀키트'], ['밀키트', '보일링크랩', '찜닭밀키트', '갈비찜오리지널맛', '우족찜', '캠핑요리추천', '소갈비찜밀키트', '캠핑음식추천', '바지락술찜', '아구찜', '갈비찜밀키트650g3세트', '우족찜밀키트', '보일링씨푸드', '로미랜드한우우족수제매콤우족찜900g', '아구찜밀키트', '보일링쉬림프', '로미랜드몸보신우족찜매운우족찜900g', '일품정한우간편안주매콤한우우족찜밀키트650g', '아귀찜', '바지락술찜밀키트', '김치찜밀키트', '안동찜닭밀키트', '로미랜드냉동조리한우빨간우족찜700g', '갈비찜밀키트', '해물찜밀키트', '아귀찜밀키트', '하정강우족찜', '매운우족찜', '소제이소꼬리찜', '돼지갈비찜밀키트', '성진한우우족찜', '랍스터밀키트', '신사강김치찌개밀키트', '등갈비찜', '소꼬리찜밀키트', '소제이', '서민갑부김치찌개', '파피요트', '보일링랍스터', '보일링크랩밀키트']]\n"
     ]
    }
   ],
   "source": [
    "print(all_trend_list)"
   ]
  },
  {
   "cell_type": "code",
   "execution_count": 20,
   "metadata": {},
   "outputs": [
    {
     "name": "stdout",
     "output_type": "stream",
     "text": [
      "<class 'pandas.core.frame.DataFrame'>\n",
      "RangeIndex: 40 entries, 0 to 39\n",
      "Data columns (total 6 columns):\n",
      " #   Column  Non-Null Count  Dtype \n",
      "---  ------  --------------  ----- \n",
      " 0   전체      40 non-null     object\n",
      " 1   찌개/국    40 non-null     object\n",
      " 2   면/파스타   40 non-null     object\n",
      " 3   구이      40 non-null     object\n",
      " 4   볶음/튀김   40 non-null     object\n",
      " 5   조림/찜    40 non-null     object\n",
      "dtypes: object(6)\n",
      "memory usage: 2.0+ KB\n"
     ]
    }
   ],
   "source": [
    "#데이터프레임으로 정리\n",
    "detailed_category = ['전체', '찌개/국','면/파스타','구이','볶음/튀김','조림/찜']\n",
    "trend_df = pd.DataFrame(all_trend_list).T\n",
    "trend_df.columns = detailed_category\n",
    "trend_df.to_csv('네이버데이터랩_인기검색어.csv')\n",
    "trend_df.info()"
   ]
  },
  {
   "cell_type": "code",
   "execution_count": 19,
   "metadata": {},
   "outputs": [
    {
     "data": {
      "text/html": [
       "<div>\n",
       "<style scoped>\n",
       "    .dataframe tbody tr th:only-of-type {\n",
       "        vertical-align: middle;\n",
       "    }\n",
       "\n",
       "    .dataframe tbody tr th {\n",
       "        vertical-align: top;\n",
       "    }\n",
       "\n",
       "    .dataframe thead th {\n",
       "        text-align: right;\n",
       "    }\n",
       "</style>\n",
       "<table border=\"1\" class=\"dataframe\">\n",
       "  <thead>\n",
       "    <tr style=\"text-align: right;\">\n",
       "      <th></th>\n",
       "      <th>전체</th>\n",
       "      <th>찌개/국</th>\n",
       "      <th>면/파스타</th>\n",
       "      <th>구이</th>\n",
       "      <th>볶음/튀김</th>\n",
       "      <th>조림/찜</th>\n",
       "    </tr>\n",
       "  </thead>\n",
       "  <tbody>\n",
       "    <tr>\n",
       "      <th>0</th>\n",
       "      <td>밀키트</td>\n",
       "      <td>밀키트</td>\n",
       "      <td>밀키트</td>\n",
       "      <td>밀키트</td>\n",
       "      <td>밀키트</td>\n",
       "      <td>밀키트</td>\n",
       "    </tr>\n",
       "    <tr>\n",
       "      <th>1</th>\n",
       "      <td>떡볶이</td>\n",
       "      <td>낙곱새</td>\n",
       "      <td>수제비밀키트</td>\n",
       "      <td>스테이크밀키트</td>\n",
       "      <td>감바스밀키트</td>\n",
       "      <td>보일링크랩</td>\n",
       "    </tr>\n",
       "    <tr>\n",
       "      <th>2</th>\n",
       "      <td>낙곱새</td>\n",
       "      <td>알탕</td>\n",
       "      <td>동남아식밀키트탄탄면</td>\n",
       "      <td>자미곱</td>\n",
       "      <td>닭갈비밀키트</td>\n",
       "      <td>찜닭밀키트</td>\n",
       "    </tr>\n",
       "    <tr>\n",
       "      <th>3</th>\n",
       "      <td>쌀떡볶이</td>\n",
       "      <td>캠핑밀키트</td>\n",
       "      <td>공항칼국수</td>\n",
       "      <td>군고기밀키트</td>\n",
       "      <td>애슐리밀키트</td>\n",
       "      <td>갈비찜오리지널맛</td>\n",
       "    </tr>\n",
       "    <tr>\n",
       "      <th>4</th>\n",
       "      <td>알탕</td>\n",
       "      <td>해신탕</td>\n",
       "      <td>파스타밀키트</td>\n",
       "      <td>목살밀키트</td>\n",
       "      <td>감바스</td>\n",
       "      <td>우족찜</td>\n",
       "    </tr>\n",
       "  </tbody>\n",
       "</table>\n",
       "</div>"
      ],
      "text/plain": [
       "     전체   찌개/국       면/파스타       구이   볶음/튀김      조림/찜\n",
       "0   밀키트    밀키트         밀키트      밀키트     밀키트       밀키트\n",
       "1   떡볶이    낙곱새      수제비밀키트  스테이크밀키트  감바스밀키트     보일링크랩\n",
       "2   낙곱새     알탕  동남아식밀키트탄탄면      자미곱  닭갈비밀키트     찜닭밀키트\n",
       "3  쌀떡볶이  캠핑밀키트       공항칼국수   군고기밀키트  애슐리밀키트  갈비찜오리지널맛\n",
       "4    알탕    해신탕      파스타밀키트    목살밀키트     감바스       우족찜"
      ]
     },
     "execution_count": 19,
     "metadata": {},
     "output_type": "execute_result"
    }
   ],
   "source": [
    "trend_df.head()"
   ]
  },
  {
   "cell_type": "code",
   "execution_count": null,
   "metadata": {},
   "outputs": [],
   "source": []
  }
 ],
 "metadata": {
  "kernelspec": {
   "display_name": "base",
   "language": "python",
   "name": "python3"
  },
  "language_info": {
   "codemirror_mode": {
    "name": "ipython",
    "version": 3
   },
   "file_extension": ".py",
   "mimetype": "text/x-python",
   "name": "python",
   "nbconvert_exporter": "python",
   "pygments_lexer": "ipython3",
   "version": "3.9.12"
  },
  "orig_nbformat": 4,
  "vscode": {
   "interpreter": {
    "hash": "631926b96873d2007fbe5ba14401cac9ce99e5e76ded0bffc18be58f3fefa61b"
   }
  }
 },
 "nbformat": 4,
 "nbformat_minor": 2
}
