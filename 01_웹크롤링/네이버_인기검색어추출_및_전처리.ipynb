{
  "cells": [
    {
      "cell_type": "markdown",
      "metadata": {
        "id": "view-in-github",
        "colab_type": "text"
      },
      "source": [
        "<a href=\"https://colab.research.google.com/github/dajoeng/KDT_team4_FinalPJT/blob/main/01_%EC%9B%B9%ED%81%AC%EB%A1%A4%EB%A7%81/%EB%84%A4%EC%9D%B4%EB%B2%84_%EC%9D%B8%EA%B8%B0%EA%B2%80%EC%83%89%EC%96%B4%EC%B6%94%EC%B6%9C_%EB%B0%8F_%EC%A0%84%EC%B2%98%EB%A6%AC.ipynb\" target=\"_parent\"><img src=\"https://colab.research.google.com/assets/colab-badge.svg\" alt=\"Open In Colab\"/></a>"
      ]
    },
    {
      "cell_type": "markdown",
      "source": [
        "# 설치"
      ],
      "metadata": {
        "id": "aIq0Pqpk3ekg"
      }
    },
    {
      "cell_type": "code",
      "source": [
        "from google.colab import drive\n",
        "drive.mount('/content/drive')"
      ],
      "metadata": {
        "colab": {
          "base_uri": "https://localhost:8080/"
        },
        "id": "GSApynRnnaz-",
        "outputId": "8fe262dc-d9b9-461e-cc95-ae6cbbd6aa96"
      },
      "execution_count": 2,
      "outputs": [
        {
          "output_type": "stream",
          "name": "stdout",
          "text": [
            "Drive already mounted at /content/drive; to attempt to forcibly remount, call drive.mount(\"/content/drive\", force_remount=True).\n"
          ]
        }
      ]
    },
    {
      "cell_type": "code",
      "source": [
        "!pip install selenium\n",
        "!apt-get update\n",
        "!apt install chromium-chromedriver"
      ],
      "metadata": {
        "colab": {
          "base_uri": "https://localhost:8080/"
        },
        "id": "BHRFlnUAkTlZ",
        "outputId": "8a436b54-9b9a-4568-b9a6-58245de20d39"
      },
      "execution_count": 3,
      "outputs": [
        {
          "output_type": "stream",
          "name": "stdout",
          "text": [
            "Looking in indexes: https://pypi.org/simple, https://us-python.pkg.dev/colab-wheels/public/simple/\n",
            "Collecting selenium\n",
            "  Downloading selenium-4.7.2-py3-none-any.whl (6.3 MB)\n",
            "\u001b[K     |████████████████████████████████| 6.3 MB 5.2 MB/s \n",
            "\u001b[?25hCollecting trio-websocket~=0.9\n",
            "  Downloading trio_websocket-0.9.2-py3-none-any.whl (16 kB)\n",
            "Collecting urllib3[socks]~=1.26\n",
            "  Downloading urllib3-1.26.13-py2.py3-none-any.whl (140 kB)\n",
            "\u001b[K     |████████████████████████████████| 140 kB 62.5 MB/s \n",
            "\u001b[?25hCollecting trio~=0.17\n",
            "  Downloading trio-0.22.0-py3-none-any.whl (384 kB)\n",
            "\u001b[K     |████████████████████████████████| 384 kB 50.8 MB/s \n",
            "\u001b[?25hRequirement already satisfied: certifi>=2021.10.8 in /usr/local/lib/python3.8/dist-packages (from selenium) (2022.12.7)\n",
            "Requirement already satisfied: attrs>=19.2.0 in /usr/local/lib/python3.8/dist-packages (from trio~=0.17->selenium) (22.1.0)\n",
            "Requirement already satisfied: idna in /usr/local/lib/python3.8/dist-packages (from trio~=0.17->selenium) (2.10)\n",
            "Requirement already satisfied: sortedcontainers in /usr/local/lib/python3.8/dist-packages (from trio~=0.17->selenium) (2.4.0)\n",
            "Collecting outcome\n",
            "  Downloading outcome-1.2.0-py2.py3-none-any.whl (9.7 kB)\n",
            "Collecting exceptiongroup>=1.0.0rc9\n",
            "  Downloading exceptiongroup-1.1.0-py3-none-any.whl (14 kB)\n",
            "Collecting async-generator>=1.9\n",
            "  Downloading async_generator-1.10-py3-none-any.whl (18 kB)\n",
            "Collecting sniffio\n",
            "  Downloading sniffio-1.3.0-py3-none-any.whl (10 kB)\n",
            "Collecting wsproto>=0.14\n",
            "  Downloading wsproto-1.2.0-py3-none-any.whl (24 kB)\n",
            "Requirement already satisfied: PySocks!=1.5.7,<2.0,>=1.5.6 in /usr/local/lib/python3.8/dist-packages (from urllib3[socks]~=1.26->selenium) (1.7.1)\n",
            "Collecting h11<1,>=0.9.0\n",
            "  Downloading h11-0.14.0-py3-none-any.whl (58 kB)\n",
            "\u001b[K     |████████████████████████████████| 58 kB 6.6 MB/s \n",
            "\u001b[?25hInstalling collected packages: sniffio, outcome, h11, exceptiongroup, async-generator, wsproto, urllib3, trio, trio-websocket, selenium\n",
            "  Attempting uninstall: urllib3\n",
            "    Found existing installation: urllib3 1.24.3\n",
            "    Uninstalling urllib3-1.24.3:\n",
            "      Successfully uninstalled urllib3-1.24.3\n",
            "\u001b[31mERROR: pip's dependency resolver does not currently take into account all the packages that are installed. This behaviour is the source of the following dependency conflicts.\n",
            "requests 2.23.0 requires urllib3!=1.25.0,!=1.25.1,<1.26,>=1.21.1, but you have urllib3 1.26.13 which is incompatible.\u001b[0m\n",
            "Successfully installed async-generator-1.10 exceptiongroup-1.1.0 h11-0.14.0 outcome-1.2.0 selenium-4.7.2 sniffio-1.3.0 trio-0.22.0 trio-websocket-0.9.2 urllib3-1.26.13 wsproto-1.2.0\n",
            "Get:1 http://security.ubuntu.com/ubuntu bionic-security InRelease [88.7 kB]\n",
            "Get:2 https://cloud.r-project.org/bin/linux/ubuntu bionic-cran40/ InRelease [3,626 B]\n",
            "Hit:3 http://archive.ubuntu.com/ubuntu bionic InRelease\n",
            "Get:4 http://archive.ubuntu.com/ubuntu bionic-updates InRelease [88.7 kB]\n",
            "Get:5 http://ppa.launchpad.net/c2d4u.team/c2d4u4.0+/ubuntu bionic InRelease [15.9 kB]\n",
            "Get:6 http://archive.ubuntu.com/ubuntu bionic-backports InRelease [83.3 kB]\n",
            "Ign:7 https://developer.download.nvidia.com/compute/machine-learning/repos/ubuntu1804/x86_64  InRelease\n",
            "Hit:8 https://developer.download.nvidia.com/compute/cuda/repos/ubuntu1804/x86_64  InRelease\n",
            "Hit:9 https://developer.download.nvidia.com/compute/machine-learning/repos/ubuntu1804/x86_64  Release\n",
            "Hit:10 http://ppa.launchpad.net/cran/libgit2/ubuntu bionic InRelease\n",
            "Hit:11 http://ppa.launchpad.net/deadsnakes/ppa/ubuntu bionic InRelease\n",
            "Hit:12 http://ppa.launchpad.net/graphics-drivers/ppa/ubuntu bionic InRelease\n",
            "Get:13 http://ppa.launchpad.net/c2d4u.team/c2d4u4.0+/ubuntu bionic/main Sources [2,235 kB]\n",
            "Get:15 http://ppa.launchpad.net/c2d4u.team/c2d4u4.0+/ubuntu bionic/main amd64 Packages [1,143 kB]\n",
            "Fetched 3,659 kB in 3s (1,231 kB/s)\n",
            "Reading package lists... Done\n",
            "Reading package lists... Done\n",
            "Building dependency tree       \n",
            "Reading state information... Done\n",
            "The following package was automatically installed and is no longer required:\n",
            "  libnvidia-common-460\n",
            "Use 'apt autoremove' to remove it.\n",
            "The following additional packages will be installed:\n",
            "  chromium-browser chromium-browser-l10n chromium-codecs-ffmpeg-extra\n",
            "Suggested packages:\n",
            "  webaccounts-chromium-extension unity-chromium-extension\n",
            "The following NEW packages will be installed:\n",
            "  chromium-browser chromium-browser-l10n chromium-chromedriver\n",
            "  chromium-codecs-ffmpeg-extra\n",
            "0 upgraded, 4 newly installed, 0 to remove and 20 not upgraded.\n",
            "Need to get 95.6 MB of archives.\n",
            "After this operation, 321 MB of additional disk space will be used.\n",
            "Get:1 http://archive.ubuntu.com/ubuntu bionic-updates/universe amd64 chromium-codecs-ffmpeg-extra amd64 108.0.5359.71-0ubuntu0.18.04.5 [1,159 kB]\n",
            "Get:2 http://archive.ubuntu.com/ubuntu bionic-updates/universe amd64 chromium-browser amd64 108.0.5359.71-0ubuntu0.18.04.5 [83.6 MB]\n",
            "Get:3 http://archive.ubuntu.com/ubuntu bionic-updates/universe amd64 chromium-browser-l10n all 108.0.5359.71-0ubuntu0.18.04.5 [5,230 kB]\n",
            "Get:4 http://archive.ubuntu.com/ubuntu bionic-updates/universe amd64 chromium-chromedriver amd64 108.0.5359.71-0ubuntu0.18.04.5 [5,594 kB]\n",
            "Fetched 95.6 MB in 2s (48.3 MB/s)\n",
            "Selecting previously unselected package chromium-codecs-ffmpeg-extra.\n",
            "(Reading database ... 124016 files and directories currently installed.)\n",
            "Preparing to unpack .../chromium-codecs-ffmpeg-extra_108.0.5359.71-0ubuntu0.18.04.5_amd64.deb ...\n",
            "Unpacking chromium-codecs-ffmpeg-extra (108.0.5359.71-0ubuntu0.18.04.5) ...\n",
            "Selecting previously unselected package chromium-browser.\n",
            "Preparing to unpack .../chromium-browser_108.0.5359.71-0ubuntu0.18.04.5_amd64.deb ...\n",
            "Unpacking chromium-browser (108.0.5359.71-0ubuntu0.18.04.5) ...\n",
            "Selecting previously unselected package chromium-browser-l10n.\n",
            "Preparing to unpack .../chromium-browser-l10n_108.0.5359.71-0ubuntu0.18.04.5_all.deb ...\n",
            "Unpacking chromium-browser-l10n (108.0.5359.71-0ubuntu0.18.04.5) ...\n",
            "Selecting previously unselected package chromium-chromedriver.\n",
            "Preparing to unpack .../chromium-chromedriver_108.0.5359.71-0ubuntu0.18.04.5_amd64.deb ...\n",
            "Unpacking chromium-chromedriver (108.0.5359.71-0ubuntu0.18.04.5) ...\n",
            "Setting up chromium-codecs-ffmpeg-extra (108.0.5359.71-0ubuntu0.18.04.5) ...\n",
            "Setting up chromium-browser (108.0.5359.71-0ubuntu0.18.04.5) ...\n",
            "update-alternatives: using /usr/bin/chromium-browser to provide /usr/bin/x-www-browser (x-www-browser) in auto mode\n",
            "update-alternatives: using /usr/bin/chromium-browser to provide /usr/bin/gnome-www-browser (gnome-www-browser) in auto mode\n",
            "Setting up chromium-chromedriver (108.0.5359.71-0ubuntu0.18.04.5) ...\n",
            "Setting up chromium-browser-l10n (108.0.5359.71-0ubuntu0.18.04.5) ...\n",
            "Processing triggers for man-db (2.8.3-2ubuntu0.1) ...\n",
            "Processing triggers for hicolor-icon-theme (0.17-2) ...\n",
            "Processing triggers for mime-support (3.60ubuntu1) ...\n",
            "Processing triggers for libc-bin (2.27-3ubuntu1.6) ...\n"
          ]
        }
      ]
    },
    {
      "cell_type": "code",
      "execution_count": 117,
      "metadata": {
        "id": "cjD-C-1bj5li"
      },
      "outputs": [],
      "source": [
        "# -*- coding: UTF-8 -*-\n",
        "from selenium import webdriver\n",
        "from selenium.webdriver.common.by import By\n",
        "from selenium.webdriver.chrome.service import Service\n",
        "import time\n",
        "import pandas as pd\n",
        "import numpy as np\n",
        "import itertools"
      ]
    },
    {
      "cell_type": "markdown",
      "metadata": {
        "id": "hCehABh7j5ll"
      },
      "source": [
        "# 밀키트 전체 인기 검색어 가져오기"
      ]
    },
    {
      "cell_type": "code",
      "execution_count": 40,
      "metadata": {
        "id": "tKwXI61Hj5lm"
      },
      "outputs": [],
      "source": [
        "#인기 검색어 내용 추출\n",
        "def get_rank_list(driver):\n",
        "    trend_list = []\n",
        "    rank_texts = driver.find_elements(by=By.CSS_SELECTOR, value='div.rank_top1000_scroll > ul')\n",
        "    for rank_text in rank_texts:\n",
        "        rank_text = rank_text.text\n",
        "        rank_text = rank_text.split('\\n')\n",
        "        trend_list.extend(rank_text[1::2])\n",
        "    return trend_list\n",
        "\n",
        "\n",
        "#인기 검색어 1-40위까지 추출\n",
        "def get_1_to_40(driver, TIMEOUT):\n",
        "    trend_1_to_40 = []\n",
        "    rank_text = get_rank_list(driver) #(1-20)\n",
        "    trend_1_to_40.extend(rank_text)\n",
        "\n",
        "    next_btn = driver.find_element(By.CSS_SELECTOR, 'div.top1000_btn_area > div > a.btn_page_next') #(21-40)\n",
        "    next_btn.click()\n",
        "    time.sleep(TIMEOUT)\n",
        "    rank_text = get_rank_list(driver)\n",
        "    trend_1_to_40.extend(rank_text)\n",
        "    return trend_1_to_40\n",
        "\n",
        "#인기 검색어 1-200위까지 추출\n",
        "def get_1_to_200(driver, TIMEOUT):\n",
        "    trend_1_to_200 = []\n",
        "    rank_text = get_rank_list(driver) #(1-20)\n",
        "    trend_1_to_200.extend(rank_text)\n",
        "\n",
        "    for cnt in range(9):\n",
        "      next_btn = driver.find_element(By.CSS_SELECTOR, 'div.top1000_btn_area > div > a.btn_page_next') #(21-200)\n",
        "      next_btn.click()\n",
        "      time.sleep(TIMEOUT)\n",
        "      rank_text = get_rank_list(driver)\n",
        "      trend_1_to_200.extend(rank_text)\n",
        "\n",
        "    return trend_1_to_200"
      ]
    },
    {
      "cell_type": "code",
      "execution_count": 42,
      "metadata": {
        "id": "TIjw_xEVj5lm"
      },
      "outputs": [],
      "source": [
        "#Colab에선 웹브라우저 창이 뜨지 않으므로 별도 설정한다.\n",
        "\n",
        "url='https://datalab.naver.com/shoppingInsight/sCategory.naver?cid=50014240'\n",
        "TIMEOUT=3\n",
        "\n",
        "try:\n",
        "  driver = webdriver.ChromeOptions()\n",
        "  driver.add_argument('--headless')        # Head-less 설정\n",
        "  driver.add_argument('--no-sandbox')\n",
        "  driver.add_argument('--disable-dev-shm-usage')\n",
        "  driver = webdriver.Chrome('chromedriver', options=driver)\n",
        "  driver.get(url)\n",
        "  time.sleep(TIMEOUT)\n",
        "  \n",
        "  #전체 밀키트 인기검색어\n",
        "  all_trend_list = []\n",
        "  all_trend_list.append(get_1_to_200(driver, TIMEOUT))\n",
        "\n",
        "  #세부카테고리의 인기 검색어 : '찌개/국','면/파스타','구이','볶음/튀김','조림/찜'\n",
        "  for idx in range(2,7):\n",
        "      driver.find_element(By.XPATH, '//*[@id=\"content\"]/div[2]/div/div[1]/div/div/div[1]/div/div[3]/span').click() #select_btn\n",
        "      time.sleep(TIMEOUT)\n",
        "      driver.find_element(By.XPATH, '//*[@id=\"content\"]/div[2]/div/div[1]/div/div/div[1]/div/div[3]/ul/li['+str(idx)+']/a').click() #option\n",
        "      time.sleep(1.5)\n",
        "      driver.find_element(By.CSS_SELECTOR, '#content > div.section_instie_area.space_top > div > div.section.insite_inquiry > div > a').click() #btn_submit\n",
        "      time.sleep(1.5)\n",
        "      all_trend_list.append(get_1_to_200(driver, 1.5))\n",
        "        \n",
        "except Exception:\n",
        "    raise\n",
        "\n",
        "finally:\n",
        "    if driver is not None:\n",
        "        driver.quit()"
      ]
    },
    {
      "cell_type": "markdown",
      "source": [
        "# 멀티 프로세스"
      ],
      "metadata": {
        "id": "CXlDNDCGQZp8"
      }
    },
    {
      "cell_type": "code",
      "source": [
        "import sys\n",
        "import os\n",
        "import subprocess\n",
        "import multiprocessing\n",
        "\n",
        "from selenium.webdriver.common.action_chains import ActionChains\n",
        "from selenium.webdriver.chrome.options import Options\n",
        "from selenium.webdriver.common.alert import Alert\n",
        "from selenium.webdriver.support.ui import WebDriverWait\n",
        "from selenium.webdriver.support import expected_conditions as EC"
      ],
      "metadata": {
        "id": "p_ZZpJ3A8Ih7"
      },
      "execution_count": 46,
      "outputs": []
    },
    {
      "cell_type": "markdown",
      "source": [
        "- https://codewnag.tistory.com/26"
      ],
      "metadata": {
        "id": "5j1wELGNu0fl"
      }
    },
    {
      "cell_type": "code",
      "source": [
        "#------------------------------------------------------------\n",
        "def do_multi(code):\n",
        "\t# 네이버에서 검색 하기\n",
        "  print ( str(code)+\"번 프로세스 실행\") # 1,2번\n",
        "  \n",
        "  chrome_options = Options()\n",
        "  chrome_options.add_argument('--headless')\n",
        "  chrome_options.add_argument('--no-sandbox')\n",
        "  chrome_options.add_argument('--disable-dev-shm-usage')\n",
        "\n",
        "  # 드라이버 설정\n",
        "  driver = webdriver.Chrome('chromedriver',\n",
        "                            options=chrome_options)\n",
        "\n",
        "  # 네이버 접속\n",
        "  url = 'https://datalab.naver.com/shoppingInsight/sCategory.naver?cid=50014240'\n",
        "  driver.get(url)\n",
        "  time.sleep(TIMEOUT)\n",
        "\n",
        "  if code == 1:\n",
        "    driver.find_element(By.XPATH, '//*[@id=\"content\"]/div[2]/div/div[1]/div/div/div[1]/div/div[1]/span').click() #1차 select_btn\n",
        "    time.sleep(TIMEOUT)\n",
        "    driver.find_element(By.XPATH, '//*[@id=\"content\"]/div[2]/div/div[1]/div/div/div[1]/div/div[1]/ul/li[7]/a').click() #option\n",
        "    time.sleep(TIMEOUT)\n",
        "    driver.find_element(By.XPATH, '//*[@id=\"content\"]/div[2]/div/div[1]/div/div/div[1]/div/div[2]/span').click() #2차 select_btn\n",
        "    time.sleep(TIMEOUT)\n",
        "    driver.find_element(By.XPATH, '//*[@id=\"content\"]/div[2]/div/div[1]/div/div/div[1]/div/div[2]/ul/li[22]/a').click() #option\n",
        "    time.sleep(TIMEOUT)\n",
        "  else :\n",
        "    driver.find_element(By.XPATH, '//*[@id=\"content\"]/div[2]/div/div[1]/div/div/div[1]/div/div[3]/span').click() #3차select_btn\n",
        "    time.sleep(TIMEOUT)\n",
        "\n",
        "  if code == 2:\n",
        "    driver.find_element(By.XPATH, '//*[@id=\"content\"]/div[2]/div/div[1]/div/div/div[1]/div/div[3]/ul/li[2]/a').click() #option\n",
        "  elif code == 3:\n",
        "    driver.find_element(By.XPATH, '//*[@id=\"content\"]/div[2]/div/div[1]/div/div/div[1]/div/div[3]/ul/li[3]/a').click() #option\n",
        "  elif code == 4:\n",
        "    driver.find_element(By.XPATH, '//*[@id=\"content\"]/div[2]/div/div[1]/div/div/div[1]/div/div[3]/ul/li[4]/a').click() #option\n",
        "  elif code == 5:\n",
        "    driver.find_element(By.XPATH, '//*[@id=\"content\"]/div[2]/div/div[1]/div/div/div[1]/div/div[3]/ul/li[5]/a').click() #option\n",
        "  elif code == 6:\n",
        "    driver.find_element(By.XPATH, '//*[@id=\"content\"]/div[2]/div/div[1]/div/div/div[1]/div/div[3]/ul/li[6]/a').click() #option\n",
        "  else: \n",
        "    pass\n",
        "\n",
        "  time.sleep(TIMEOUT)\n",
        "  driver.find_element(By.CSS_SELECTOR, '#content > div.section_instie_area.space_top > div > div.section.insite_inquiry > div > a').click() #btn_submit\n",
        "  time.sleep(TIMEOUT)\n",
        "\n",
        "  all_trend_list = []\n",
        "  \n",
        "  all_trend_list.append(get_1_to_200(driver, TIMEOUT))\n",
        "\n",
        "  return all_trend_list\n",
        "\n",
        "#-----------------------------------------------------------\n",
        "def main():\n",
        "  \n",
        "  code_list = [id for id in range(1,7)]\n",
        "\n",
        "  print ('--- start _multiprocessing')\n",
        "\n",
        "  # cpu 갯수 확인\n",
        "  cpu_count = multiprocessing.cpu_count()\n",
        "  print ('--- cpu_count ', cpu_count)\n",
        "\n",
        "  # cpu 수 결정\n",
        "  pool = multiprocessing.Pool(6)\n",
        "\n",
        "  # 실행 함수, 넘겨줄 파라미터\n",
        "  all_trend_list = pool.map(do_multi, code_list)\n",
        "\n",
        "  # 모든 프로세스 종료까지 기다림\n",
        "  pool.close()\n",
        "  pool.join()\n",
        "  # multi end\n",
        "  return all_trend_list"
      ],
      "metadata": {
        "id": "0sJVQG6CQYbS"
      },
      "execution_count": 105,
      "outputs": []
    },
    {
      "cell_type": "code",
      "source": [
        "if __name__ == '__main__':\n",
        "  TIMEOUT=1\n",
        "  all_trend_list = main() #200개 : 24초"
      ],
      "metadata": {
        "colab": {
          "base_uri": "https://localhost:8080/"
        },
        "id": "Sg4duuSvVz1d",
        "outputId": "ae1900af-a598-4eb6-faa3-da9d895e3b20"
      },
      "execution_count": 106,
      "outputs": [
        {
          "output_type": "stream",
          "name": "stdout",
          "text": [
            "--- start _multiprocessing\n",
            "--- cpu_count  2\n",
            "6번 프로세스 실행1번 프로세스 실행3번 프로세스 실행4번 프로세스 실행5번 프로세스 실행2번 프로세스 실행\n",
            "\n",
            "\n",
            "\n",
            "\n",
            "\n"
          ]
        }
      ]
    },
    {
      "cell_type": "markdown",
      "source": [
        "## 데이터프레임으로 정리"
      ],
      "metadata": {
        "id": "sbhqwlNv3Yv7"
      }
    },
    {
      "cell_type": "code",
      "execution_count": 118,
      "metadata": {
        "colab": {
          "base_uri": "https://localhost:8080/"
        },
        "id": "6c4_HmpXj5ln",
        "outputId": "4aa14339-7541-43aa-d7a5-9ee72566c061"
      },
      "outputs": [
        {
          "output_type": "stream",
          "name": "stdout",
          "text": [
            "/content/drive/My Drive\n",
            "<class 'pandas.core.frame.DataFrame'>\n",
            "RangeIndex: 200 entries, 0 to 199\n",
            "Data columns (total 6 columns):\n",
            " #   Column  Non-Null Count  Dtype \n",
            "---  ------  --------------  ----- \n",
            " 0   전체      200 non-null    object\n",
            " 1   찌개/국    200 non-null    object\n",
            " 2   면/파스타   200 non-null    object\n",
            " 3   구이      200 non-null    object\n",
            " 4   볶음/튀김   200 non-null    object\n",
            " 5   조림/찜    200 non-null    object\n",
            "dtypes: object(6)\n",
            "memory usage: 9.5+ KB\n"
          ]
        }
      ],
      "source": [
        "#데이터프레임으로 정리\n",
        "detailed_category = ['전체', '찌개/국','면/파스타','구이','볶음/튀김','조림/찜']\n",
        "trend_df = pd.DataFrame(list(itertools.chain(*all_trend_list))).T\n",
        "trend_df.columns = detailed_category\n",
        "\n",
        "%cd /content/drive/My Drive\n",
        "trend_df.to_csv('네이버데이터랩_인기검색어.csv')\n",
        "\n",
        "trend_df.info()"
      ]
    },
    {
      "cell_type": "code",
      "execution_count": 119,
      "metadata": {
        "colab": {
          "base_uri": "https://localhost:8080/",
          "height": 424
        },
        "id": "Ie7wbkvrj5lo",
        "outputId": "bb548d6a-1128-4b36-eb8b-603ec40447db"
      },
      "outputs": [
        {
          "output_type": "execute_result",
          "data": {
            "text/plain": [
              "                           전체         찌개/국       면/파스타           구이  \\\n",
              "0                         밀키트          밀키트         밀키트          밀키트   \n",
              "1                         떡볶이          낙곱새  동남아식밀키트탄탄면      스테이크밀키트   \n",
              "2                         낙곱새           알탕      수제비밀키트          자미곱   \n",
              "3                       캠핑밀키트        캠핑밀키트      파스타밀키트        목살밀키트   \n",
              "4                          알탕          해신탕       공항칼국수       군고기밀키트   \n",
              "..                        ...          ...         ...          ...   \n",
              "195  식혜떡볶이밀키트유기농떡수제식혜부산어묵600g    더원푸드전골밀키트         마화룡  빕스포터하우스스테이크   \n",
              "196                    랍스터밀키트        한식밀키트       밀키트뇨끼  프레시지스테이크밀키트   \n",
              "197                   피자만들기키트   갈비탕1kg택배맛집     감자바우밀키트      꼬치구이밀키트   \n",
              "198                마녀떡볶이3500원  더원푸드곱창전골밀키트      쵸이닷가리비        보쌈밀키트   \n",
              "199                   에그인헬밀키트          2인분       호랑이냉면       빕스스테이크   \n",
              "\n",
              "            볶음/튀김      조림/찜  \n",
              "0             밀키트       밀키트  \n",
              "1          감바스밀키트    캠핑요리추천  \n",
              "2          닭갈비밀키트    캠핑음식추천  \n",
              "3          애슐리밀키트     찜닭밀키트  \n",
              "4             감바스     보일링크랩  \n",
              "..            ...       ...  \n",
              "195       홈플러스감바스     매운쪽갈비  \n",
              "196       마라룽샤밀키트      봉스푸드  \n",
              "197  프레시지차돌박이숙주볶음       술안주  \n",
              "198         딩동쭈꾸미    신사강밀키트  \n",
              "199          순대포착  아귀불고기밀키트  \n",
              "\n",
              "[200 rows x 6 columns]"
            ],
            "text/html": [
              "\n",
              "  <div id=\"df-618c17aa-2731-4b39-b36a-0b0161ae27d1\">\n",
              "    <div class=\"colab-df-container\">\n",
              "      <div>\n",
              "<style scoped>\n",
              "    .dataframe tbody tr th:only-of-type {\n",
              "        vertical-align: middle;\n",
              "    }\n",
              "\n",
              "    .dataframe tbody tr th {\n",
              "        vertical-align: top;\n",
              "    }\n",
              "\n",
              "    .dataframe thead th {\n",
              "        text-align: right;\n",
              "    }\n",
              "</style>\n",
              "<table border=\"1\" class=\"dataframe\">\n",
              "  <thead>\n",
              "    <tr style=\"text-align: right;\">\n",
              "      <th></th>\n",
              "      <th>전체</th>\n",
              "      <th>찌개/국</th>\n",
              "      <th>면/파스타</th>\n",
              "      <th>구이</th>\n",
              "      <th>볶음/튀김</th>\n",
              "      <th>조림/찜</th>\n",
              "    </tr>\n",
              "  </thead>\n",
              "  <tbody>\n",
              "    <tr>\n",
              "      <th>0</th>\n",
              "      <td>밀키트</td>\n",
              "      <td>밀키트</td>\n",
              "      <td>밀키트</td>\n",
              "      <td>밀키트</td>\n",
              "      <td>밀키트</td>\n",
              "      <td>밀키트</td>\n",
              "    </tr>\n",
              "    <tr>\n",
              "      <th>1</th>\n",
              "      <td>떡볶이</td>\n",
              "      <td>낙곱새</td>\n",
              "      <td>동남아식밀키트탄탄면</td>\n",
              "      <td>스테이크밀키트</td>\n",
              "      <td>감바스밀키트</td>\n",
              "      <td>캠핑요리추천</td>\n",
              "    </tr>\n",
              "    <tr>\n",
              "      <th>2</th>\n",
              "      <td>낙곱새</td>\n",
              "      <td>알탕</td>\n",
              "      <td>수제비밀키트</td>\n",
              "      <td>자미곱</td>\n",
              "      <td>닭갈비밀키트</td>\n",
              "      <td>캠핑음식추천</td>\n",
              "    </tr>\n",
              "    <tr>\n",
              "      <th>3</th>\n",
              "      <td>캠핑밀키트</td>\n",
              "      <td>캠핑밀키트</td>\n",
              "      <td>파스타밀키트</td>\n",
              "      <td>목살밀키트</td>\n",
              "      <td>애슐리밀키트</td>\n",
              "      <td>찜닭밀키트</td>\n",
              "    </tr>\n",
              "    <tr>\n",
              "      <th>4</th>\n",
              "      <td>알탕</td>\n",
              "      <td>해신탕</td>\n",
              "      <td>공항칼국수</td>\n",
              "      <td>군고기밀키트</td>\n",
              "      <td>감바스</td>\n",
              "      <td>보일링크랩</td>\n",
              "    </tr>\n",
              "    <tr>\n",
              "      <th>...</th>\n",
              "      <td>...</td>\n",
              "      <td>...</td>\n",
              "      <td>...</td>\n",
              "      <td>...</td>\n",
              "      <td>...</td>\n",
              "      <td>...</td>\n",
              "    </tr>\n",
              "    <tr>\n",
              "      <th>195</th>\n",
              "      <td>식혜떡볶이밀키트유기농떡수제식혜부산어묵600g</td>\n",
              "      <td>더원푸드전골밀키트</td>\n",
              "      <td>마화룡</td>\n",
              "      <td>빕스포터하우스스테이크</td>\n",
              "      <td>홈플러스감바스</td>\n",
              "      <td>매운쪽갈비</td>\n",
              "    </tr>\n",
              "    <tr>\n",
              "      <th>196</th>\n",
              "      <td>랍스터밀키트</td>\n",
              "      <td>한식밀키트</td>\n",
              "      <td>밀키트뇨끼</td>\n",
              "      <td>프레시지스테이크밀키트</td>\n",
              "      <td>마라룽샤밀키트</td>\n",
              "      <td>봉스푸드</td>\n",
              "    </tr>\n",
              "    <tr>\n",
              "      <th>197</th>\n",
              "      <td>피자만들기키트</td>\n",
              "      <td>갈비탕1kg택배맛집</td>\n",
              "      <td>감자바우밀키트</td>\n",
              "      <td>꼬치구이밀키트</td>\n",
              "      <td>프레시지차돌박이숙주볶음</td>\n",
              "      <td>술안주</td>\n",
              "    </tr>\n",
              "    <tr>\n",
              "      <th>198</th>\n",
              "      <td>마녀떡볶이3500원</td>\n",
              "      <td>더원푸드곱창전골밀키트</td>\n",
              "      <td>쵸이닷가리비</td>\n",
              "      <td>보쌈밀키트</td>\n",
              "      <td>딩동쭈꾸미</td>\n",
              "      <td>신사강밀키트</td>\n",
              "    </tr>\n",
              "    <tr>\n",
              "      <th>199</th>\n",
              "      <td>에그인헬밀키트</td>\n",
              "      <td>2인분</td>\n",
              "      <td>호랑이냉면</td>\n",
              "      <td>빕스스테이크</td>\n",
              "      <td>순대포착</td>\n",
              "      <td>아귀불고기밀키트</td>\n",
              "    </tr>\n",
              "  </tbody>\n",
              "</table>\n",
              "<p>200 rows × 6 columns</p>\n",
              "</div>\n",
              "      <button class=\"colab-df-convert\" onclick=\"convertToInteractive('df-618c17aa-2731-4b39-b36a-0b0161ae27d1')\"\n",
              "              title=\"Convert this dataframe to an interactive table.\"\n",
              "              style=\"display:none;\">\n",
              "        \n",
              "  <svg xmlns=\"http://www.w3.org/2000/svg\" height=\"24px\"viewBox=\"0 0 24 24\"\n",
              "       width=\"24px\">\n",
              "    <path d=\"M0 0h24v24H0V0z\" fill=\"none\"/>\n",
              "    <path d=\"M18.56 5.44l.94 2.06.94-2.06 2.06-.94-2.06-.94-.94-2.06-.94 2.06-2.06.94zm-11 1L8.5 8.5l.94-2.06 2.06-.94-2.06-.94L8.5 2.5l-.94 2.06-2.06.94zm10 10l.94 2.06.94-2.06 2.06-.94-2.06-.94-.94-2.06-.94 2.06-2.06.94z\"/><path d=\"M17.41 7.96l-1.37-1.37c-.4-.4-.92-.59-1.43-.59-.52 0-1.04.2-1.43.59L10.3 9.45l-7.72 7.72c-.78.78-.78 2.05 0 2.83L4 21.41c.39.39.9.59 1.41.59.51 0 1.02-.2 1.41-.59l7.78-7.78 2.81-2.81c.8-.78.8-2.07 0-2.86zM5.41 20L4 18.59l7.72-7.72 1.47 1.35L5.41 20z\"/>\n",
              "  </svg>\n",
              "      </button>\n",
              "      \n",
              "  <style>\n",
              "    .colab-df-container {\n",
              "      display:flex;\n",
              "      flex-wrap:wrap;\n",
              "      gap: 12px;\n",
              "    }\n",
              "\n",
              "    .colab-df-convert {\n",
              "      background-color: #E8F0FE;\n",
              "      border: none;\n",
              "      border-radius: 50%;\n",
              "      cursor: pointer;\n",
              "      display: none;\n",
              "      fill: #1967D2;\n",
              "      height: 32px;\n",
              "      padding: 0 0 0 0;\n",
              "      width: 32px;\n",
              "    }\n",
              "\n",
              "    .colab-df-convert:hover {\n",
              "      background-color: #E2EBFA;\n",
              "      box-shadow: 0px 1px 2px rgba(60, 64, 67, 0.3), 0px 1px 3px 1px rgba(60, 64, 67, 0.15);\n",
              "      fill: #174EA6;\n",
              "    }\n",
              "\n",
              "    [theme=dark] .colab-df-convert {\n",
              "      background-color: #3B4455;\n",
              "      fill: #D2E3FC;\n",
              "    }\n",
              "\n",
              "    [theme=dark] .colab-df-convert:hover {\n",
              "      background-color: #434B5C;\n",
              "      box-shadow: 0px 1px 3px 1px rgba(0, 0, 0, 0.15);\n",
              "      filter: drop-shadow(0px 1px 2px rgba(0, 0, 0, 0.3));\n",
              "      fill: #FFFFFF;\n",
              "    }\n",
              "  </style>\n",
              "\n",
              "      <script>\n",
              "        const buttonEl =\n",
              "          document.querySelector('#df-618c17aa-2731-4b39-b36a-0b0161ae27d1 button.colab-df-convert');\n",
              "        buttonEl.style.display =\n",
              "          google.colab.kernel.accessAllowed ? 'block' : 'none';\n",
              "\n",
              "        async function convertToInteractive(key) {\n",
              "          const element = document.querySelector('#df-618c17aa-2731-4b39-b36a-0b0161ae27d1');\n",
              "          const dataTable =\n",
              "            await google.colab.kernel.invokeFunction('convertToInteractive',\n",
              "                                                     [key], {});\n",
              "          if (!dataTable) return;\n",
              "\n",
              "          const docLinkHtml = 'Like what you see? Visit the ' +\n",
              "            '<a target=\"_blank\" href=https://colab.research.google.com/notebooks/data_table.ipynb>data table notebook</a>'\n",
              "            + ' to learn more about interactive tables.';\n",
              "          element.innerHTML = '';\n",
              "          dataTable['output_type'] = 'display_data';\n",
              "          await google.colab.output.renderOutput(dataTable, element);\n",
              "          const docLink = document.createElement('div');\n",
              "          docLink.innerHTML = docLinkHtml;\n",
              "          element.appendChild(docLink);\n",
              "        }\n",
              "      </script>\n",
              "    </div>\n",
              "  </div>\n",
              "  "
            ]
          },
          "metadata": {},
          "execution_count": 119
        }
      ],
      "source": [
        "trend_df"
      ]
    },
    {
      "cell_type": "markdown",
      "source": [
        "# konlpy, Mecab 형태소 분석기 설치 스크립트 실행\n",
        "\n",
        "## mecab의 폴더를 보면 크게 3개의 폴더로 이뤄져 있습니다.\n",
        "- mecab-ko-dic : mecab의 단어 사전\n",
        "- tools : 단어 사전에 단어를 추가시킨 후 컴파일 및 적용을 시켜주는 프로그램들 존재\n",
        "- user-dic : 사용자가 추가적으로 추가한 단어에 대한 단어 사전\n",
        "\n",
        "## 단어 사전에 단어를 추가하는 프로세스는 크게 다음과 같이 진행이 됩니다.\n",
        "1. user-dic의 csv 파일에 형식에 맞게 추가하고 싶은 단어를 추가\n",
        "2. tools의 add-userdic-win.ps1라는 프로그램을 실행하여 컴파일 진행하여 추가 사항을 적용\n",
        "3. 2번의 과정에 의해서 user-dic에서 설정한 csv파일이 mecab-ko-dic에 새로 csv파일이 만들어져서 단어 사전에 해당 단어가 적용됨\n",
        "\n",
        "## mecab-ko-dic 품사 태그 설명\n",
        "- http://eunjeon.blogspot.com/2014/03/blog-post.html\n",
        "- https://docs.google.com/spreadsheets/d/1-9blXKjtjeKZqsf4NzHeYJCrr49-nXeRF6D80udfcwY/edit#gid=589544265\n",
        "- 표층형 / 좌문맥ID / 우문맥ID / 비용(우선순위) /\t품사 / 태그 /\t의미부류 / 종성 유무 / \t읽기 / 타입 /\t첫번째 품사 /\t마지막 품사 /\t원형 / 인덱스 표현"
      ],
      "metadata": {
        "id": "5gWghHlXhlUe"
      }
    },
    {
      "cell_type": "code",
      "source": [
        "# konlpy, Mecab 형태소 분석기 설치 스크립트 실행\n",
        "!git clone https://github.com/SOMJANG/Mecab-ko-for-Google-Colab.git\n",
        "%cd Mecab-ko-for-Google-Colab/\n",
        "!bash ./install_mecab-ko_on_colab190912.sh\n",
        "%cd /content/mecab-ko-dic-2.1.1-20180720/\n",
        "!pip install jamo"
      ],
      "metadata": {
        "id": "jwodBWL-hf5I"
      },
      "execution_count": null,
      "outputs": []
    },
    {
      "cell_type": "markdown",
      "source": [
        "# 사용자 단어 사전 추가"
      ],
      "metadata": {
        "id": "LkxQ8tTCSwjC"
      }
    },
    {
      "cell_type": "code",
      "source": [
        "from jamo import h2j, j2hcj\n",
        "%cd /content/mecab-ko-dic-2.1.1-20180720/\n",
        "\n",
        "with open(\"./user-dic/nnp.csv\", 'r', encoding='utf-8') as f:\n",
        "  file_data = f.readlines()\n",
        "\n",
        "#사용자 단어 정의\n",
        "word_list = ['곱도리탕','소곱창','가니쉬','우족찜','밀키트','투움바','감바스','프레시지','피코크','파스타',\n",
        "             '된장찌개','마라탕','해신탕','해물탕','낙곱새','낙새','오꼬노미야끼','랍스터','숯불닭갈비',\n",
        "             '탄탄면','밀푀유나베','술찜','통찜','묵은지찜','김치찜','뽈찜','곱도리','쉬림프','씨푸드',\n",
        "             '뇨끼','폭립','소꼬리찜','마라샹궈','동남아','에그인헬','빠네','찜닭','해물찜','블랙라벨',\n",
        "             '오코노미야끼', '막창','리조또','활전복','된장','자미곱','동남아식','더원푸드','맛도령',\n",
        "             '순살', '쿠킹','한우','소곱창전골','육통령', '된장찌개','당감댁', '캠핑용', '호텔식', '간편',\n",
        "             '파우즈','레이식당', '팔공산', '얼큰이','허챠밍','돼고비','투다리', '직화', '직화구이',\n",
        "             '찹스테이크','황토집','솔리보', '정인푸드몰', '고기남자','마이야르','돈이','냄새없는','생생',\n",
        "             '쿡솜씨', '아히요', '도리명가', '로미랜드', '소제이','하정강', '양푼이','신사강', '파피요트', \n",
        "             '등갈비찜', '서민갑부','오징어볶음','쭈꾸미','소갈비찜']\n",
        "\n",
        "#형식에 맞춰서 nnp 사전에 추가\n",
        "for word in word_list:\n",
        "  sample_text_list = list(word)\n",
        "  last_word = sample_text_list[-1]\n",
        "  last_word_jamo_list = list(j2hcj(h2j(last_word)))\n",
        "  last_jamo = last_word_jamo_list[-1]\n",
        "\n",
        "  ## 마지막 글자가 받침을 가지느냐 안가지느냐로 T는 True, F는 False.\n",
        "  jongsung_TF = \"T\"\n",
        "  if last_jamo in ['ㅏ', 'ㅑ', 'ㅓ', 'ㅕ', 'ㅗ', 'ㅛ', 'ㅜ', 'ㅠ', 'ㅡ', 'ㅣ', 'ㅘ', 'ㅚ', 'ㅙ', 'ㅝ', 'ㅞ', 'ㅢ', 'ㅐ,ㅔ', 'ㅟ', 'ㅖ', 'ㅒ']:\n",
        "    jongsung_TF = \"F\"\n",
        "\n",
        "  #표층형 / 좌문맥ID / 우문맥ID / 비용(우선순위) / 품사 / 태그 / 의미부류 / 종성 유무 / 읽기 / 타입 / 첫번째 품사 / 마지막 품사 / 원형 / 인덱스 표현\n",
        "  line = '{},,,0,NNP,*,{},{},*,*,*,*,*\\n'.format(word, jongsung_TF, word)\n",
        "\n",
        "  file_data.append(line)\n",
        "\n",
        "\n",
        "with open(\"./user-dic/nnp.csv\", 'w', encoding='utf-8') as f:\n",
        "  for line in file_data:\n",
        "    f.write(line)"
      ],
      "metadata": {
        "id": "p96uRPqD0ObM"
      },
      "execution_count": null,
      "outputs": []
    },
    {
      "cell_type": "code",
      "source": [
        "#설정 저장\n",
        "!bash ./autogen.sh\n",
        "!make\n",
        "!sudo make install\n",
        "!bash ./tools/add-userdic.sh"
      ],
      "metadata": {
        "id": "bJHW-Rt51aKi"
      },
      "execution_count": null,
      "outputs": []
    },
    {
      "cell_type": "markdown",
      "source": [
        "# user nnp 사전에서도 우선순위 적용"
      ],
      "metadata": {
        "id": "ugW2WNl0TXhF"
      }
    },
    {
      "cell_type": "code",
      "source": [
        "import pandas as pd\n",
        "\n",
        "nnp = pd.read_csv('user-nnp.csv', index_col = 0)\n",
        "nnp['3821'] = 0\n",
        "nnp = nnp.rename(columns={'3821':0})\n",
        "nnp.to_csv('user-nnp.csv')"
      ],
      "metadata": {
        "id": "kkHjiV4dTJM-"
      },
      "execution_count": null,
      "outputs": []
    },
    {
      "cell_type": "markdown",
      "source": [
        "* make clean <br>\n",
        "= 이전 컴파일 내용을 삭제\n",
        "* make distclean<br>\n",
        " = 파일을 받고 압축을 푼 처음상태로 만드는것\n",
        "* make install<br>\n",
        " = make를 통해 만들어진 설치파일(setup)을 설치를 하는 과정이다. 한마디로 build된 프로그램을 실행 할 수 있게 파일들을 알맞은 위치에다가 복사를 한다."
      ],
      "metadata": {
        "id": "ag9y5P_nTyn-"
      }
    },
    {
      "cell_type": "code",
      "source": [
        "!make clean    #이전 컴파일 내용을 삭제"
      ],
      "metadata": {
        "id": "eSc6yOXtTF4p"
      },
      "execution_count": null,
      "outputs": []
    },
    {
      "cell_type": "code",
      "source": [
        "!make install  #만들어진 파일 설치"
      ],
      "metadata": {
        "id": "yDjGOCD-Zbgo"
      },
      "execution_count": null,
      "outputs": []
    },
    {
      "cell_type": "markdown",
      "source": [
        "# 네이버데이터랩 인기검색어 파일에 적용"
      ],
      "metadata": {
        "id": "Mb8lPKeYUTsf"
      }
    },
    {
      "cell_type": "code",
      "source": [
        "import pandas as pd\n",
        "%cd /content/drive/My Drive\n",
        "\n",
        "naver_df = trend_df.copy()"
      ],
      "metadata": {
        "colab": {
          "base_uri": "https://localhost:8080/"
        },
        "id": "sITvJ_fH1jMP",
        "outputId": "f5e9c583-71c3-4191-d7df-a0cf9ba3c659"
      },
      "execution_count": 121,
      "outputs": [
        {
          "output_type": "stream",
          "name": "stdout",
          "text": [
            "/content/drive/My Drive\n"
          ]
        }
      ]
    },
    {
      "cell_type": "code",
      "source": [
        "from konlpy.tag import Mecab\n",
        "mecab = Mecab()\n",
        "for column in range(6):\n",
        "  naver_df.iloc[:, column] = naver_df.iloc[:, column].apply(lambda trend : \" \".join(mecab.morphs(trend)))\n",
        "naver_df.to_csv('네이버데이터랩_인기검색어_전처리.csv')\n",
        "naver_df"
      ],
      "metadata": {
        "colab": {
          "base_uri": "https://localhost:8080/",
          "height": 424
        },
        "id": "ZLpOV4iU1mea",
        "outputId": "8eb17750-0ca1-4b0b-8f08-fa3646f7d874"
      },
      "execution_count": 122,
      "outputs": [
        {
          "output_type": "execute_result",
          "data": {
            "text/plain": [
              "                                     전체            찌개/국         면/파스타  \\\n",
              "0                                   밀키트             밀키트           밀키트   \n",
              "1                                   떡볶이             낙곱새  동남아식 밀키트 탄탄면   \n",
              "2                                   낙곱새              알탕       수제비 밀키트   \n",
              "3                                캠핑 밀키트          캠핑 밀키트       파스타 밀키트   \n",
              "4                                    알탕             해신탕        공항 칼국수   \n",
              "..                                  ...             ...           ...   \n",
              "195  식혜 떡볶이 밀키트 유기농 떡 수제 식혜 부산 어묵 600 g     더원푸드 전골 밀키트           마화룡   \n",
              "196                             랍스터 밀키트          한식 밀키트        밀키트 뇨끼   \n",
              "197                          피자 만들 기 키트  갈비탕 1 kg 택배 맛집     감자 바우 밀키트   \n",
              "198                       마녀 떡볶이 3500 원   더원푸드 곱창전골 밀키트     쵸 이 닷 가리비   \n",
              "199                            에그인헬 밀키트            2 인분        호랑이 냉면   \n",
              "\n",
              "                 구이            볶음/튀김        조림/찜  \n",
              "0               밀키트              밀키트         밀키트  \n",
              "1          스테이크 밀키트          감바스 밀키트    캠핑 요리 추천  \n",
              "2               자미곱          닭갈비 밀키트    캠핑 음식 추천  \n",
              "3            목살 밀키트          애슐리 밀키트      찜닭 밀키트  \n",
              "4           군고기 밀키트              감바스      보일링 크랩  \n",
              "..              ...              ...         ...  \n",
              "195  빕스 포터 하우스 스테이크         홈플러스 감바스     매운 쪽 갈비  \n",
              "196   프레시지 스테이크 밀키트       마라 룽 샤 밀키트      봉 스 푸드  \n",
              "197        꼬치구이 밀키트  프레시지 차돌박이 숙주 볶음         술안주  \n",
              "198          보쌈 밀키트           딩동 쭈꾸미     신사강 밀키트  \n",
              "199         빕스 스테이크            순대 포착  아귀 불고기 밀키트  \n",
              "\n",
              "[200 rows x 6 columns]"
            ],
            "text/html": [
              "\n",
              "  <div id=\"df-dc530ddd-addb-467c-8774-e5b53bd01e5c\">\n",
              "    <div class=\"colab-df-container\">\n",
              "      <div>\n",
              "<style scoped>\n",
              "    .dataframe tbody tr th:only-of-type {\n",
              "        vertical-align: middle;\n",
              "    }\n",
              "\n",
              "    .dataframe tbody tr th {\n",
              "        vertical-align: top;\n",
              "    }\n",
              "\n",
              "    .dataframe thead th {\n",
              "        text-align: right;\n",
              "    }\n",
              "</style>\n",
              "<table border=\"1\" class=\"dataframe\">\n",
              "  <thead>\n",
              "    <tr style=\"text-align: right;\">\n",
              "      <th></th>\n",
              "      <th>전체</th>\n",
              "      <th>찌개/국</th>\n",
              "      <th>면/파스타</th>\n",
              "      <th>구이</th>\n",
              "      <th>볶음/튀김</th>\n",
              "      <th>조림/찜</th>\n",
              "    </tr>\n",
              "  </thead>\n",
              "  <tbody>\n",
              "    <tr>\n",
              "      <th>0</th>\n",
              "      <td>밀키트</td>\n",
              "      <td>밀키트</td>\n",
              "      <td>밀키트</td>\n",
              "      <td>밀키트</td>\n",
              "      <td>밀키트</td>\n",
              "      <td>밀키트</td>\n",
              "    </tr>\n",
              "    <tr>\n",
              "      <th>1</th>\n",
              "      <td>떡볶이</td>\n",
              "      <td>낙곱새</td>\n",
              "      <td>동남아식 밀키트 탄탄면</td>\n",
              "      <td>스테이크 밀키트</td>\n",
              "      <td>감바스 밀키트</td>\n",
              "      <td>캠핑 요리 추천</td>\n",
              "    </tr>\n",
              "    <tr>\n",
              "      <th>2</th>\n",
              "      <td>낙곱새</td>\n",
              "      <td>알탕</td>\n",
              "      <td>수제비 밀키트</td>\n",
              "      <td>자미곱</td>\n",
              "      <td>닭갈비 밀키트</td>\n",
              "      <td>캠핑 음식 추천</td>\n",
              "    </tr>\n",
              "    <tr>\n",
              "      <th>3</th>\n",
              "      <td>캠핑 밀키트</td>\n",
              "      <td>캠핑 밀키트</td>\n",
              "      <td>파스타 밀키트</td>\n",
              "      <td>목살 밀키트</td>\n",
              "      <td>애슐리 밀키트</td>\n",
              "      <td>찜닭 밀키트</td>\n",
              "    </tr>\n",
              "    <tr>\n",
              "      <th>4</th>\n",
              "      <td>알탕</td>\n",
              "      <td>해신탕</td>\n",
              "      <td>공항 칼국수</td>\n",
              "      <td>군고기 밀키트</td>\n",
              "      <td>감바스</td>\n",
              "      <td>보일링 크랩</td>\n",
              "    </tr>\n",
              "    <tr>\n",
              "      <th>...</th>\n",
              "      <td>...</td>\n",
              "      <td>...</td>\n",
              "      <td>...</td>\n",
              "      <td>...</td>\n",
              "      <td>...</td>\n",
              "      <td>...</td>\n",
              "    </tr>\n",
              "    <tr>\n",
              "      <th>195</th>\n",
              "      <td>식혜 떡볶이 밀키트 유기농 떡 수제 식혜 부산 어묵 600 g</td>\n",
              "      <td>더원푸드 전골 밀키트</td>\n",
              "      <td>마화룡</td>\n",
              "      <td>빕스 포터 하우스 스테이크</td>\n",
              "      <td>홈플러스 감바스</td>\n",
              "      <td>매운 쪽 갈비</td>\n",
              "    </tr>\n",
              "    <tr>\n",
              "      <th>196</th>\n",
              "      <td>랍스터 밀키트</td>\n",
              "      <td>한식 밀키트</td>\n",
              "      <td>밀키트 뇨끼</td>\n",
              "      <td>프레시지 스테이크 밀키트</td>\n",
              "      <td>마라 룽 샤 밀키트</td>\n",
              "      <td>봉 스 푸드</td>\n",
              "    </tr>\n",
              "    <tr>\n",
              "      <th>197</th>\n",
              "      <td>피자 만들 기 키트</td>\n",
              "      <td>갈비탕 1 kg 택배 맛집</td>\n",
              "      <td>감자 바우 밀키트</td>\n",
              "      <td>꼬치구이 밀키트</td>\n",
              "      <td>프레시지 차돌박이 숙주 볶음</td>\n",
              "      <td>술안주</td>\n",
              "    </tr>\n",
              "    <tr>\n",
              "      <th>198</th>\n",
              "      <td>마녀 떡볶이 3500 원</td>\n",
              "      <td>더원푸드 곱창전골 밀키트</td>\n",
              "      <td>쵸 이 닷 가리비</td>\n",
              "      <td>보쌈 밀키트</td>\n",
              "      <td>딩동 쭈꾸미</td>\n",
              "      <td>신사강 밀키트</td>\n",
              "    </tr>\n",
              "    <tr>\n",
              "      <th>199</th>\n",
              "      <td>에그인헬 밀키트</td>\n",
              "      <td>2 인분</td>\n",
              "      <td>호랑이 냉면</td>\n",
              "      <td>빕스 스테이크</td>\n",
              "      <td>순대 포착</td>\n",
              "      <td>아귀 불고기 밀키트</td>\n",
              "    </tr>\n",
              "  </tbody>\n",
              "</table>\n",
              "<p>200 rows × 6 columns</p>\n",
              "</div>\n",
              "      <button class=\"colab-df-convert\" onclick=\"convertToInteractive('df-dc530ddd-addb-467c-8774-e5b53bd01e5c')\"\n",
              "              title=\"Convert this dataframe to an interactive table.\"\n",
              "              style=\"display:none;\">\n",
              "        \n",
              "  <svg xmlns=\"http://www.w3.org/2000/svg\" height=\"24px\"viewBox=\"0 0 24 24\"\n",
              "       width=\"24px\">\n",
              "    <path d=\"M0 0h24v24H0V0z\" fill=\"none\"/>\n",
              "    <path d=\"M18.56 5.44l.94 2.06.94-2.06 2.06-.94-2.06-.94-.94-2.06-.94 2.06-2.06.94zm-11 1L8.5 8.5l.94-2.06 2.06-.94-2.06-.94L8.5 2.5l-.94 2.06-2.06.94zm10 10l.94 2.06.94-2.06 2.06-.94-2.06-.94-.94-2.06-.94 2.06-2.06.94z\"/><path d=\"M17.41 7.96l-1.37-1.37c-.4-.4-.92-.59-1.43-.59-.52 0-1.04.2-1.43.59L10.3 9.45l-7.72 7.72c-.78.78-.78 2.05 0 2.83L4 21.41c.39.39.9.59 1.41.59.51 0 1.02-.2 1.41-.59l7.78-7.78 2.81-2.81c.8-.78.8-2.07 0-2.86zM5.41 20L4 18.59l7.72-7.72 1.47 1.35L5.41 20z\"/>\n",
              "  </svg>\n",
              "      </button>\n",
              "      \n",
              "  <style>\n",
              "    .colab-df-container {\n",
              "      display:flex;\n",
              "      flex-wrap:wrap;\n",
              "      gap: 12px;\n",
              "    }\n",
              "\n",
              "    .colab-df-convert {\n",
              "      background-color: #E8F0FE;\n",
              "      border: none;\n",
              "      border-radius: 50%;\n",
              "      cursor: pointer;\n",
              "      display: none;\n",
              "      fill: #1967D2;\n",
              "      height: 32px;\n",
              "      padding: 0 0 0 0;\n",
              "      width: 32px;\n",
              "    }\n",
              "\n",
              "    .colab-df-convert:hover {\n",
              "      background-color: #E2EBFA;\n",
              "      box-shadow: 0px 1px 2px rgba(60, 64, 67, 0.3), 0px 1px 3px 1px rgba(60, 64, 67, 0.15);\n",
              "      fill: #174EA6;\n",
              "    }\n",
              "\n",
              "    [theme=dark] .colab-df-convert {\n",
              "      background-color: #3B4455;\n",
              "      fill: #D2E3FC;\n",
              "    }\n",
              "\n",
              "    [theme=dark] .colab-df-convert:hover {\n",
              "      background-color: #434B5C;\n",
              "      box-shadow: 0px 1px 3px 1px rgba(0, 0, 0, 0.15);\n",
              "      filter: drop-shadow(0px 1px 2px rgba(0, 0, 0, 0.3));\n",
              "      fill: #FFFFFF;\n",
              "    }\n",
              "  </style>\n",
              "\n",
              "      <script>\n",
              "        const buttonEl =\n",
              "          document.querySelector('#df-dc530ddd-addb-467c-8774-e5b53bd01e5c button.colab-df-convert');\n",
              "        buttonEl.style.display =\n",
              "          google.colab.kernel.accessAllowed ? 'block' : 'none';\n",
              "\n",
              "        async function convertToInteractive(key) {\n",
              "          const element = document.querySelector('#df-dc530ddd-addb-467c-8774-e5b53bd01e5c');\n",
              "          const dataTable =\n",
              "            await google.colab.kernel.invokeFunction('convertToInteractive',\n",
              "                                                     [key], {});\n",
              "          if (!dataTable) return;\n",
              "\n",
              "          const docLinkHtml = 'Like what you see? Visit the ' +\n",
              "            '<a target=\"_blank\" href=https://colab.research.google.com/notebooks/data_table.ipynb>data table notebook</a>'\n",
              "            + ' to learn more about interactive tables.';\n",
              "          element.innerHTML = '';\n",
              "          dataTable['output_type'] = 'display_data';\n",
              "          await google.colab.output.renderOutput(dataTable, element);\n",
              "          const docLink = document.createElement('div');\n",
              "          docLink.innerHTML = docLinkHtml;\n",
              "          element.appendChild(docLink);\n",
              "        }\n",
              "      </script>\n",
              "    </div>\n",
              "  </div>\n",
              "  "
            ]
          },
          "metadata": {},
          "execution_count": 122
        }
      ]
    },
    {
      "cell_type": "code",
      "source": [
        "naver_dict = {'찌개/국' : '전골, 생선탕, 찌개/짜글이, 알탕, 해물탕, 국, 마라탕',\n",
        "         '면/파스타' : '면, 국수, 파스타',\n",
        "         '구이' : '구이, 스테이크',\n",
        "         '볶음/튀김' : '볶음, 감바스, 순대',\n",
        "         '조림/찜' : '찜, 마파두부, 족발',\n",
        "         '전체' : '한식, 기타, 씨푸드, 닭, 오리, 떡볶이, 무침, 쌈, 샌드위치, 리조또, 카레'}"
      ],
      "metadata": {
        "id": "AS6Stt7Z1oaT"
      },
      "execution_count": 17,
      "outputs": []
    },
    {
      "cell_type": "markdown",
      "metadata": {
        "id": "F7o7h5dYj5lp"
      },
      "source": [
        "# 인기 검색어 띄어쓰기 전처리 TEST\n",
        "- konlpy\n",
        "- https://heegyukim.medium.com/symspell%EC%9D%84-%EC%9D%B4%EC%9A%A9%ED%95%9C-%ED%95%9C%EA%B8%80-%EB%A7%9E%EC%B6%A4%EB%B2%95-%EA%B5%90%EC%A0%95-2-%EB%B3%B5%ED%95%A9%EC%96%B4%EC%99%80-%EB%9D%84%EC%96%B4%EC%93%B0%EA%B8%B0-%EA%B5%90%EC%A0%95-7605ec2fcebc\n",
        "- soynlp : https://github.com/lovit/soynlp"
      ]
    },
    {
      "cell_type": "code",
      "execution_count": 18,
      "metadata": {
        "id": "Fw2Loc4pj5lp"
      },
      "outputs": [],
      "source": [
        "from konlpy.tag import Hannanum, Kkma, Komoran, Okt\n",
        "hannanum = Hannanum()\n",
        "kkma = Kkma()\n",
        "komoran = Komoran()\n",
        "okt = Okt()"
      ]
    },
    {
      "cell_type": "code",
      "execution_count": 19,
      "metadata": {
        "colab": {
          "base_uri": "https://localhost:8080/"
        },
        "id": "_fWlkhYfj5lq",
        "outputId": "830654ee-6ed0-491f-a1ac-87dc3ed10011"
      },
      "outputs": [
        {
          "output_type": "stream",
          "name": "stdout",
          "text": [
            "hannanum :  ['프리미엄부대찌개밀키트김치2인3인캠핑요리쿠킹박스술안주']\n",
            "kkma :  ['프리미엄', '부대', '찌개', '밀', '키트', '김치', '2', '인', '3', '인', '캠핑', '요리', '쿠킹', '박스', '술안주']\n",
            "komoran :  ['프리미엄', '부대찌개', '밀', '키트', '김치', '2', '인', '3', '이', 'ㄴ', '캠핑', '요리', '쿠', '킹', '박스', '술안주']\n",
            "okt :  ['프리미엄', '부대찌개', '밀', '키트', '김치', '2', '인', '3', '인', '캠핑', '요', '리쿠', '킹', '박스', '술안주']\n",
            "mecab :  ['프리미엄', '부대찌개', '밀키트', '김치', '2', '인', '3', '인', '캠핑', '요리', '쿠킹', '박스', '술안주']\n"
          ]
        }
      ],
      "source": [
        "word = '프리미엄부대찌개밀키트김치2인3인캠핑요리쿠킹박스술안주'\n",
        "print('hannanum : ', hannanum.morphs(word))\n",
        "print('kkma : ', kkma.morphs(word))\n",
        "print('komoran : ', komoran.morphs(word))\n",
        "print('okt : ', okt.morphs(word))\n",
        "print('mecab : ', mecab.morphs(word))"
      ]
    },
    {
      "cell_type": "code",
      "execution_count": 20,
      "metadata": {
        "colab": {
          "base_uri": "https://localhost:8080/"
        },
        "id": "ltZu0QHNj5lq",
        "outputId": "e97f2464-dbdd-4264-f833-015ff8d91b6a"
      },
      "outputs": [
        {
          "output_type": "stream",
          "name": "stdout",
          "text": [
            "hannanum :  ['부산맛집밀키트(1회용냄비선물)당감댁곱도리탕닭볶음탕닭도리탕곱창안주캠핑용']\n",
            "kkma :  ['부산', '맛', '집', '밀', '키트', '(', '1', '회', '용', '냄비', '선물', ')', '당', '감', '댁곱', '도리탕', '닭볶음탕', '닭도리탕', '곱창', '안주', '캠핑', '용']\n",
            "komoran :  ['부산', '맛집', '밀', '키트', '(', '1', '회', '용', '냄비', '선물', ')', '당감', '댁', '곱', '도리', '탕', '닭볶음탕', '닭', '도리', '탕', '곱창', '안주', '캠핑', '용']\n",
            "okt :  ['부산', '맛집', '밀', '키트', '(', '1회', '용냄비선물', ')', '당', '감댁곱', '도리', '탕', '닭볶음탕', '닭도리탕', '곱창', '안주', '캠핑', '용']\n",
            "mecab :  ['부산', '맛집', '밀키트', '(', '1', '회', '용', '냄비', '선물', ')', '당감댁', '곱도리탕', '닭볶음탕', '닭도리탕', '곱창', '안주', '캠핑용']\n"
          ]
        }
      ],
      "source": [
        "word = '부산맛집밀키트(1회용냄비선물)당감댁곱도리탕닭볶음탕닭도리탕곱창안주캠핑용'\n",
        "print('hannanum : ', hannanum.morphs(word))\n",
        "print('kkma : ', kkma.morphs(word))\n",
        "print('komoran : ', komoran.morphs(word))\n",
        "print('okt : ', okt.morphs(word))\n",
        "print('mecab : ', mecab.morphs(word))"
      ]
    },
    {
      "cell_type": "code",
      "execution_count": 21,
      "metadata": {
        "colab": {
          "base_uri": "https://localhost:8080/"
        },
        "id": "um9ffA55j5lq",
        "outputId": "a91719ad-ff14-4878-ff69-60653e86d9bb"
      },
      "outputs": [
        {
          "output_type": "stream",
          "name": "stdout",
          "text": [
            "hannanum :  ['더원푸드시래기곱창전골밀키트']\n",
            "kkma :  ['더', '원', '푸드', '시래기', '곱창', '전골', '밀', '키트']\n",
            "komoran :  ['더', '원', '푸드', '시', '래', '기', '곱창전골', '밀', '키트']\n",
            "okt :  ['더원', '푸드', '시래기', '곱창전골', '밀', '키트']\n",
            "mecab :  ['더원푸드', '시래기', '곱창전골', '밀키트']\n"
          ]
        }
      ],
      "source": [
        "word = '더원푸드시래기곱창전골밀키트'\n",
        "print('hannanum : ', hannanum.morphs(word))\n",
        "print('kkma : ', kkma.morphs(word))\n",
        "print('komoran : ', komoran.morphs(word))\n",
        "print('okt : ', okt.morphs(word))\n",
        "print('mecab : ', mecab.morphs(word))"
      ]
    },
    {
      "cell_type": "code",
      "execution_count": 22,
      "metadata": {
        "colab": {
          "base_uri": "https://localhost:8080/"
        },
        "id": "tyhGiqMbj5lr",
        "outputId": "6a25bf58-d027-4e83-c428-697c5109dc85"
      },
      "outputs": [
        {
          "output_type": "stream",
          "name": "stdout",
          "text": [
            "hannanum :  ['일품정한우간편안주매콤한우우족찜밀키트650g']\n",
            "kkma :  ['일품', '정', '하', 'ㄴ', '우', '간편', '안주', '매콤', '하', 'ㄴ', '우', '우족', '찜', '밀', '키트', '650', 'g']\n",
            "komoran :  ['일품', '정', '한우', '간', '편', '안주', '매콤', '한우', '우', '족', '찜', '밀', '키트', '650', 'g']\n",
            "okt :  ['일품', '정', '한우', '간편', '안주', '매콤', '한', '우우', '족찜밀', '키트', '650', 'g']\n",
            "mecab :  ['일', '품정', '한우', '간편', '안주', '매콤', '한우', '우족찜', '밀키트', '650', 'g']\n"
          ]
        }
      ],
      "source": [
        "word = '일품정한우간편안주매콤한우우족찜밀키트650g'\n",
        "print('hannanum : ', hannanum.morphs(word))\n",
        "print('kkma : ', kkma.morphs(word))\n",
        "print('komoran : ', komoran.morphs(word))\n",
        "print('okt : ', okt.morphs(word))\n",
        "print('mecab : ', mecab.morphs(word))"
      ]
    },
    {
      "cell_type": "code",
      "execution_count": 23,
      "metadata": {
        "colab": {
          "base_uri": "https://localhost:8080/"
        },
        "id": "zVZECgsbj5lr",
        "outputId": "19e81477-ee37-4567-e4f6-60049b91a2d3"
      },
      "outputs": [
        {
          "output_type": "stream",
          "name": "stdout",
          "text": [
            "Looking in indexes: https://pypi.org/simple, https://us-python.pkg.dev/colab-wheels/public/simple/\n",
            "Collecting soynlp\n",
            "  Downloading soynlp-0.0.493-py3-none-any.whl (416 kB)\n",
            "\u001b[K     |████████████████████████████████| 416 kB 5.1 MB/s \n",
            "\u001b[?25hRequirement already satisfied: scikit-learn>=0.20.0 in /usr/local/lib/python3.8/dist-packages (from soynlp) (1.0.2)\n",
            "Requirement already satisfied: scipy>=1.1.0 in /usr/local/lib/python3.8/dist-packages (from soynlp) (1.7.3)\n",
            "Requirement already satisfied: psutil>=5.0.1 in /usr/local/lib/python3.8/dist-packages (from soynlp) (5.4.8)\n",
            "Requirement already satisfied: numpy>=1.12.1 in /usr/local/lib/python3.8/dist-packages (from soynlp) (1.21.6)\n",
            "Requirement already satisfied: threadpoolctl>=2.0.0 in /usr/local/lib/python3.8/dist-packages (from scikit-learn>=0.20.0->soynlp) (3.1.0)\n",
            "Requirement already satisfied: joblib>=0.11 in /usr/local/lib/python3.8/dist-packages (from scikit-learn>=0.20.0->soynlp) (1.2.0)\n",
            "Installing collected packages: soynlp\n",
            "Successfully installed soynlp-0.0.493\n",
            "--2022-12-28 00:30:20--  https://raw.githubusercontent.com/lovit/soynlp/master/tutorials/2016-10-20.txt\n",
            "Resolving raw.githubusercontent.com (raw.githubusercontent.com)... 185.199.108.133, 185.199.109.133, 185.199.110.133, ...\n",
            "Connecting to raw.githubusercontent.com (raw.githubusercontent.com)|185.199.108.133|:443... connected.\n",
            "HTTP request sent, awaiting response... 200 OK\n",
            "Length: 43694449 (42M) [text/plain]\n",
            "Saving to: ‘2016-10-20.txt’\n",
            "\n",
            "2016-10-20.txt      100%[===================>]  41.67M  66.9MB/s    in 0.6s    \n",
            "\n",
            "2022-12-28 00:30:22 (66.9 MB/s) - ‘2016-10-20.txt’ saved [43694449/43694449]\n",
            "\n"
          ]
        }
      ],
      "source": [
        "!pip3 install soynlp\n",
        "!wget https://raw.githubusercontent.com/lovit/soynlp/master/tutorials/2016-10-20.txt -O 2016-10-20.txt"
      ]
    },
    {
      "cell_type": "code",
      "execution_count": 24,
      "metadata": {
        "colab": {
          "base_uri": "https://localhost:8080/",
          "height": 218
        },
        "id": "zPDW1yXjj5lr",
        "outputId": "98c7de11-e57b-490f-9d72-251b02666915"
      },
      "outputs": [
        {
          "output_type": "stream",
          "name": "stdout",
          "text": [
            "local variable 'f' referenced before assignment\n"
          ]
        },
        {
          "output_type": "error",
          "ename": "ValueError",
          "evalue": "ignored",
          "traceback": [
            "\u001b[0;31m---------------------------------------------------------------------------\u001b[0m",
            "\u001b[0;31mValueError\u001b[0m                                Traceback (most recent call last)",
            "\u001b[0;32m<ipython-input-24-01f19701fe01>\u001b[0m in \u001b[0;36m<module>\u001b[0;34m\u001b[0m\n\u001b[1;32m      4\u001b[0m \u001b[0;31m# 문서 단위 말뭉치 생성\u001b[0m\u001b[0;34m\u001b[0m\u001b[0;34m\u001b[0m\u001b[0;34m\u001b[0m\u001b[0m\n\u001b[1;32m      5\u001b[0m \u001b[0mcorpus\u001b[0m \u001b[0;34m=\u001b[0m \u001b[0mDoublespaceLineCorpus\u001b[0m\u001b[0;34m(\u001b[0m\u001b[0;34m\"https://raw.githubusercontent.com/lovit/soynlp/master/tutorials/2016-10-20.txt\"\u001b[0m\u001b[0;34m)\u001b[0m\u001b[0;34m\u001b[0m\u001b[0;34m\u001b[0m\u001b[0m\n\u001b[0;32m----> 6\u001b[0;31m \u001b[0mlen\u001b[0m\u001b[0;34m(\u001b[0m\u001b[0mcorpus\u001b[0m\u001b[0;34m)\u001b[0m  \u001b[0;31m# 문서의 갯수\u001b[0m\u001b[0;34m\u001b[0m\u001b[0;34m\u001b[0m\u001b[0m\n\u001b[0m",
            "\u001b[0;31mValueError\u001b[0m: __len__() should return >= 0"
          ]
        }
      ],
      "source": [
        "### 말 뭉치 생성\n",
        "from soynlp import DoublespaceLineCorpus\n",
        "\n",
        "# 문서 단위 말뭉치 생성 \n",
        "corpus = DoublespaceLineCorpus(\"https://raw.githubusercontent.com/lovit/soynlp/master/tutorials/2016-10-20.txt\")\n",
        "len(corpus)  # 문서의 갯수"
      ]
    },
    {
      "cell_type": "code",
      "execution_count": null,
      "metadata": {
        "id": "k4rwIEcLj5ls"
      },
      "outputs": [],
      "source": [
        "import sklearn\n",
        "from soynlp.utils import DoublespaceLineCorpus\n",
        "from soynlp.noun import LRNounExtractor_v2\n",
        "from soynlp import DoublespaceLineCorpus\n",
        "\n",
        "corpus_path = '2016-10-20-news'\n",
        "sents = DoublespaceLineCorpus(corpus_path, iter_sent=True)\n",
        "\n",
        "noun_extractor = LRNounExtractor_v2(verbose=True)\n",
        "nouns = noun_extractor.train_extract(sents)\n"
      ]
    },
    {
      "cell_type": "code",
      "execution_count": null,
      "metadata": {
        "id": "s2cPMpqoj5ls"
      },
      "outputs": [],
      "source": []
    }
  ],
  "metadata": {
    "kernelspec": {
      "display_name": "base",
      "language": "python",
      "name": "python3"
    },
    "language_info": {
      "codemirror_mode": {
        "name": "ipython",
        "version": 3
      },
      "file_extension": ".py",
      "mimetype": "text/x-python",
      "name": "python",
      "nbconvert_exporter": "python",
      "pygments_lexer": "ipython3",
      "version": "3.9.12"
    },
    "orig_nbformat": 4,
    "vscode": {
      "interpreter": {
        "hash": "631926b96873d2007fbe5ba14401cac9ce99e5e76ded0bffc18be58f3fefa61b"
      }
    },
    "colab": {
      "provenance": [],
      "include_colab_link": true
    }
  },
  "nbformat": 4,
  "nbformat_minor": 0
}