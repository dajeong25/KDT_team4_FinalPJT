{
  "nbformat": 4,
  "nbformat_minor": 0,
  "metadata": {
    "colab": {
      "provenance": []
    },
    "kernelspec": {
      "name": "python3",
      "display_name": "Python 3"
    },
    "language_info": {
      "name": "python"
    }
  },
  "cells": [
    {
      "cell_type": "markdown",
      "metadata": {
        "id": "q95_5R0Qxx_U"
      },
      "source": [
        "필요 라이브러리\n",
        "- symspellpy\n",
        "- hangul_utils\n",
        "\n",
        "필요한 리소스\n",
        "- 한글 단어 frequency data https://github.com/hermitdave/FrequencyWords\n",
        "- 완성형 한글과 조합형 한글"
      ]
    },
    {
      "cell_type": "markdown",
      "source": [
        "# 새 섹션"
      ],
      "metadata": {
        "id": "5vStMnfn3pDa"
      }
    },
    {
      "cell_type": "code",
      "source": [
        "from google.colab import drive\n",
        "drive.mount('/content/drive')"
      ],
      "metadata": {
        "colab": {
          "base_uri": "https://localhost:8080/"
        },
        "id": "Y9VBkDFZ5ztj",
        "outputId": "0998f0ac-1a98-4056-c0ac-0b7e0e8839d3"
      },
      "execution_count": null,
      "outputs": [
        {
          "output_type": "stream",
          "name": "stdout",
          "text": [
            "Drive already mounted at /content/drive; to attempt to forcibly remount, call drive.mount(\"/content/drive\", force_remount=True).\n"
          ]
        }
      ]
    },
    {
      "cell_type": "code",
      "metadata": {
        "id": "Wi4IvxNYiOK0",
        "outputId": "4a34f5b0-60ef-4a70-d6de-ba5f75c13ccb",
        "colab": {
          "base_uri": "https://localhost:8080/"
        }
      },
      "source": [
        "!pip install symspellpy jamo hangul_utils\n",
        "!wget https://raw.githubusercontent.com/hermitdave/FrequencyWords/master/content/2018/ko/ko_50k.txt"
      ],
      "execution_count": null,
      "outputs": [
        {
          "output_type": "stream",
          "name": "stdout",
          "text": [
            "Looking in indexes: https://pypi.org/simple, https://us-python.pkg.dev/colab-wheels/public/simple/\n",
            "Requirement already satisfied: symspellpy in /usr/local/lib/python3.8/dist-packages (6.7.0)\n",
            "Requirement already satisfied: jamo in /usr/local/lib/python3.8/dist-packages (0.4.1)\n",
            "Requirement already satisfied: hangul_utils in /usr/local/lib/python3.8/dist-packages (0.2)\n",
            "Requirement already satisfied: numpy>=1.13.1 in /usr/local/lib/python3.8/dist-packages (from symspellpy) (1.21.6)\n",
            "--2022-12-20 03:34:23--  https://raw.githubusercontent.com/hermitdave/FrequencyWords/master/content/2018/ko/ko_50k.txt\n",
            "Resolving raw.githubusercontent.com (raw.githubusercontent.com)... 185.199.108.133, 185.199.109.133, 185.199.110.133, ...\n",
            "Connecting to raw.githubusercontent.com (raw.githubusercontent.com)|185.199.108.133|:443... connected.\n",
            "HTTP request sent, awaiting response... 200 OK\n",
            "Length: 695053 (679K) [text/plain]\n",
            "Saving to: ‘ko_50k.txt.1’\n",
            "\n",
            "ko_50k.txt.1        100%[===================>] 678.76K  --.-KB/s    in 0.02s   \n",
            "\n",
            "2022-12-20 03:34:23 (42.6 MB/s) - ‘ko_50k.txt.1’ saved [695053/695053]\n",
            "\n"
          ]
        }
      ]
    },
    {
      "cell_type": "code",
      "metadata": {
        "id": "KKK1ZyJHiRBI",
        "colab": {
          "base_uri": "https://localhost:8080/"
        },
        "outputId": "c2612f46-8b3c-46a4-e4f6-9d8d20f86a49"
      },
      "source": [
        "from symspellpy import SymSpell, Verbosity\n",
        "\n",
        "sym_spell = SymSpell()\n",
        "dictionary_path = \"sample_file2.txt\"\n",
        "bigram_path = \"news1M.csv\"\n",
        "sym_spell.load_dictionary(dictionary_path, 0, 1)\n",
        "sym_spell.load_bigram_dictionary(bigram_path, term_index=0, count_index=2)"
      ],
      "execution_count": null,
      "outputs": [
        {
          "output_type": "stream",
          "name": "stderr",
          "text": [
            "2022-12-20 03:34:24,602: E symspellpy.symspellpy] Bigram dictionary file not found at news1M.csv.\n",
            "ERROR:symspellpy.symspellpy:Bigram dictionary file not found at news1M.csv.\n"
          ]
        },
        {
          "output_type": "execute_result",
          "data": {
            "text/plain": [
              "False"
            ]
          },
          "metadata": {},
          "execution_count": 80
        }
      ]
    },
    {
      "cell_type": "code",
      "metadata": {
        "colab": {
          "base_uri": "https://localhost:8080/"
        },
        "id": "dWkeMuxcf6Kh",
        "outputId": "5ecca2d0-5ee2-4ac1-a6aa-98e21891e66b"
      },
      "source": [
        "\n",
        "term = \"안뇽하세요\"\n",
        "text = \"별 반개도 아깝다 욕나온다 이응경 길용우 연기생활이몇년인지..정말 발로해도 그것보단 낫겟다 납치.감금만반복반복..이드라마는 가족도없다 연기못하는사람만모엿네\"\n",
        "# text = \"액션이없는데도재미있는몇안되는영화\"\n",
        "# suggestions = sym_spell.lookup(term, Verbosity.ALL, max_edit_distance=2)\n",
        "# suggestions = sym_spell.lookup_compound(text, max_edit_distance=2)\n",
        "# print(\"결과 총 {0}개\".format(len(suggestions)))\n",
        "# for sugg in suggestions:\n",
        "#   print(sugg.term, sugg.distance, sugg.count)\n",
        "print(sym_spell.word_segmentation(text, max_edit_distance =0).corrected_string)"
      ],
      "execution_count": null,
      "outputs": [
        {
          "output_type": "stream",
          "name": "stdout",
          "text": [
            "별 반개도 아깝다 욕나온다 이응경 길용우 연기생활이몇년인지..정말 발로해도 그것보단 낫겟다 납치.감금만반복반복..이드라마는 가족도없다 연기못하는사람만모엿네\n"
          ]
        }
      ]
    },
    {
      "cell_type": "code",
      "metadata": {
        "id": "90IHKna3jA4l",
        "colab": {
          "base_uri": "https://localhost:8080/",
          "height": 72
        },
        "outputId": "78600e68-bf8d-4308-d500-09ed4bcf7867"
      },
      "source": [
        "from jamo import h2j, j2hcj\n",
        "from hangul_utils import join_jamos\n",
        "import pandas as pd\n",
        "\n",
        "def to_jamos(text):\n",
        "  return j2hcj(h2j(text))\n",
        "\n",
        "to_jamos(text)"
      ],
      "execution_count": null,
      "outputs": [
        {
          "output_type": "execute_result",
          "data": {
            "text/plain": [
              "'ㅂㅕㄹ ㅂㅏㄴㄱㅐㄷㅗ ㅇㅏㄲㅏㅂㄷㅏ ㅇㅛㄱㄴㅏㅇㅗㄴㄷㅏ ㅇㅣㅇㅡㅇㄱㅕㅇ ㄱㅣㄹㅇㅛㅇㅇㅜ ㅇㅕㄴㄱㅣㅅㅐㅇㅎㅘㄹㅇㅣㅁㅕㅊㄴㅕㄴㅇㅣㄴㅈㅣ..ㅈㅓㅇㅁㅏㄹ ㅂㅏㄹㄹㅗㅎㅐㄷㅗ ㄱㅡㄱㅓㅅㅂㅗㄷㅏㄴ ㄴㅏㅅㄱㅔㅅㄷㅏ ㄴㅏㅂㅊㅣ.ㄱㅏㅁㄱㅡㅁㅁㅏㄴㅂㅏㄴㅂㅗㄱㅂㅏㄴㅂㅗㄱ..ㅇㅣㄷㅡㄹㅏㅁㅏㄴㅡㄴ ㄱㅏㅈㅗㄱㄷㅗㅇㅓㅄㄷㅏ ㅇㅕㄴㄱㅣㅁㅗㅅㅎㅏㄴㅡㄴㅅㅏㄹㅏㅁㅁㅏㄴㅁㅗㅇㅕㅅㄴㅔ'"
            ],
            "application/vnd.google.colaboratory.intrinsic+json": {
              "type": "string"
            }
          },
          "metadata": {},
          "execution_count": 82
        }
      ]
    },
    {
      "cell_type": "code",
      "metadata": {
        "colab": {
          "base_uri": "https://localhost:8080/",
          "height": 206
        },
        "id": "drzjICVVHzPW",
        "outputId": "d3dd3a15-7eee-4da5-829a-44993f2302e1"
      },
      "source": [
        "vocab = pd.read_csv(\"ko_50k.txt\", sep=\" \", names=[\"term\", \"count\"])\n",
        "vocab.term = vocab.term.map(to_jamos)\n",
        "vocab.to_csv(\"ko_50k_decomposed.txt\", sep=\" \", header=None, index=None)\n",
        "vocab.head()"
      ],
      "execution_count": null,
      "outputs": [
        {
          "output_type": "execute_result",
          "data": {
            "text/plain": [
              "   term  count\n",
              "0  ㄴㅐㄱㅏ  39801\n",
              "1    ㄱㅡ  35563\n",
              "2   ㄴㅏㄴ  35163\n",
              "3    ㄴㅐ  33774\n",
              "4   ㅇㅏㄴ  32915"
            ],
            "text/html": [
              "\n",
              "  <div id=\"df-e136cc23-b866-4c49-bc04-59c533f1f44e\">\n",
              "    <div class=\"colab-df-container\">\n",
              "      <div>\n",
              "<style scoped>\n",
              "    .dataframe tbody tr th:only-of-type {\n",
              "        vertical-align: middle;\n",
              "    }\n",
              "\n",
              "    .dataframe tbody tr th {\n",
              "        vertical-align: top;\n",
              "    }\n",
              "\n",
              "    .dataframe thead th {\n",
              "        text-align: right;\n",
              "    }\n",
              "</style>\n",
              "<table border=\"1\" class=\"dataframe\">\n",
              "  <thead>\n",
              "    <tr style=\"text-align: right;\">\n",
              "      <th></th>\n",
              "      <th>term</th>\n",
              "      <th>count</th>\n",
              "    </tr>\n",
              "  </thead>\n",
              "  <tbody>\n",
              "    <tr>\n",
              "      <th>0</th>\n",
              "      <td>ㄴㅐㄱㅏ</td>\n",
              "      <td>39801</td>\n",
              "    </tr>\n",
              "    <tr>\n",
              "      <th>1</th>\n",
              "      <td>ㄱㅡ</td>\n",
              "      <td>35563</td>\n",
              "    </tr>\n",
              "    <tr>\n",
              "      <th>2</th>\n",
              "      <td>ㄴㅏㄴ</td>\n",
              "      <td>35163</td>\n",
              "    </tr>\n",
              "    <tr>\n",
              "      <th>3</th>\n",
              "      <td>ㄴㅐ</td>\n",
              "      <td>33774</td>\n",
              "    </tr>\n",
              "    <tr>\n",
              "      <th>4</th>\n",
              "      <td>ㅇㅏㄴ</td>\n",
              "      <td>32915</td>\n",
              "    </tr>\n",
              "  </tbody>\n",
              "</table>\n",
              "</div>\n",
              "      <button class=\"colab-df-convert\" onclick=\"convertToInteractive('df-e136cc23-b866-4c49-bc04-59c533f1f44e')\"\n",
              "              title=\"Convert this dataframe to an interactive table.\"\n",
              "              style=\"display:none;\">\n",
              "        \n",
              "  <svg xmlns=\"http://www.w3.org/2000/svg\" height=\"24px\"viewBox=\"0 0 24 24\"\n",
              "       width=\"24px\">\n",
              "    <path d=\"M0 0h24v24H0V0z\" fill=\"none\"/>\n",
              "    <path d=\"M18.56 5.44l.94 2.06.94-2.06 2.06-.94-2.06-.94-.94-2.06-.94 2.06-2.06.94zm-11 1L8.5 8.5l.94-2.06 2.06-.94-2.06-.94L8.5 2.5l-.94 2.06-2.06.94zm10 10l.94 2.06.94-2.06 2.06-.94-2.06-.94-.94-2.06-.94 2.06-2.06.94z\"/><path d=\"M17.41 7.96l-1.37-1.37c-.4-.4-.92-.59-1.43-.59-.52 0-1.04.2-1.43.59L10.3 9.45l-7.72 7.72c-.78.78-.78 2.05 0 2.83L4 21.41c.39.39.9.59 1.41.59.51 0 1.02-.2 1.41-.59l7.78-7.78 2.81-2.81c.8-.78.8-2.07 0-2.86zM5.41 20L4 18.59l7.72-7.72 1.47 1.35L5.41 20z\"/>\n",
              "  </svg>\n",
              "      </button>\n",
              "      \n",
              "  <style>\n",
              "    .colab-df-container {\n",
              "      display:flex;\n",
              "      flex-wrap:wrap;\n",
              "      gap: 12px;\n",
              "    }\n",
              "\n",
              "    .colab-df-convert {\n",
              "      background-color: #E8F0FE;\n",
              "      border: none;\n",
              "      border-radius: 50%;\n",
              "      cursor: pointer;\n",
              "      display: none;\n",
              "      fill: #1967D2;\n",
              "      height: 32px;\n",
              "      padding: 0 0 0 0;\n",
              "      width: 32px;\n",
              "    }\n",
              "\n",
              "    .colab-df-convert:hover {\n",
              "      background-color: #E2EBFA;\n",
              "      box-shadow: 0px 1px 2px rgba(60, 64, 67, 0.3), 0px 1px 3px 1px rgba(60, 64, 67, 0.15);\n",
              "      fill: #174EA6;\n",
              "    }\n",
              "\n",
              "    [theme=dark] .colab-df-convert {\n",
              "      background-color: #3B4455;\n",
              "      fill: #D2E3FC;\n",
              "    }\n",
              "\n",
              "    [theme=dark] .colab-df-convert:hover {\n",
              "      background-color: #434B5C;\n",
              "      box-shadow: 0px 1px 3px 1px rgba(0, 0, 0, 0.15);\n",
              "      filter: drop-shadow(0px 1px 2px rgba(0, 0, 0, 0.3));\n",
              "      fill: #FFFFFF;\n",
              "    }\n",
              "  </style>\n",
              "\n",
              "      <script>\n",
              "        const buttonEl =\n",
              "          document.querySelector('#df-e136cc23-b866-4c49-bc04-59c533f1f44e button.colab-df-convert');\n",
              "        buttonEl.style.display =\n",
              "          google.colab.kernel.accessAllowed ? 'block' : 'none';\n",
              "\n",
              "        async function convertToInteractive(key) {\n",
              "          const element = document.querySelector('#df-e136cc23-b866-4c49-bc04-59c533f1f44e');\n",
              "          const dataTable =\n",
              "            await google.colab.kernel.invokeFunction('convertToInteractive',\n",
              "                                                     [key], {});\n",
              "          if (!dataTable) return;\n",
              "\n",
              "          const docLinkHtml = 'Like what you see? Visit the ' +\n",
              "            '<a target=\"_blank\" href=https://colab.research.google.com/notebooks/data_table.ipynb>data table notebook</a>'\n",
              "            + ' to learn more about interactive tables.';\n",
              "          element.innerHTML = '';\n",
              "          dataTable['output_type'] = 'display_data';\n",
              "          await google.colab.output.renderOutput(dataTable, element);\n",
              "          const docLink = document.createElement('div');\n",
              "          docLink.innerHTML = docLinkHtml;\n",
              "          element.appendChild(docLink);\n",
              "        }\n",
              "      </script>\n",
              "    </div>\n",
              "  </div>\n",
              "  "
            ]
          },
          "metadata": {},
          "execution_count": 83
        }
      ]
    },
    {
      "cell_type": "code",
      "metadata": {
        "colab": {
          "base_uri": "https://localhost:8080/",
          "height": 418
        },
        "id": "lT5sm5AYgZiS",
        "outputId": "49cf4cf2-52a2-461d-fe55-03341df2c71a"
      },
      "source": [
        "bigrams = pd.read_csv(bigram_path, sep= \" \", names=[\"term1\", \"term2\", \"count\"])\n",
        "bigrams.term1 = bigrams.term1.map(to_jamos)\n",
        "bigrams.term2 = bigrams.term2.map(to_jamos)\n",
        "bigrams.to_csv(\"news1M_decomposed.txt\", sep=\" \", header=None, index=None)\n",
        "bigrams.head()"
      ],
      "execution_count": null,
      "outputs": [
        {
          "output_type": "error",
          "ename": "FileNotFoundError",
          "evalue": "ignored",
          "traceback": [
            "\u001b[0;31m---------------------------------------------------------------------------\u001b[0m",
            "\u001b[0;31mFileNotFoundError\u001b[0m                         Traceback (most recent call last)",
            "\u001b[0;32m<ipython-input-84-b78dfb37a916>\u001b[0m in \u001b[0;36m<module>\u001b[0;34m\u001b[0m\n\u001b[0;32m----> 1\u001b[0;31m \u001b[0mbigrams\u001b[0m \u001b[0;34m=\u001b[0m \u001b[0mpd\u001b[0m\u001b[0;34m.\u001b[0m\u001b[0mread_csv\u001b[0m\u001b[0;34m(\u001b[0m\u001b[0mbigram_path\u001b[0m\u001b[0;34m,\u001b[0m \u001b[0msep\u001b[0m\u001b[0;34m=\u001b[0m \u001b[0;34m\" \"\u001b[0m\u001b[0;34m,\u001b[0m \u001b[0mnames\u001b[0m\u001b[0;34m=\u001b[0m\u001b[0;34m[\u001b[0m\u001b[0;34m\"term1\"\u001b[0m\u001b[0;34m,\u001b[0m \u001b[0;34m\"term2\"\u001b[0m\u001b[0;34m,\u001b[0m \u001b[0;34m\"count\"\u001b[0m\u001b[0;34m]\u001b[0m\u001b[0;34m)\u001b[0m\u001b[0;34m\u001b[0m\u001b[0;34m\u001b[0m\u001b[0m\n\u001b[0m\u001b[1;32m      2\u001b[0m \u001b[0mbigrams\u001b[0m\u001b[0;34m.\u001b[0m\u001b[0mterm1\u001b[0m \u001b[0;34m=\u001b[0m \u001b[0mbigrams\u001b[0m\u001b[0;34m.\u001b[0m\u001b[0mterm1\u001b[0m\u001b[0;34m.\u001b[0m\u001b[0mmap\u001b[0m\u001b[0;34m(\u001b[0m\u001b[0mto_jamos\u001b[0m\u001b[0;34m)\u001b[0m\u001b[0;34m\u001b[0m\u001b[0;34m\u001b[0m\u001b[0m\n\u001b[1;32m      3\u001b[0m \u001b[0mbigrams\u001b[0m\u001b[0;34m.\u001b[0m\u001b[0mterm2\u001b[0m \u001b[0;34m=\u001b[0m \u001b[0mbigrams\u001b[0m\u001b[0;34m.\u001b[0m\u001b[0mterm2\u001b[0m\u001b[0;34m.\u001b[0m\u001b[0mmap\u001b[0m\u001b[0;34m(\u001b[0m\u001b[0mto_jamos\u001b[0m\u001b[0;34m)\u001b[0m\u001b[0;34m\u001b[0m\u001b[0;34m\u001b[0m\u001b[0m\n\u001b[1;32m      4\u001b[0m \u001b[0mbigrams\u001b[0m\u001b[0;34m.\u001b[0m\u001b[0mto_csv\u001b[0m\u001b[0;34m(\u001b[0m\u001b[0;34m\"news1M_decomposed.txt\"\u001b[0m\u001b[0;34m,\u001b[0m \u001b[0msep\u001b[0m\u001b[0;34m=\u001b[0m\u001b[0;34m\" \"\u001b[0m\u001b[0;34m,\u001b[0m \u001b[0mheader\u001b[0m\u001b[0;34m=\u001b[0m\u001b[0;32mNone\u001b[0m\u001b[0;34m,\u001b[0m \u001b[0mindex\u001b[0m\u001b[0;34m=\u001b[0m\u001b[0;32mNone\u001b[0m\u001b[0;34m)\u001b[0m\u001b[0;34m\u001b[0m\u001b[0;34m\u001b[0m\u001b[0m\n\u001b[1;32m      5\u001b[0m \u001b[0mbigrams\u001b[0m\u001b[0;34m.\u001b[0m\u001b[0mhead\u001b[0m\u001b[0;34m(\u001b[0m\u001b[0;34m)\u001b[0m\u001b[0;34m\u001b[0m\u001b[0;34m\u001b[0m\u001b[0m\n",
            "\u001b[0;32m/usr/local/lib/python3.8/dist-packages/pandas/util/_decorators.py\u001b[0m in \u001b[0;36mwrapper\u001b[0;34m(*args, **kwargs)\u001b[0m\n\u001b[1;32m    309\u001b[0m                     \u001b[0mstacklevel\u001b[0m\u001b[0;34m=\u001b[0m\u001b[0mstacklevel\u001b[0m\u001b[0;34m,\u001b[0m\u001b[0;34m\u001b[0m\u001b[0;34m\u001b[0m\u001b[0m\n\u001b[1;32m    310\u001b[0m                 )\n\u001b[0;32m--> 311\u001b[0;31m             \u001b[0;32mreturn\u001b[0m \u001b[0mfunc\u001b[0m\u001b[0;34m(\u001b[0m\u001b[0;34m*\u001b[0m\u001b[0margs\u001b[0m\u001b[0;34m,\u001b[0m \u001b[0;34m**\u001b[0m\u001b[0mkwargs\u001b[0m\u001b[0;34m)\u001b[0m\u001b[0;34m\u001b[0m\u001b[0;34m\u001b[0m\u001b[0m\n\u001b[0m\u001b[1;32m    312\u001b[0m \u001b[0;34m\u001b[0m\u001b[0m\n\u001b[1;32m    313\u001b[0m         \u001b[0;32mreturn\u001b[0m \u001b[0mwrapper\u001b[0m\u001b[0;34m\u001b[0m\u001b[0;34m\u001b[0m\u001b[0m\n",
            "\u001b[0;32m/usr/local/lib/python3.8/dist-packages/pandas/io/parsers/readers.py\u001b[0m in \u001b[0;36mread_csv\u001b[0;34m(filepath_or_buffer, sep, delimiter, header, names, index_col, usecols, squeeze, prefix, mangle_dupe_cols, dtype, engine, converters, true_values, false_values, skipinitialspace, skiprows, skipfooter, nrows, na_values, keep_default_na, na_filter, verbose, skip_blank_lines, parse_dates, infer_datetime_format, keep_date_col, date_parser, dayfirst, cache_dates, iterator, chunksize, compression, thousands, decimal, lineterminator, quotechar, quoting, doublequote, escapechar, comment, encoding, encoding_errors, dialect, error_bad_lines, warn_bad_lines, on_bad_lines, delim_whitespace, low_memory, memory_map, float_precision, storage_options)\u001b[0m\n\u001b[1;32m    584\u001b[0m     \u001b[0mkwds\u001b[0m\u001b[0;34m.\u001b[0m\u001b[0mupdate\u001b[0m\u001b[0;34m(\u001b[0m\u001b[0mkwds_defaults\u001b[0m\u001b[0;34m)\u001b[0m\u001b[0;34m\u001b[0m\u001b[0;34m\u001b[0m\u001b[0m\n\u001b[1;32m    585\u001b[0m \u001b[0;34m\u001b[0m\u001b[0m\n\u001b[0;32m--> 586\u001b[0;31m     \u001b[0;32mreturn\u001b[0m \u001b[0m_read\u001b[0m\u001b[0;34m(\u001b[0m\u001b[0mfilepath_or_buffer\u001b[0m\u001b[0;34m,\u001b[0m \u001b[0mkwds\u001b[0m\u001b[0;34m)\u001b[0m\u001b[0;34m\u001b[0m\u001b[0;34m\u001b[0m\u001b[0m\n\u001b[0m\u001b[1;32m    587\u001b[0m \u001b[0;34m\u001b[0m\u001b[0m\n\u001b[1;32m    588\u001b[0m \u001b[0;34m\u001b[0m\u001b[0m\n",
            "\u001b[0;32m/usr/local/lib/python3.8/dist-packages/pandas/io/parsers/readers.py\u001b[0m in \u001b[0;36m_read\u001b[0;34m(filepath_or_buffer, kwds)\u001b[0m\n\u001b[1;32m    480\u001b[0m \u001b[0;34m\u001b[0m\u001b[0m\n\u001b[1;32m    481\u001b[0m     \u001b[0;31m# Create the parser.\u001b[0m\u001b[0;34m\u001b[0m\u001b[0;34m\u001b[0m\u001b[0;34m\u001b[0m\u001b[0m\n\u001b[0;32m--> 482\u001b[0;31m     \u001b[0mparser\u001b[0m \u001b[0;34m=\u001b[0m \u001b[0mTextFileReader\u001b[0m\u001b[0;34m(\u001b[0m\u001b[0mfilepath_or_buffer\u001b[0m\u001b[0;34m,\u001b[0m \u001b[0;34m**\u001b[0m\u001b[0mkwds\u001b[0m\u001b[0;34m)\u001b[0m\u001b[0;34m\u001b[0m\u001b[0;34m\u001b[0m\u001b[0m\n\u001b[0m\u001b[1;32m    483\u001b[0m \u001b[0;34m\u001b[0m\u001b[0m\n\u001b[1;32m    484\u001b[0m     \u001b[0;32mif\u001b[0m \u001b[0mchunksize\u001b[0m \u001b[0;32mor\u001b[0m \u001b[0miterator\u001b[0m\u001b[0;34m:\u001b[0m\u001b[0;34m\u001b[0m\u001b[0;34m\u001b[0m\u001b[0m\n",
            "\u001b[0;32m/usr/local/lib/python3.8/dist-packages/pandas/io/parsers/readers.py\u001b[0m in \u001b[0;36m__init__\u001b[0;34m(self, f, engine, **kwds)\u001b[0m\n\u001b[1;32m    809\u001b[0m             \u001b[0mself\u001b[0m\u001b[0;34m.\u001b[0m\u001b[0moptions\u001b[0m\u001b[0;34m[\u001b[0m\u001b[0;34m\"has_index_names\"\u001b[0m\u001b[0;34m]\u001b[0m \u001b[0;34m=\u001b[0m \u001b[0mkwds\u001b[0m\u001b[0;34m[\u001b[0m\u001b[0;34m\"has_index_names\"\u001b[0m\u001b[0;34m]\u001b[0m\u001b[0;34m\u001b[0m\u001b[0;34m\u001b[0m\u001b[0m\n\u001b[1;32m    810\u001b[0m \u001b[0;34m\u001b[0m\u001b[0m\n\u001b[0;32m--> 811\u001b[0;31m         \u001b[0mself\u001b[0m\u001b[0;34m.\u001b[0m\u001b[0m_engine\u001b[0m \u001b[0;34m=\u001b[0m \u001b[0mself\u001b[0m\u001b[0;34m.\u001b[0m\u001b[0m_make_engine\u001b[0m\u001b[0;34m(\u001b[0m\u001b[0mself\u001b[0m\u001b[0;34m.\u001b[0m\u001b[0mengine\u001b[0m\u001b[0;34m)\u001b[0m\u001b[0;34m\u001b[0m\u001b[0;34m\u001b[0m\u001b[0m\n\u001b[0m\u001b[1;32m    812\u001b[0m \u001b[0;34m\u001b[0m\u001b[0m\n\u001b[1;32m    813\u001b[0m     \u001b[0;32mdef\u001b[0m \u001b[0mclose\u001b[0m\u001b[0;34m(\u001b[0m\u001b[0mself\u001b[0m\u001b[0;34m)\u001b[0m\u001b[0;34m:\u001b[0m\u001b[0;34m\u001b[0m\u001b[0;34m\u001b[0m\u001b[0m\n",
            "\u001b[0;32m/usr/local/lib/python3.8/dist-packages/pandas/io/parsers/readers.py\u001b[0m in \u001b[0;36m_make_engine\u001b[0;34m(self, engine)\u001b[0m\n\u001b[1;32m   1038\u001b[0m             )\n\u001b[1;32m   1039\u001b[0m         \u001b[0;31m# error: Too many arguments for \"ParserBase\"\u001b[0m\u001b[0;34m\u001b[0m\u001b[0;34m\u001b[0m\u001b[0;34m\u001b[0m\u001b[0m\n\u001b[0;32m-> 1040\u001b[0;31m         \u001b[0;32mreturn\u001b[0m \u001b[0mmapping\u001b[0m\u001b[0;34m[\u001b[0m\u001b[0mengine\u001b[0m\u001b[0;34m]\u001b[0m\u001b[0;34m(\u001b[0m\u001b[0mself\u001b[0m\u001b[0;34m.\u001b[0m\u001b[0mf\u001b[0m\u001b[0;34m,\u001b[0m \u001b[0;34m**\u001b[0m\u001b[0mself\u001b[0m\u001b[0;34m.\u001b[0m\u001b[0moptions\u001b[0m\u001b[0;34m)\u001b[0m  \u001b[0;31m# type: ignore[call-arg]\u001b[0m\u001b[0;34m\u001b[0m\u001b[0;34m\u001b[0m\u001b[0m\n\u001b[0m\u001b[1;32m   1041\u001b[0m \u001b[0;34m\u001b[0m\u001b[0m\n\u001b[1;32m   1042\u001b[0m     \u001b[0;32mdef\u001b[0m \u001b[0m_failover_to_python\u001b[0m\u001b[0;34m(\u001b[0m\u001b[0mself\u001b[0m\u001b[0;34m)\u001b[0m\u001b[0;34m:\u001b[0m\u001b[0;34m\u001b[0m\u001b[0;34m\u001b[0m\u001b[0m\n",
            "\u001b[0;32m/usr/local/lib/python3.8/dist-packages/pandas/io/parsers/c_parser_wrapper.py\u001b[0m in \u001b[0;36m__init__\u001b[0;34m(self, src, **kwds)\u001b[0m\n\u001b[1;32m     49\u001b[0m \u001b[0;34m\u001b[0m\u001b[0m\n\u001b[1;32m     50\u001b[0m         \u001b[0;31m# open handles\u001b[0m\u001b[0;34m\u001b[0m\u001b[0;34m\u001b[0m\u001b[0;34m\u001b[0m\u001b[0m\n\u001b[0;32m---> 51\u001b[0;31m         \u001b[0mself\u001b[0m\u001b[0;34m.\u001b[0m\u001b[0m_open_handles\u001b[0m\u001b[0;34m(\u001b[0m\u001b[0msrc\u001b[0m\u001b[0;34m,\u001b[0m \u001b[0mkwds\u001b[0m\u001b[0;34m)\u001b[0m\u001b[0;34m\u001b[0m\u001b[0;34m\u001b[0m\u001b[0m\n\u001b[0m\u001b[1;32m     52\u001b[0m         \u001b[0;32massert\u001b[0m \u001b[0mself\u001b[0m\u001b[0;34m.\u001b[0m\u001b[0mhandles\u001b[0m \u001b[0;32mis\u001b[0m \u001b[0;32mnot\u001b[0m \u001b[0;32mNone\u001b[0m\u001b[0;34m\u001b[0m\u001b[0;34m\u001b[0m\u001b[0m\n\u001b[1;32m     53\u001b[0m \u001b[0;34m\u001b[0m\u001b[0m\n",
            "\u001b[0;32m/usr/local/lib/python3.8/dist-packages/pandas/io/parsers/base_parser.py\u001b[0m in \u001b[0;36m_open_handles\u001b[0;34m(self, src, kwds)\u001b[0m\n\u001b[1;32m    220\u001b[0m         \u001b[0mLet\u001b[0m \u001b[0mthe\u001b[0m \u001b[0mreaders\u001b[0m \u001b[0mopen\u001b[0m \u001b[0mIOHandles\u001b[0m \u001b[0mafter\u001b[0m \u001b[0mthey\u001b[0m \u001b[0mare\u001b[0m \u001b[0mdone\u001b[0m \u001b[0;32mwith\u001b[0m \u001b[0mtheir\u001b[0m \u001b[0mpotential\u001b[0m \u001b[0mraises\u001b[0m\u001b[0;34m.\u001b[0m\u001b[0;34m\u001b[0m\u001b[0;34m\u001b[0m\u001b[0m\n\u001b[1;32m    221\u001b[0m         \"\"\"\n\u001b[0;32m--> 222\u001b[0;31m         self.handles = get_handle(\n\u001b[0m\u001b[1;32m    223\u001b[0m             \u001b[0msrc\u001b[0m\u001b[0;34m,\u001b[0m\u001b[0;34m\u001b[0m\u001b[0;34m\u001b[0m\u001b[0m\n\u001b[1;32m    224\u001b[0m             \u001b[0;34m\"r\"\u001b[0m\u001b[0;34m,\u001b[0m\u001b[0;34m\u001b[0m\u001b[0;34m\u001b[0m\u001b[0m\n",
            "\u001b[0;32m/usr/local/lib/python3.8/dist-packages/pandas/io/common.py\u001b[0m in \u001b[0;36mget_handle\u001b[0;34m(path_or_buf, mode, encoding, compression, memory_map, is_text, errors, storage_options)\u001b[0m\n\u001b[1;32m    700\u001b[0m         \u001b[0;32mif\u001b[0m \u001b[0mioargs\u001b[0m\u001b[0;34m.\u001b[0m\u001b[0mencoding\u001b[0m \u001b[0;32mand\u001b[0m \u001b[0;34m\"b\"\u001b[0m \u001b[0;32mnot\u001b[0m \u001b[0;32min\u001b[0m \u001b[0mioargs\u001b[0m\u001b[0;34m.\u001b[0m\u001b[0mmode\u001b[0m\u001b[0;34m:\u001b[0m\u001b[0;34m\u001b[0m\u001b[0;34m\u001b[0m\u001b[0m\n\u001b[1;32m    701\u001b[0m             \u001b[0;31m# Encoding\u001b[0m\u001b[0;34m\u001b[0m\u001b[0;34m\u001b[0m\u001b[0;34m\u001b[0m\u001b[0m\n\u001b[0;32m--> 702\u001b[0;31m             handle = open(\n\u001b[0m\u001b[1;32m    703\u001b[0m                 \u001b[0mhandle\u001b[0m\u001b[0;34m,\u001b[0m\u001b[0;34m\u001b[0m\u001b[0;34m\u001b[0m\u001b[0m\n\u001b[1;32m    704\u001b[0m                 \u001b[0mioargs\u001b[0m\u001b[0;34m.\u001b[0m\u001b[0mmode\u001b[0m\u001b[0;34m,\u001b[0m\u001b[0;34m\u001b[0m\u001b[0;34m\u001b[0m\u001b[0m\n",
            "\u001b[0;31mFileNotFoundError\u001b[0m: [Errno 2] No such file or directory: 'news1M.csv'"
          ]
        }
      ]
    },
    {
      "cell_type": "code",
      "metadata": {
        "colab": {
          "base_uri": "https://localhost:8080/"
        },
        "id": "qiLWHilujGM-",
        "outputId": "bd660138-038e-41a5-9726-283d0c83e800"
      },
      "source": [
        "sym_spell = SymSpell(max_dictionary_edit_distance=2)\n",
        "sym_spell.load_dictionary(\"ko_50k_decomposed.txt\", 0, 1)\n",
        "sym_spell.load_bigram_dictionary(\"news1M_decomposed.txt\", term_index=0, count_index=2)"
      ],
      "execution_count": null,
      "outputs": [
        {
          "output_type": "stream",
          "name": "stderr",
          "text": [
            "2022-12-20 03:34:37,651: E symspellpy.symspellpy] Bigram dictionary file not found at news1M_decomposed.txt.\n",
            "ERROR:symspellpy.symspellpy:Bigram dictionary file not found at news1M_decomposed.txt.\n"
          ]
        },
        {
          "output_type": "execute_result",
          "data": {
            "text/plain": [
              "False"
            ]
          },
          "metadata": {},
          "execution_count": 85
        }
      ]
    },
    {
      "cell_type": "code",
      "metadata": {
        "colab": {
          "base_uri": "https://localhost:8080/"
        },
        "id": "j5D__tV8hAHx",
        "outputId": "8f307f7e-90ad-4ebe-ae6d-d8f4eaaaa2bd"
      },
      "source": [
        "term = \"안뇽하세요\"\n",
        "term = to_jamos(term)\n",
        "text = \"별 반개도 아깝다 욕나온다 이응경 길용우 연기생활이몇년인지..정말 발로해도 그것보단 낫겟다 납치.감금만반복반복..이드라마는 가족도없다 연기못하는사람만모엿네\"\n",
        "text = \"액션이없는데도재미있는몇안되는영화\"\n",
        "text = to_jamos(text)\n",
        "print(text)\n",
        "# suggestions = sym_spell.lookup(term, Verbosity.ALL, max_edit_distance=3)\n",
        "suggestions = sym_spell.word_segmentation(text, max_edit_distance=0)\n",
        "print(suggestions)\n",
        "print(join_jamos(suggestions.corrected_string))\n",
        "# for sugg in suggestions:\n",
        "#   print(sugg)\n",
        "  # print(join_jamos(sugg))"
      ],
      "execution_count": null,
      "outputs": [
        {
          "output_type": "stream",
          "name": "stdout",
          "text": [
            "ㅇㅐㄱㅅㅕㄴㅇㅣㅇㅓㅄㄴㅡㄴㄷㅔㄷㅗㅈㅐㅁㅣㅇㅣㅆㄴㅡㄴㅁㅕㅊㅇㅏㄴㄷㅚㄴㅡㄴㅇㅕㅇㅎㅘ\n",
            "Composition(segmented_string='애 ᄀ셔ᄂ이어ᄡ느ᄂ데도재미이ᄊ느ᄂ며ᄎ아ᄂ되느ᄂ여ᄋ화', corrected_string='애 ᄀ셔ᄂ이어ᄡ느ᄂ데도재미이ᄊ느ᄂ며ᄎ아ᄂ되느ᄂ여ᄋ화', distance_sum=28, log_prob_sum=-49.0213699926)\n",
            "애 ᄀ셔ᄂ이어ᄡ느ᄂ데도재미이ᄊ느ᄂ며ᄎ아ᄂ되느ᄂ여ᄋ화\n"
          ]
        }
      ]
    },
    {
      "cell_type": "code",
      "metadata": {
        "colab": {
          "base_uri": "https://localhost:8080/",
          "height": 35
        },
        "id": "PTwZnaoABdLQ",
        "outputId": "21384717-5755-44dc-ced7-8b7436b38fcb"
      },
      "source": [
        "import unicodedata\n",
        "\n",
        "# unicodedata.normalize(\"NFKC\", text)\n",
        "text.replace(\"\\u002D\", \"\")"
      ],
      "execution_count": null,
      "outputs": [
        {
          "output_type": "execute_result",
          "data": {
            "text/plain": [
              "'ㅇㅐㄱㅅㅕㄴㅇㅣㅇㅓㅄㄴㅡㄴㄷㅔㄷㅗㅈㅐㅁㅣㅇㅣㅆㄴㅡㄴㅁㅕㅊㅇㅏㄴㄷㅚㄴㅡㄴㅇㅕㅇㅎㅘ'"
            ],
            "application/vnd.google.colaboratory.intrinsic+json": {
              "type": "string"
            }
          },
          "metadata": {},
          "execution_count": 87
        }
      ]
    },
    {
      "cell_type": "code",
      "metadata": {
        "id": "fgqv1wrLXV1C"
      },
      "source": [
        "!pip install symspellpy-ko -q\n"
      ],
      "execution_count": null,
      "outputs": []
    },
    {
      "cell_type": "code",
      "metadata": {
        "id": "OzgpXm9sXXCh"
      },
      "source": [
        "from symspellpy_ko import KoSymSpell, Verbosity\n",
        "\n",
        "sym_spell = KoSymSpell()\n",
        "sym_spell.load_korean_dictionary(decompose_korean=False, load_bigrams=True)"
      ],
      "execution_count": null,
      "outputs": []
    },
    {
      "cell_type": "code",
      "metadata": {
        "id": "jQff6H1WXoO3",
        "outputId": "891b8412-3005-4128-b939-d84cf252efe6",
        "colab": {
          "base_uri": "https://localhost:8080/"
        }
      },
      "source": [
        "term = \"안뇽하세요\"\n",
        "for suggestion in sym_spell.lookup(term, Verbosity.ALL):\n",
        "  print(suggestion.term, suggestion.distance, suggestion.count)\n",
        "print(len(sym_spell.lookup(term, Verbosity.ALL)))"
      ],
      "execution_count": null,
      "outputs": [
        {
          "output_type": "stream",
          "name": "stdout",
          "text": [
            "안녕하세요 1 3692\n",
            "안심하세요 1 18\n",
            "하세요 2 1055\n",
            "생각하세요 2 247\n",
            "진정하세요 2 187\n",
            "조심하세요 2 165\n",
            "말씀하세요 2 119\n",
            "그만하세요 2 103\n",
            "기억하세요 2 96\n",
            "말하세요 2 84\n",
            "뭐하세요 2 72\n",
            "좋아하세요 2 62\n",
            "계속하세요 2 61\n",
            "원하세요 2 56\n",
            "용서하세요 2 54\n",
            "준비하세요 2 51\n",
            "시작하세요 2 42\n",
            "전화하세요 2 35\n",
            "얘기하세요 2 32\n",
            "수고하세요 2 31\n",
            "필요하세요 2 31\n",
            "농담하세요 2 24\n",
            "집중하세요 2 21\n",
            "호출하세요 2 21\n",
            "주목하세요 2 20\n",
            "연락하세요 2 20\n",
            "사랑하세요 2 20\n",
            "일하세요 2 19\n",
            "명심하세요 2 19\n",
            "침착하세요 2 16\n",
            "주의하세요 2 16\n",
            "대단하세요 2 15\n",
            "응답하세요 2 15\n",
            "무시하세요 2 12\n",
            "확인하세요 2 12\n",
            "구하세요 2 12\n",
            "행동하세요 2 12\n",
            "대기하세요 2 11\n",
            "잘하세요 2 11\n",
            "확신하세요 2 11\n",
            "못하세요 2 11\n",
            "키스하세요 2 11\n",
            "투표하세요 2 10\n",
            "감상하세요 2 10\n",
            "전하세요 2 10\n",
            "서명하세요 2 10\n",
            "정숙하세요 2 10\n",
            "사인하세요 2 10\n",
            "싫어하세요 2 10\n",
            "49\n"
          ]
        }
      ]
    },
    {
      "cell_type": "code",
      "metadata": {
        "colab": {
          "base_uri": "https://localhost:8080/",
          "height": 394
        },
        "id": "yXe2KJ4CXqAJ",
        "outputId": "6fe6cc98-155f-4d42-a4d0-98e4f368cfca"
      },
      "source": [
        "# text = \"별 반개도 아깝다 욕나온다 이응경 길용우 연기생활이몇년인지..정말 발로해도 그것보단 낫겟다 납치.감금만반복반복..이드라마는 가족도없다 연기못하는사람만모엿네\"\n",
        "text = \"몇년인지\"\n",
        "for suggestion in sym_spell.lookup_compound(text, max_edit_distance=2):\n",
        "  print(suggestion.term, suggestion.distance, suggestion.count)"
      ],
      "execution_count": null,
      "outputs": [
        {
          "output_type": "error",
          "ename": "TypeError",
          "evalue": "ignored",
          "traceback": [
            "\u001b[0;31m---------------------------------------------------------------------------\u001b[0m",
            "\u001b[0;31mTypeError\u001b[0m                                 Traceback (most recent call last)",
            "\u001b[0;32m<ipython-input-91-7a23019c7914>\u001b[0m in \u001b[0;36m<module>\u001b[0;34m\u001b[0m\n\u001b[1;32m      1\u001b[0m \u001b[0;31m# text = \"별 반개도 아깝다 욕나온다 이응경 길용우 연기생활이몇년인지..정말 발로해도 그것보단 낫겟다 납치.감금만반복반복..이드라마는 가족도없다 연기못하는사람만모엿네\"\u001b[0m\u001b[0;34m\u001b[0m\u001b[0;34m\u001b[0m\u001b[0;34m\u001b[0m\u001b[0m\n\u001b[1;32m      2\u001b[0m \u001b[0mtext\u001b[0m \u001b[0;34m=\u001b[0m \u001b[0;34m\"몇년인지\"\u001b[0m\u001b[0;34m\u001b[0m\u001b[0;34m\u001b[0m\u001b[0m\n\u001b[0;32m----> 3\u001b[0;31m \u001b[0;32mfor\u001b[0m \u001b[0msuggestion\u001b[0m \u001b[0;32min\u001b[0m \u001b[0msym_spell\u001b[0m\u001b[0;34m.\u001b[0m\u001b[0mlookup_compound\u001b[0m\u001b[0;34m(\u001b[0m\u001b[0mtext\u001b[0m\u001b[0;34m,\u001b[0m \u001b[0mmax_edit_distance\u001b[0m\u001b[0;34m=\u001b[0m\u001b[0;36m2\u001b[0m\u001b[0;34m)\u001b[0m\u001b[0;34m:\u001b[0m\u001b[0;34m\u001b[0m\u001b[0;34m\u001b[0m\u001b[0m\n\u001b[0m\u001b[1;32m      4\u001b[0m   \u001b[0mprint\u001b[0m\u001b[0;34m(\u001b[0m\u001b[0msuggestion\u001b[0m\u001b[0;34m.\u001b[0m\u001b[0mterm\u001b[0m\u001b[0;34m,\u001b[0m \u001b[0msuggestion\u001b[0m\u001b[0;34m.\u001b[0m\u001b[0mdistance\u001b[0m\u001b[0;34m,\u001b[0m \u001b[0msuggestion\u001b[0m\u001b[0;34m.\u001b[0m\u001b[0mcount\u001b[0m\u001b[0;34m)\u001b[0m\u001b[0;34m\u001b[0m\u001b[0;34m\u001b[0m\u001b[0m\n",
            "\u001b[0;32m/usr/local/lib/python3.8/dist-packages/symspellpy_ko/symspell.py\u001b[0m in \u001b[0;36mlookup_compound\u001b[0;34m(self, phrase, max_edit_distance, ignore_non_words, transfer_casing, split_phrase_by_space, ignore_term_with_digits)\u001b[0m\n\u001b[1;32m    168\u001b[0m             \u001b[0mphrase\u001b[0m \u001b[0;34m=\u001b[0m \u001b[0msplit_syllables\u001b[0m\u001b[0;34m(\u001b[0m\u001b[0mphrase\u001b[0m\u001b[0;34m)\u001b[0m\u001b[0;34m\u001b[0m\u001b[0;34m\u001b[0m\u001b[0m\n\u001b[1;32m    169\u001b[0m \u001b[0;34m\u001b[0m\u001b[0m\n\u001b[0;32m--> 170\u001b[0;31m         result = super().lookup_compound(\n\u001b[0m\u001b[1;32m    171\u001b[0m             \u001b[0mphrase\u001b[0m\u001b[0;34m,\u001b[0m\u001b[0;34m\u001b[0m\u001b[0;34m\u001b[0m\u001b[0m\n\u001b[1;32m    172\u001b[0m             \u001b[0mmax_edit_distance\u001b[0m\u001b[0;34m,\u001b[0m\u001b[0;34m\u001b[0m\u001b[0;34m\u001b[0m\u001b[0m\n",
            "\u001b[0;31mTypeError\u001b[0m: lookup_compound() got an unexpected keyword argument 'split_phrase_by_space'"
          ]
        }
      ]
    },
    {
      "cell_type": "code",
      "metadata": {
        "colab": {
          "base_uri": "https://localhost:8080/"
        },
        "id": "KmJbtE1FX65o",
        "outputId": "464a37e0-47cc-4fc6-9e68-e018a35198ae"
      },
      "source": [
        "# text = \"별 반개도 아깝다 욕나온다 이응경 길용우 연기생활이몇년인지..정말 발로해도 그것보단 낫겟다 납치.감금만반복반복..이드라마는 가족도없다 연기못하는사람만모엿네\"\n",
        "text = \"아버지가방에들어가신다\"\n",
        "comp = sym_spell.word_segmentation(text, max_edit_distance=2)\n",
        "print(comp.corrected_string)"
      ],
      "execution_count": null,
      "outputs": [
        {
          "output_type": "stream",
          "name": "stdout",
          "text": [
            "아버지가 들어가 다\n"
          ]
        }
      ]
    },
    {
      "cell_type": "code",
      "metadata": {
        "colab": {
          "base_uri": "https://localhost:8080/"
        },
        "id": "ZO_Hx9mPYSqc",
        "outputId": "1baff1ce-aada-43ed-dd38-514258e9b3f2"
      },
      "source": [
        "# !whereis python\n",
        "# !ls /usr/bin/python | grep python\n",
        "# !python -m site\n",
        "!ls /usr/local/lib/python3.7/dist-packages/symspellpy_ko/"
      ],
      "execution_count": null,
      "outputs": [
        {
          "output_type": "stream",
          "name": "stdout",
          "text": [
            "ls: cannot access '/usr/local/lib/python3.7/dist-packages/symspellpy_ko/': No such file or directory\n"
          ]
        }
      ]
    },
    {
      "cell_type": "code",
      "source": [
        "from hangul_utils import split_syllable_char, split_syllables, join_jamos\n",
        "import pandas as pd"
      ],
      "metadata": {
        "id": "zwvorT8-xiqa"
      },
      "execution_count": null,
      "outputs": []
    },
    {
      "cell_type": "code",
      "source": [
        "vocab = pd.read_csv('typoingredient.txt', sep = \" \", names = [\"term\", \"count\"])\n",
        "vocab.head()\n",
        "vocab.info()\n",
        "vocab = vocab.dropna(axis=0)"
      ],
      "metadata": {
        "colab": {
          "base_uri": "https://localhost:8080/"
        },
        "id": "2NJLSbuDdg6t",
        "outputId": "f839cf54-b65f-4d96-824b-eb191d8c5e85"
      },
      "execution_count": null,
      "outputs": [
        {
          "output_type": "stream",
          "name": "stdout",
          "text": [
            "<class 'pandas.core.frame.DataFrame'>\n",
            "RangeIndex: 20715 entries, 0 to 20714\n",
            "Data columns (total 2 columns):\n",
            " #   Column  Non-Null Count  Dtype \n",
            "---  ------  --------------  ----- \n",
            " 0   term    20715 non-null  object\n",
            " 1   count   20715 non-null  int64 \n",
            "dtypes: int64(1), object(1)\n",
            "memory usage: 323.8+ KB\n"
          ]
        }
      ]
    },
    {
      "cell_type": "code",
      "source": [
        "vocab.term = vocab.term.map(to_jamos)\n",
        "vocab.to_csv(\"typoingredient_decomposed.txt\", sep=\" \", header=None, index=None)\n",
        "vocab.head()"
      ],
      "metadata": {
        "colab": {
          "base_uri": "https://localhost:8080/",
          "height": 206
        },
        "id": "FL23tlWDl1g2",
        "outputId": "42ebafff-d1b9-4cc5-947f-9f3e5d8b5b5e"
      },
      "execution_count": null,
      "outputs": [
        {
          "output_type": "execute_result",
          "data": {
            "text/plain": [
              "        term  count\n",
              "0       ㄷㅜㅂㅜ   5934\n",
              "1     ㄷㅏㅇㄱㅡㄴ  13820\n",
              "2       ㄱㅗㅊㅜ   2015\n",
              "3  ㅂㅡㄹㅗㅋㅗㄹㄹㅣ   1212\n",
              "4       ㅅㅐㅇㅜ   2084"
            ],
            "text/html": [
              "\n",
              "  <div id=\"df-b5b222d0-d813-4a3a-99c9-b4a8afecbb9c\">\n",
              "    <div class=\"colab-df-container\">\n",
              "      <div>\n",
              "<style scoped>\n",
              "    .dataframe tbody tr th:only-of-type {\n",
              "        vertical-align: middle;\n",
              "    }\n",
              "\n",
              "    .dataframe tbody tr th {\n",
              "        vertical-align: top;\n",
              "    }\n",
              "\n",
              "    .dataframe thead th {\n",
              "        text-align: right;\n",
              "    }\n",
              "</style>\n",
              "<table border=\"1\" class=\"dataframe\">\n",
              "  <thead>\n",
              "    <tr style=\"text-align: right;\">\n",
              "      <th></th>\n",
              "      <th>term</th>\n",
              "      <th>count</th>\n",
              "    </tr>\n",
              "  </thead>\n",
              "  <tbody>\n",
              "    <tr>\n",
              "      <th>0</th>\n",
              "      <td>ㄷㅜㅂㅜ</td>\n",
              "      <td>5934</td>\n",
              "    </tr>\n",
              "    <tr>\n",
              "      <th>1</th>\n",
              "      <td>ㄷㅏㅇㄱㅡㄴ</td>\n",
              "      <td>13820</td>\n",
              "    </tr>\n",
              "    <tr>\n",
              "      <th>2</th>\n",
              "      <td>ㄱㅗㅊㅜ</td>\n",
              "      <td>2015</td>\n",
              "    </tr>\n",
              "    <tr>\n",
              "      <th>3</th>\n",
              "      <td>ㅂㅡㄹㅗㅋㅗㄹㄹㅣ</td>\n",
              "      <td>1212</td>\n",
              "    </tr>\n",
              "    <tr>\n",
              "      <th>4</th>\n",
              "      <td>ㅅㅐㅇㅜ</td>\n",
              "      <td>2084</td>\n",
              "    </tr>\n",
              "  </tbody>\n",
              "</table>\n",
              "</div>\n",
              "      <button class=\"colab-df-convert\" onclick=\"convertToInteractive('df-b5b222d0-d813-4a3a-99c9-b4a8afecbb9c')\"\n",
              "              title=\"Convert this dataframe to an interactive table.\"\n",
              "              style=\"display:none;\">\n",
              "        \n",
              "  <svg xmlns=\"http://www.w3.org/2000/svg\" height=\"24px\"viewBox=\"0 0 24 24\"\n",
              "       width=\"24px\">\n",
              "    <path d=\"M0 0h24v24H0V0z\" fill=\"none\"/>\n",
              "    <path d=\"M18.56 5.44l.94 2.06.94-2.06 2.06-.94-2.06-.94-.94-2.06-.94 2.06-2.06.94zm-11 1L8.5 8.5l.94-2.06 2.06-.94-2.06-.94L8.5 2.5l-.94 2.06-2.06.94zm10 10l.94 2.06.94-2.06 2.06-.94-2.06-.94-.94-2.06-.94 2.06-2.06.94z\"/><path d=\"M17.41 7.96l-1.37-1.37c-.4-.4-.92-.59-1.43-.59-.52 0-1.04.2-1.43.59L10.3 9.45l-7.72 7.72c-.78.78-.78 2.05 0 2.83L4 21.41c.39.39.9.59 1.41.59.51 0 1.02-.2 1.41-.59l7.78-7.78 2.81-2.81c.8-.78.8-2.07 0-2.86zM5.41 20L4 18.59l7.72-7.72 1.47 1.35L5.41 20z\"/>\n",
              "  </svg>\n",
              "      </button>\n",
              "      \n",
              "  <style>\n",
              "    .colab-df-container {\n",
              "      display:flex;\n",
              "      flex-wrap:wrap;\n",
              "      gap: 12px;\n",
              "    }\n",
              "\n",
              "    .colab-df-convert {\n",
              "      background-color: #E8F0FE;\n",
              "      border: none;\n",
              "      border-radius: 50%;\n",
              "      cursor: pointer;\n",
              "      display: none;\n",
              "      fill: #1967D2;\n",
              "      height: 32px;\n",
              "      padding: 0 0 0 0;\n",
              "      width: 32px;\n",
              "    }\n",
              "\n",
              "    .colab-df-convert:hover {\n",
              "      background-color: #E2EBFA;\n",
              "      box-shadow: 0px 1px 2px rgba(60, 64, 67, 0.3), 0px 1px 3px 1px rgba(60, 64, 67, 0.15);\n",
              "      fill: #174EA6;\n",
              "    }\n",
              "\n",
              "    [theme=dark] .colab-df-convert {\n",
              "      background-color: #3B4455;\n",
              "      fill: #D2E3FC;\n",
              "    }\n",
              "\n",
              "    [theme=dark] .colab-df-convert:hover {\n",
              "      background-color: #434B5C;\n",
              "      box-shadow: 0px 1px 3px 1px rgba(0, 0, 0, 0.15);\n",
              "      filter: drop-shadow(0px 1px 2px rgba(0, 0, 0, 0.3));\n",
              "      fill: #FFFFFF;\n",
              "    }\n",
              "  </style>\n",
              "\n",
              "      <script>\n",
              "        const buttonEl =\n",
              "          document.querySelector('#df-b5b222d0-d813-4a3a-99c9-b4a8afecbb9c button.colab-df-convert');\n",
              "        buttonEl.style.display =\n",
              "          google.colab.kernel.accessAllowed ? 'block' : 'none';\n",
              "\n",
              "        async function convertToInteractive(key) {\n",
              "          const element = document.querySelector('#df-b5b222d0-d813-4a3a-99c9-b4a8afecbb9c');\n",
              "          const dataTable =\n",
              "            await google.colab.kernel.invokeFunction('convertToInteractive',\n",
              "                                                     [key], {});\n",
              "          if (!dataTable) return;\n",
              "\n",
              "          const docLinkHtml = 'Like what you see? Visit the ' +\n",
              "            '<a target=\"_blank\" href=https://colab.research.google.com/notebooks/data_table.ipynb>data table notebook</a>'\n",
              "            + ' to learn more about interactive tables.';\n",
              "          element.innerHTML = '';\n",
              "          dataTable['output_type'] = 'display_data';\n",
              "          await google.colab.output.renderOutput(dataTable, element);\n",
              "          const docLink = document.createElement('div');\n",
              "          docLink.innerHTML = docLinkHtml;\n",
              "          element.appendChild(docLink);\n",
              "        }\n",
              "      </script>\n",
              "    </div>\n",
              "  </div>\n",
              "  "
            ]
          },
          "metadata": {},
          "execution_count": 336
        }
      ]
    },
    {
      "cell_type": "code",
      "source": [
        "sym_spell = SymSpell(max_dictionary_edit_distance = 3)\n",
        "dictionary_path = 'typoingredient_decomposed.txt'\n",
        "sym_spell.load_dictionary(dictionary_path, 0, 1)\n",
        "\n",
        "term = '깻잎'\n",
        "term = split_syllables(term)\n",
        "\n",
        "suggestions = sym_spell.lookup(term, Verbosity.ALL, max_edit_distance = 3)\n",
        "for sugg in suggestions :\n",
        "  print(sugg.term, join_jamos(sugg.term), sugg.distance, sugg.count)"
      ],
      "metadata": {
        "id": "InI1gfYVz80v",
        "outputId": "46fa4663-5335-4c0f-e645-ec709b4b89b7",
        "colab": {
          "base_uri": "https://localhost:8080/"
        }
      },
      "execution_count": null,
      "outputs": [
        {
          "output_type": "stream",
          "name": "stdout",
          "text": [
            "ㄲㅐㅅㅇㅣㅍ 깻잎 0 3688\n",
            "ㄲㅔㅅㅇㅣㅍ 껫잎 1 2\n",
            "ㄲㅐㅇㅣㅍ 깨잎 1 1\n",
            "ㄲㅐㅅㄴㅣㅍ 깻닢 1 1\n",
            "ㄲㅐㅅㅇㅏㅍ 깻앞 1 1\n",
            "ㄲㅐㅅㅇㅣㅍㅊㅐ 깻잎채 2 10\n",
            "ㅊㅐㅅㅗㅇㅣㅍ 채소잎 2 2\n",
            "ㄲㅐㅅㅇㅣㅍㅈㅣ 깻잎지 2 1\n",
            "ㄲㅗㅊㅇㅣㅍ 꽃잎 2 1\n",
            "ㅁㅐㅅㅣㄹ 매실 3 532\n",
            "ㄴㅐㅇㅇㅣ 냉이 3 442\n",
            "ㅂㅐㅊㅜㅇㅣㅍ 배추잎 3 161\n",
            "ㅇㅣㅍ 잎 3 150\n",
            "ㅂㅐㅊㅜㅅㅇㅣㅍ 배춧잎 3 149\n",
            "ㄲㅐㅅㅇㅣㅍㅅㅜㄴ 깻잎순 3 85\n",
            "ㄷㅐㅍㅏㅇㅣㅍ 대파잎 3 50\n",
            "ㅍㅐㅇㅇㅣ 팽이 3 40\n",
            "ㄲㅡㅀㅇㅣㄴ 끓인 3 36\n",
            "ㅇㅕㄴㅇㅣㅍ 연잎 3 29\n",
            "ㄲㅐㅅㅅㅜㄴ 깻순 3 18\n",
            "ㅃㅗㅇㅇㅣㅍ 뽕잎 3 15\n",
            "ㄲㅐㅅㅜㄴ 깨순 3 15\n",
            "ㄷㅡㄹㄲㅐㅅㅇㅣㅍ 들깻잎 3 12\n",
            "ㅋㅗㅇㅇㅣㅍ 콩잎 3 12\n",
            "ㄱㅓㅌㅇㅣㅍ 겉잎 3 12\n",
            "ㅅㅗㄹㅇㅣㅍ 솔잎 3 9\n",
            "ㄷㅐㅅㅣㄴ 대신 3 8\n",
            "ㄲㅐㅅㅇㅣㅍㅈㅓㄴ 깻잎전 3 6\n",
            "ㅋㅡㄴㅇㅣㅍ 큰잎 3 6\n",
            "ㅅㅗㄱㅇㅣㅍ 속잎 3 5\n",
            "ㄱㅐㅇㅣㄴ 개인 3 5\n",
            "ㄲㅐㄲㅡㅅㅇㅣ 깨끗이 3 4\n",
            "ㄲㅡㅀㅇㅣㄹ 끓일 3 3\n",
            "ㄱㅗㅅㅜㅇㅣㅍ 고수잎 3 2\n",
            "ㅆㅜㄱㅇㅣㅍ 쑥잎 3 2\n",
            "ㅂㅕㅅㅈㅣㅍ 볏짚 3 2\n",
            "ㄲㅐㅅㅗㅅㅡ 깨소스 3 2\n",
            "ㄲㅐㅅㅇㅣㅍㄷㅡㅇ 깻잎등 3 1\n",
            "ㅁㅗㅅㅣㅇㅣㅍ 모시잎 3 1\n",
            "ㅆㅓㄴㄲㅐㅅㅇㅣㅍ 썬깻잎 3 1\n",
            "ㅋㅡㄴㄲㅐㅅㅇㅣㅍ 큰깻잎 3 1\n",
            "ㅍㅏㅇㅣㅍ 파잎 3 1\n",
            "ㅎㅗㄹㅇㅣㅍ 홀잎 3 1\n",
            "ㅅㅐㅇㅅㅣㄱ 생식 3 1\n",
            "ㅂㅐㄱㅇㅣㄹ 백일 3 1\n",
            "ㅊㅐㅅㅣㄱ 채식 3 1\n",
            "ㅊㅐㅅㅣㅁ 채심 3 1\n",
            "ㄲㅐㅇㅘ 깨와 3 1\n",
            "ㄲㅐㅅㄷㅏㄴ 깻단 3 1\n",
            "ㄲㅐㅅㅗ 깨소 3 1\n"
          ]
        }
      ]
    },
    {
      "cell_type": "code",
      "source": [
        "import pickle\n",
        "\n",
        "with open('gom_typo.pkl','rb') as f:\n",
        "  gom = pickle.load(f)"
      ],
      "metadata": {
        "id": "ldmZ5HFrmxH7"
      },
      "execution_count": null,
      "outputs": []
    },
    {
      "cell_type": "code",
      "source": [
        "for g in gom:\n",
        "  idx = g.index('있어요')\n",
        "  del g[0:idx + 1]\n",
        "\n",
        "\n",
        "for g in gom:\n",
        "  if '일은' in g :\n",
        "    idx = g.index('일은')\n",
        "    del g[idx :]\n",
        "\n",
        "  elif 'ㅇㅇ' in g :\n",
        "    idx = g.index('ㅇㅇ')\n",
        "    del g[idx :]\n",
        "  \n",
        "  else:\n",
        "    pass"
      ],
      "metadata": {
        "id": "gtz2plizJU1G"
      },
      "execution_count": null,
      "outputs": []
    },
    {
      "cell_type": "code",
      "source": [
        "gom"
      ],
      "metadata": {
        "colab": {
          "base_uri": "https://localhost:8080/"
        },
        "id": "DYK6va7nFS54",
        "outputId": "a00acf5d-e12e-43df-ca05-3ef135a93fde"
      },
      "execution_count": null,
      "outputs": [
        {
          "output_type": "execute_result",
          "data": {
            "text/plain": [
              "[['쇠고기',\n",
              "  '새송이버섯',\n",
              "  '표고버섯',\n",
              "  '초간장소스',\n",
              "  '칠리소스',\n",
              "  '샤브용육수',\n",
              "  '생면',\n",
              "  '칼국수면',\n",
              "  '숙면',\n",
              "  '감자수제비',\n",
              "  '껏잎',\n",
              "  '팽이버섯',\n",
              "  '배추',\n",
              "  '청경채'],\n",
              " ['순두부', '애호박', '소고기', '팽이버섯', '대파', '순두찌개용', '소스'],\n",
              " ['애호박', '양파', '대파', '청양고추', '두부', '팽이버섯', '된장찌개용소스'],\n",
              " ['다지고기', '모돔햄', '대파', '양파', '양배추', '라면사리', '부대찌개소스', '김치', '슬라이스', '치즈'],\n",
              " ['미역', '쇠고기', '미역국용', '육수', '미역국용', '볶음', '맛기름'],\n",
              " ['두부', '쇠고기', '된장찌개용', '소스', '팽이버섯', '청양고추', '애호박', '대파', '감자', '티토'],\n",
              " ['곱창비법',\n",
              "  '전골용육수',\n",
              "  '두부',\n",
              "  '라면사리',\n",
              "  '배추',\n",
              "  '쇠고기',\n",
              "  '양파',\n",
              "  '새송이버섯',\n",
              "  '느타리버섯',\n",
              "  '대파',\n",
              "  '표고버섯',\n",
              "  '베트남고추'],\n",
              " ['쇠고기', '배추', '생면', '칼국수면', '소간장소스', '대파', '팽이버섯', '느타리버섯', '표고버섯', '샤브용육수'],\n",
              " ['두부', '청국장', '애호박', '돼지고기', '대파', '양파', '혼합장'],\n",
              " ['해물모듬',\n",
              "  '누릉지탕소스',\n",
              "  '잡쌀한누릉지',\n",
              "  '표고버섯',\n",
              "  '새송이버섯',\n",
              "  '느타리버섯',\n",
              "  '정경채',\n",
              "  '배추',\n",
              "  '대파',\n",
              "  '단호박'],\n",
              " ['쇠고기',\n",
              "  '양파',\n",
              "  '홍피망',\n",
              "  '정피망',\n",
              "  '쥬키니호박',\n",
              "  '총알새송이버섯',\n",
              "  '방울토마토',\n",
              "  '마늘종',\n",
              "  '단호박',\n",
              "  '잡스테이크소스',\n",
              "  '혼합식용유',\n",
              "  '허브맛솔트시즈닝'],\n",
              " ['쇠고기',\n",
              "  '쥬키니호박',\n",
              "  '방울토마토',\n",
              "  '홍파프리카',\n",
              "  '청피망',\n",
              "  '마늘종',\n",
              "  '단호박',\n",
              "  '레드와인',\n",
              "  '스테이크소스',\n",
              "  '대두유',\n",
              "  '몬트리얼스테이크씨즈닝',\n",
              "  '양파',\n",
              "  '조리방법'],\n",
              " ['오향보쌈', '부추', '마늘소스', '새우젖소스', '보쌈무', '고기와함께', '먹는외사비쌈무'],\n",
              " ['중새우',\n",
              "  '감자수제비',\n",
              "  '바케트빵',\n",
              "  '새송이버섯',\n",
              "  '허브맛솔트시즈닝',\n",
              "  '파마산',\n",
              "  '치즈',\n",
              "  '베트남',\n",
              "  '고추',\n",
              "  '마늘',\n",
              "  '브로콜리',\n",
              "  '올리브유'],\n",
              " ['쇠고기',\n",
              "  '숙면',\n",
              "  '생중화면',\n",
              "  '포두부',\n",
              "  '흑목이버섯',\n",
              "  '새송이버섯',\n",
              "  '느타리버섯',\n",
              "  '정경채',\n",
              "  '배추',\n",
              "  '대파',\n",
              "  '마라탕',\n",
              "  '고추맛',\n",
              "  '기름',\n",
              "  '지마장소스']]"
            ]
          },
          "metadata": {},
          "execution_count": 340
        }
      ]
    },
    {
      "cell_type": "code",
      "source": [
        "sym_spell = SymSpell(max_dictionary_edit_distance = 3)\n",
        "dictionary_path = 'typoingredient_decomposed.txt'\n",
        "sym_spell.load_dictionary(dictionary_path, 0, 1)\n",
        "\n",
        "gom_typo_fix = []\n",
        "for g in gom:\n",
        "  g_typo_fix = []\n",
        "  for term in g:\n",
        "    term = split_syllables(term) \n",
        "    suggestions = sym_spell.lookup(term, Verbosity.ALL, max_edit_distance = 3)\n",
        "    for sugg in suggestions :\n",
        "      if sugg.distance < 2:\n",
        "        typofix = join_jamos(sugg.term)\n",
        "        g_typo_fix.append(typofix)\n",
        "        break\n",
        "      else:\n",
        "        pass\n",
        "  gom_typo_fix.append(g_typo_fix)"
      ],
      "metadata": {
        "id": "Ab7U-wPx4yhk"
      },
      "execution_count": null,
      "outputs": []
    },
    {
      "cell_type": "code",
      "source": [
        "import pickle\n",
        "\n",
        "with open('gom_typo_fix.pkl','wb') as f:\n",
        "    pickle.dump(gom_typo_fix,f)"
      ],
      "metadata": {
        "id": "r6G8VsA8RT9U"
      },
      "execution_count": null,
      "outputs": []
    },
    {
      "cell_type": "code",
      "source": [],
      "metadata": {
        "id": "AxIe1rRjTsgY"
      },
      "execution_count": null,
      "outputs": []
    }
  ]
}