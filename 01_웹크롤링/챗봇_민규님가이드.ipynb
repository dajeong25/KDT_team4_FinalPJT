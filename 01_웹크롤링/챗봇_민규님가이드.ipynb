{
 "cells": [
  {
   "attachments": {},
   "cell_type": "markdown",
   "metadata": {},
   "source": [
    "# 민규님 가이드"
   ]
  },
  {
   "cell_type": "code",
   "execution_count": null,
   "metadata": {},
   "outputs": [],
   "source": [
    "#demo.py\n",
    "\n",
    "from chatbot import Chat, register_call\n",
    "import wikipedia\n",
    "import os\n",
    "import warnings\n",
    "warnings.filterwarnings(\"ignore\")\n",
    "\n",
    "# 기본설정이 영어로 되어있어서 한국어 사전으로 바꿈\n",
    "wikipedia.set_lang('ko')\n",
    "\n",
    "@register_call(\"whoIs\")\n",
    "def who_is(session, query):\n",
    "    try:\n",
    "        return wikipedia.summary(query)\n",
    "    except Exception:\n",
    "        for new_query in wikipedia.search(query):\n",
    "            try:\n",
    "                return wikipedia.summary(new_query)\n",
    "            except Exception:\n",
    "                pass\n",
    "    return \"'\" + query + \"' 가 뭔지 잘 모르겠어요.\"\n",
    "\n",
    "\n",
    "first_question=\"가격엔 서비스입니다. 무엇을 도와드릴까요?\"\n",
    "Chat(\"proje/demo.template\").converse(first_question)"
   ]
  },
  {
   "cell_type": "code",
   "execution_count": null,
   "metadata": {},
   "outputs": [],
   "source": [
    "#demo.template\n",
    "\n",
    "{% block %}\n",
    "    {% client %}(?P<query>.*)(가 뭐야?|이 뭐야?|에 대해 알려줘|의 사전|의 의미|의 뜻){% endclient %}\n",
    "    {% response %}{% call whoIs: %query %}{% endresponse %}\n",
    "{% endblock %}\n",
    "{% block %}\n",
    "    {% client %}(채소 가격|야채 가격|농산품 가격|농산물 가격){% endclient %}\n",
    "    {% response %}1. ㅇㅇㅇ 2. ㄹㄹㄹ{% endresponse %}\n",
    "{% endblock %}"
   ]
  },
  {
   "cell_type": "code",
   "execution_count": null,
   "metadata": {},
   "outputs": [],
   "source": []
  }
 ],
 "metadata": {
  "kernelspec": {
   "display_name": "base",
   "language": "python",
   "name": "python3"
  },
  "language_info": {
   "name": "python",
   "version": "3.9.12 (main, Apr  4 2022, 05:22:27) [MSC v.1916 64 bit (AMD64)]"
  },
  "orig_nbformat": 4,
  "vscode": {
   "interpreter": {
    "hash": "631926b96873d2007fbe5ba14401cac9ce99e5e76ded0bffc18be58f3fefa61b"
   }
  }
 },
 "nbformat": 4,
 "nbformat_minor": 2
}
